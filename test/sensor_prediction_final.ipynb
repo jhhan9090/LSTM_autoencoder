{
 "cells": [
  {
   "cell_type": "markdown",
   "id": "f7e36bfc",
   "metadata": {
    "id": "f7e36bfc"
   },
   "source": [
    "## Module Import "
   ]
  },
  {
   "cell_type": "code",
   "execution_count": 1,
   "id": "f521f332",
   "metadata": {
    "id": "f521f332"
   },
   "outputs": [],
   "source": [
    "import pandas as pd\n",
    "import numpy as np\n",
    "import matplotlib.pyplot as plt\n",
    "#import seaborn as sns\n",
    "import warnings\n",
    "import os\n",
    "\n",
    "%matplotlib inline\n",
    "warnings.filterwarnings('ignore')"
   ]
  },
  {
   "cell_type": "markdown",
   "id": "e16fabe0",
   "metadata": {
    "id": "e16fabe0"
   },
   "source": [
    "## Data Load"
   ]
  },
  {
   "cell_type": "code",
   "execution_count": 2,
   "id": "848fa5c2",
   "metadata": {},
   "outputs": [],
   "source": [
    "train = pd.read_csv('D:/data/새 폴더/_Noise data/Si_ 3 times0_1_11_30000.csv',\n",
    "                    encoding = 'cp949', skiprows = 11, names = [0])"
   ]
  },
  {
   "cell_type": "code",
   "execution_count": 3,
   "id": "e4ff19b2",
   "metadata": {},
   "outputs": [
    {
     "data": {
      "text/html": [
       "<div>\n",
       "<style scoped>\n",
       "    .dataframe tbody tr th:only-of-type {\n",
       "        vertical-align: middle;\n",
       "    }\n",
       "\n",
       "    .dataframe tbody tr th {\n",
       "        vertical-align: top;\n",
       "    }\n",
       "\n",
       "    .dataframe thead th {\n",
       "        text-align: right;\n",
       "    }\n",
       "</style>\n",
       "<table border=\"1\" class=\"dataframe\">\n",
       "  <thead>\n",
       "    <tr style=\"text-align: right;\">\n",
       "      <th></th>\n",
       "      <th>0</th>\n",
       "    </tr>\n",
       "  </thead>\n",
       "  <tbody>\n",
       "    <tr>\n",
       "      <th>0</th>\n",
       "      <td>0.016479</td>\n",
       "    </tr>\n",
       "    <tr>\n",
       "      <th>1</th>\n",
       "      <td>0.015259</td>\n",
       "    </tr>\n",
       "    <tr>\n",
       "      <th>2</th>\n",
       "      <td>0.014038</td>\n",
       "    </tr>\n",
       "    <tr>\n",
       "      <th>3</th>\n",
       "      <td>0.012817</td>\n",
       "    </tr>\n",
       "    <tr>\n",
       "      <th>4</th>\n",
       "      <td>0.015869</td>\n",
       "    </tr>\n",
       "    <tr>\n",
       "      <th>...</th>\n",
       "      <td>...</td>\n",
       "    </tr>\n",
       "    <tr>\n",
       "      <th>15355</th>\n",
       "      <td>0.000000</td>\n",
       "    </tr>\n",
       "    <tr>\n",
       "      <th>15356</th>\n",
       "      <td>0.000000</td>\n",
       "    </tr>\n",
       "    <tr>\n",
       "      <th>15357</th>\n",
       "      <td>0.000000</td>\n",
       "    </tr>\n",
       "    <tr>\n",
       "      <th>15358</th>\n",
       "      <td>0.000000</td>\n",
       "    </tr>\n",
       "    <tr>\n",
       "      <th>15359</th>\n",
       "      <td>0.000000</td>\n",
       "    </tr>\n",
       "  </tbody>\n",
       "</table>\n",
       "<p>15360 rows × 1 columns</p>\n",
       "</div>"
      ],
      "text/plain": [
       "              0\n",
       "0      0.016479\n",
       "1      0.015259\n",
       "2      0.014038\n",
       "3      0.012817\n",
       "4      0.015869\n",
       "...         ...\n",
       "15355  0.000000\n",
       "15356  0.000000\n",
       "15357  0.000000\n",
       "15358  0.000000\n",
       "15359  0.000000\n",
       "\n",
       "[15360 rows x 1 columns]"
      ]
     },
     "execution_count": 3,
     "metadata": {},
     "output_type": "execute_result"
    }
   ],
   "source": [
    "train"
   ]
  },
  {
   "cell_type": "markdown",
   "id": "8d8f27f8",
   "metadata": {
    "id": "8d8f27f8"
   },
   "source": [
    "## EDA"
   ]
  },
  {
   "cell_type": "code",
   "execution_count": 4,
   "id": "b619a499",
   "metadata": {
    "colab": {
     "base_uri": "https://localhost:8080/",
     "height": 283
    },
    "id": "b619a499",
    "outputId": "16ceeee9-0fac-4221-9343-b1f2e3e7ce14"
   },
   "outputs": [
    {
     "data": {
      "image/png": "[encoded data removed]",
      "text/plain": [
       "<Figure size 432x288 with 1 Axes>"
      ]
     },
     "metadata": {
      "needs_background": "light"
     },
     "output_type": "display_data"
    },
    {
     "data": {
      "text/plain": [
       "<Figure size 576x72 with 0 Axes>"
      ]
     },
     "metadata": {},
     "output_type": "display_data"
    }
   ],
   "source": [
    "plt.plot(train)\n",
    "plt.figure(figsize=(8, 1))\n",
    "plt.show()"
   ]
  },
  {
   "cell_type": "markdown",
   "id": "f1691d35",
   "metadata": {
    "id": "f1691d35"
   },
   "source": [
    "* 유사한 구간에서 0이되는 것을 확인"
   ]
  },
  {
   "cell_type": "code",
   "execution_count": 5,
   "id": "0db2442b",
   "metadata": {},
   "outputs": [
    {
     "data": {
      "text/html": [
       "<div>\n",
       "<style scoped>\n",
       "    .dataframe tbody tr th:only-of-type {\n",
       "        vertical-align: middle;\n",
       "    }\n",
       "\n",
       "    .dataframe tbody tr th {\n",
       "        vertical-align: top;\n",
       "    }\n",
       "\n",
       "    .dataframe thead th {\n",
       "        text-align: right;\n",
       "    }\n",
       "</style>\n",
       "<table border=\"1\" class=\"dataframe\">\n",
       "  <thead>\n",
       "    <tr style=\"text-align: right;\">\n",
       "      <th></th>\n",
       "      <th>0</th>\n",
       "    </tr>\n",
       "  </thead>\n",
       "  <tbody>\n",
       "    <tr>\n",
       "      <th>11500</th>\n",
       "      <td>0.0</td>\n",
       "    </tr>\n",
       "    <tr>\n",
       "      <th>11501</th>\n",
       "      <td>0.0</td>\n",
       "    </tr>\n",
       "    <tr>\n",
       "      <th>11502</th>\n",
       "      <td>0.0</td>\n",
       "    </tr>\n",
       "    <tr>\n",
       "      <th>11503</th>\n",
       "      <td>0.0</td>\n",
       "    </tr>\n",
       "    <tr>\n",
       "      <th>11504</th>\n",
       "      <td>0.0</td>\n",
       "    </tr>\n",
       "    <tr>\n",
       "      <th>...</th>\n",
       "      <td>...</td>\n",
       "    </tr>\n",
       "    <tr>\n",
       "      <th>15355</th>\n",
       "      <td>0.0</td>\n",
       "    </tr>\n",
       "    <tr>\n",
       "      <th>15356</th>\n",
       "      <td>0.0</td>\n",
       "    </tr>\n",
       "    <tr>\n",
       "      <th>15357</th>\n",
       "      <td>0.0</td>\n",
       "    </tr>\n",
       "    <tr>\n",
       "      <th>15358</th>\n",
       "      <td>0.0</td>\n",
       "    </tr>\n",
       "    <tr>\n",
       "      <th>15359</th>\n",
       "      <td>0.0</td>\n",
       "    </tr>\n",
       "  </tbody>\n",
       "</table>\n",
       "<p>3860 rows × 1 columns</p>\n",
       "</div>"
      ],
      "text/plain": [
       "         0\n",
       "11500  0.0\n",
       "11501  0.0\n",
       "11502  0.0\n",
       "11503  0.0\n",
       "11504  0.0\n",
       "...    ...\n",
       "15355  0.0\n",
       "15356  0.0\n",
       "15357  0.0\n",
       "15358  0.0\n",
       "15359  0.0\n",
       "\n",
       "[3860 rows x 1 columns]"
      ]
     },
     "execution_count": 5,
     "metadata": {},
     "output_type": "execute_result"
    }
   ],
   "source": [
    "train[11500:]"
   ]
  },
  {
   "cell_type": "markdown",
   "id": "1263097f",
   "metadata": {},
   "source": [
    "* 0인 부분 제거"
   ]
  },
  {
   "cell_type": "code",
   "execution_count": 7,
   "id": "4145a8f8",
   "metadata": {},
   "outputs": [],
   "source": [
    "train = train[:11500]"
   ]
  },
  {
   "cell_type": "code",
   "execution_count": 8,
   "id": "7ab77808",
   "metadata": {},
   "outputs": [
    {
     "data": {
      "text/html": [
       "<div>\n",
       "<style scoped>\n",
       "    .dataframe tbody tr th:only-of-type {\n",
       "        vertical-align: middle;\n",
       "    }\n",
       "\n",
       "    .dataframe tbody tr th {\n",
       "        vertical-align: top;\n",
       "    }\n",
       "\n",
       "    .dataframe thead th {\n",
       "        text-align: right;\n",
       "    }\n",
       "</style>\n",
       "<table border=\"1\" class=\"dataframe\">\n",
       "  <thead>\n",
       "    <tr style=\"text-align: right;\">\n",
       "      <th></th>\n",
       "      <th>0</th>\n",
       "    </tr>\n",
       "  </thead>\n",
       "  <tbody>\n",
       "    <tr>\n",
       "      <th>0</th>\n",
       "      <td>0.016479</td>\n",
       "    </tr>\n",
       "    <tr>\n",
       "      <th>1</th>\n",
       "      <td>0.015259</td>\n",
       "    </tr>\n",
       "    <tr>\n",
       "      <th>2</th>\n",
       "      <td>0.014038</td>\n",
       "    </tr>\n",
       "    <tr>\n",
       "      <th>3</th>\n",
       "      <td>0.012817</td>\n",
       "    </tr>\n",
       "    <tr>\n",
       "      <th>4</th>\n",
       "      <td>0.015869</td>\n",
       "    </tr>\n",
       "    <tr>\n",
       "      <th>...</th>\n",
       "      <td>...</td>\n",
       "    </tr>\n",
       "    <tr>\n",
       "      <th>11495</th>\n",
       "      <td>0.050049</td>\n",
       "    </tr>\n",
       "    <tr>\n",
       "      <th>11496</th>\n",
       "      <td>0.049438</td>\n",
       "    </tr>\n",
       "    <tr>\n",
       "      <th>11497</th>\n",
       "      <td>0.050201</td>\n",
       "    </tr>\n",
       "    <tr>\n",
       "      <th>11498</th>\n",
       "      <td>0.048218</td>\n",
       "    </tr>\n",
       "    <tr>\n",
       "      <th>11499</th>\n",
       "      <td>0.044556</td>\n",
       "    </tr>\n",
       "  </tbody>\n",
       "</table>\n",
       "<p>11500 rows × 1 columns</p>\n",
       "</div>"
      ],
      "text/plain": [
       "              0\n",
       "0      0.016479\n",
       "1      0.015259\n",
       "2      0.014038\n",
       "3      0.012817\n",
       "4      0.015869\n",
       "...         ...\n",
       "11495  0.050049\n",
       "11496  0.049438\n",
       "11497  0.050201\n",
       "11498  0.048218\n",
       "11499  0.044556\n",
       "\n",
       "[11500 rows x 1 columns]"
      ]
     },
     "execution_count": 8,
     "metadata": {},
     "output_type": "execute_result"
    }
   ],
   "source": [
    "train"
   ]
  },
  {
   "cell_type": "markdown",
   "id": "07731880",
   "metadata": {
    "id": "07731880"
   },
   "source": [
    "* 11500 seq부터 모든 값이 0"
   ]
  },
  {
   "cell_type": "markdown",
   "id": "3bb99705",
   "metadata": {
    "id": "3bb99705"
   },
   "source": [
    "### Test data Load"
   ]
  },
  {
   "cell_type": "code",
   "execution_count": 9,
   "id": "f453c260",
   "metadata": {},
   "outputs": [],
   "source": [
    "valid = pd.read_csv('D:/data/새 폴더/_Noise data/Si_ 3 times0_1_15_42000.csv',\n",
    "                    encoding = 'cp949', skiprows = 11, names = [0])"
   ]
  },
  {
   "cell_type": "code",
   "execution_count": 10,
   "id": "fc96f46a",
   "metadata": {},
   "outputs": [
    {
     "data": {
      "text/html": [
       "<div>\n",
       "<style scoped>\n",
       "    .dataframe tbody tr th:only-of-type {\n",
       "        vertical-align: middle;\n",
       "    }\n",
       "\n",
       "    .dataframe tbody tr th {\n",
       "        vertical-align: top;\n",
       "    }\n",
       "\n",
       "    .dataframe thead th {\n",
       "        text-align: right;\n",
       "    }\n",
       "</style>\n",
       "<table border=\"1\" class=\"dataframe\">\n",
       "  <thead>\n",
       "    <tr style=\"text-align: right;\">\n",
       "      <th></th>\n",
       "      <th>0</th>\n",
       "    </tr>\n",
       "  </thead>\n",
       "  <tbody>\n",
       "    <tr>\n",
       "      <th>0</th>\n",
       "      <td>-0.014648</td>\n",
       "    </tr>\n",
       "    <tr>\n",
       "      <th>1</th>\n",
       "      <td>-0.014343</td>\n",
       "    </tr>\n",
       "    <tr>\n",
       "      <th>2</th>\n",
       "      <td>-0.014038</td>\n",
       "    </tr>\n",
       "    <tr>\n",
       "      <th>3</th>\n",
       "      <td>-0.013733</td>\n",
       "    </tr>\n",
       "    <tr>\n",
       "      <th>4</th>\n",
       "      <td>-0.014496</td>\n",
       "    </tr>\n",
       "    <tr>\n",
       "      <th>...</th>\n",
       "      <td>...</td>\n",
       "    </tr>\n",
       "    <tr>\n",
       "      <th>15355</th>\n",
       "      <td>0.000000</td>\n",
       "    </tr>\n",
       "    <tr>\n",
       "      <th>15356</th>\n",
       "      <td>0.000000</td>\n",
       "    </tr>\n",
       "    <tr>\n",
       "      <th>15357</th>\n",
       "      <td>0.000000</td>\n",
       "    </tr>\n",
       "    <tr>\n",
       "      <th>15358</th>\n",
       "      <td>0.000000</td>\n",
       "    </tr>\n",
       "    <tr>\n",
       "      <th>15359</th>\n",
       "      <td>0.000000</td>\n",
       "    </tr>\n",
       "  </tbody>\n",
       "</table>\n",
       "<p>15360 rows × 1 columns</p>\n",
       "</div>"
      ],
      "text/plain": [
       "              0\n",
       "0     -0.014648\n",
       "1     -0.014343\n",
       "2     -0.014038\n",
       "3     -0.013733\n",
       "4     -0.014496\n",
       "...         ...\n",
       "15355  0.000000\n",
       "15356  0.000000\n",
       "15357  0.000000\n",
       "15358  0.000000\n",
       "15359  0.000000\n",
       "\n",
       "[15360 rows x 1 columns]"
      ]
     },
     "execution_count": 10,
     "metadata": {},
     "output_type": "execute_result"
    }
   ],
   "source": [
    "valid"
   ]
  },
  {
   "cell_type": "code",
   "execution_count": 11,
   "id": "c5822cca",
   "metadata": {},
   "outputs": [],
   "source": [
    "valid = valid[:11500]"
   ]
  },
  {
   "cell_type": "markdown",
   "id": "d71ae4bc",
   "metadata": {
    "id": "d71ae4bc"
   },
   "source": [
    "#### Scaling은 성능 하락으로 제거"
   ]
  },
  {
   "cell_type": "markdown",
   "id": "22dab074",
   "metadata": {
    "id": "22dab074"
   },
   "source": [
    "### Sequence split"
   ]
  },
  {
   "cell_type": "code",
   "execution_count": 12,
   "id": "7d668cfd",
   "metadata": {
    "id": "7d668cfd"
   },
   "outputs": [],
   "source": [
    "def truncate(x, train_len=20, test_len=1):\n",
    "    in_, out_ = [], []\n",
    "    for i in range(len(x) - train_len - test_len +1):\n",
    "        in_.append(x[i:(i+train_len)].tolist())\n",
    "        out_.append(x[(i+train_len):(i+train_len+test_len)].tolist())\n",
    "    return np.array(in_), np.array(out_)"
   ]
  },
  {
   "cell_type": "markdown",
   "id": "d09bdbc6",
   "metadata": {
    "id": "d09bdbc6"
   },
   "source": [
    "### train 분할"
   ]
  },
  {
   "cell_type": "code",
   "execution_count": 13,
   "id": "a02192e7",
   "metadata": {},
   "outputs": [],
   "source": [
    "train = np.array(train)"
   ]
  },
  {
   "cell_type": "code",
   "execution_count": 14,
   "id": "nNlwJXuLLzfP",
   "metadata": {
    "id": "nNlwJXuLLzfP"
   },
   "outputs": [],
   "source": [
    "valid = np.array(valid)"
   ]
  },
  {
   "cell_type": "code",
   "execution_count": 15,
   "id": "07f3c2b4",
   "metadata": {
    "id": "07f3c2b4"
   },
   "outputs": [],
   "source": [
    "X_train , y_train = truncate(train)"
   ]
  },
  {
   "cell_type": "code",
   "execution_count": 16,
   "id": "bddcbce4",
   "metadata": {},
   "outputs": [
    {
     "data": {
      "text/plain": [
       "(11480, 20, 1)"
      ]
     },
     "execution_count": 16,
     "metadata": {},
     "output_type": "execute_result"
    }
   ],
   "source": [
    "X_train.shape"
   ]
  },
  {
   "cell_type": "code",
   "execution_count": 17,
   "id": "5b9c1af9",
   "metadata": {},
   "outputs": [
    {
     "data": {
      "text/plain": [
       "array([[[0.01647949],\n",
       "        [0.01525879],\n",
       "        [0.01403809],\n",
       "        ...,\n",
       "        [0.00823975],\n",
       "        [0.0100708 ],\n",
       "        [0.01266479]],\n",
       "\n",
       "       [[0.01525879],\n",
       "        [0.01403809],\n",
       "        [0.01281738],\n",
       "        ...,\n",
       "        [0.0100708 ],\n",
       "        [0.01266479],\n",
       "        [0.01266479]],\n",
       "\n",
       "       [[0.01403809],\n",
       "        [0.01281738],\n",
       "        [0.01586914],\n",
       "        ...,\n",
       "        [0.01266479],\n",
       "        [0.01266479],\n",
       "        [0.01327515]],\n",
       "\n",
       "       ...,\n",
       "\n",
       "       [[0.02853394],\n",
       "        [0.0302124 ],\n",
       "        [0.03097534],\n",
       "        ...,\n",
       "        [0.05020142],\n",
       "        [0.05004883],\n",
       "        [0.04943848]],\n",
       "\n",
       "       [[0.0302124 ],\n",
       "        [0.03097534],\n",
       "        [0.03067017],\n",
       "        ...,\n",
       "        [0.05004883],\n",
       "        [0.04943848],\n",
       "        [0.05020142]],\n",
       "\n",
       "       [[0.03097534],\n",
       "        [0.03067017],\n",
       "        [0.03265381],\n",
       "        ...,\n",
       "        [0.04943848],\n",
       "        [0.05020142],\n",
       "        [0.04821777]]])"
      ]
     },
     "execution_count": 17,
     "metadata": {},
     "output_type": "execute_result"
    }
   ],
   "source": [
    "X_train"
   ]
  },
  {
   "cell_type": "code",
   "execution_count": 18,
   "id": "d4a8ed48",
   "metadata": {
    "id": "d4a8ed48"
   },
   "outputs": [],
   "source": [
    "X_valid , y_valid = truncate(valid)"
   ]
  },
  {
   "cell_type": "code",
   "execution_count": 19,
   "id": "c4deb7c2",
   "metadata": {
    "id": "c4deb7c2"
   },
   "outputs": [],
   "source": [
    "X_train = X_train.reshape(-1, 20, 1)\n",
    "y_train = y_train.reshape(-1, 1, 1)\n",
    "X_valid = X_valid.reshape(-1, 20, 1)\n",
    "y_valid = y_valid.reshape(-1, 1, 1)"
   ]
  },
  {
   "cell_type": "code",
   "execution_count": 20,
   "id": "3eeab1c8",
   "metadata": {},
   "outputs": [
    {
     "data": {
      "text/plain": [
       "array([[[0.01647949],\n",
       "        [0.01525879],\n",
       "        [0.01403809],\n",
       "        ...,\n",
       "        [0.00823975],\n",
       "        [0.0100708 ],\n",
       "        [0.01266479]],\n",
       "\n",
       "       [[0.01525879],\n",
       "        [0.01403809],\n",
       "        [0.01281738],\n",
       "        ...,\n",
       "        [0.0100708 ],\n",
       "        [0.01266479],\n",
       "        [0.01266479]],\n",
       "\n",
       "       [[0.01403809],\n",
       "        [0.01281738],\n",
       "        [0.01586914],\n",
       "        ...,\n",
       "        [0.01266479],\n",
       "        [0.01266479],\n",
       "        [0.01327515]],\n",
       "\n",
       "       ...,\n",
       "\n",
       "       [[0.02853394],\n",
       "        [0.0302124 ],\n",
       "        [0.03097534],\n",
       "        ...,\n",
       "        [0.05020142],\n",
       "        [0.05004883],\n",
       "        [0.04943848]],\n",
       "\n",
       "       [[0.0302124 ],\n",
       "        [0.03097534],\n",
       "        [0.03067017],\n",
       "        ...,\n",
       "        [0.05004883],\n",
       "        [0.04943848],\n",
       "        [0.05020142]],\n",
       "\n",
       "       [[0.03097534],\n",
       "        [0.03067017],\n",
       "        [0.03265381],\n",
       "        ...,\n",
       "        [0.04943848],\n",
       "        [0.05020142],\n",
       "        [0.04821777]]])"
      ]
     },
     "execution_count": 20,
     "metadata": {},
     "output_type": "execute_result"
    }
   ],
   "source": [
    "X_train"
   ]
  },
  {
   "cell_type": "code",
   "execution_count": 21,
   "id": "ef8f4265",
   "metadata": {
    "colab": {
     "base_uri": "https://localhost:8080/"
    },
    "id": "ef8f4265",
    "outputId": "30260c1e-f6e5-4d5a-b023-e9876573d994"
   },
   "outputs": [
    {
     "name": "stdout",
     "output_type": "stream",
     "text": [
      "(11480, 20, 1) (11480, 1, 1) (11480, 20, 1) (11480, 1, 1)\n"
     ]
    }
   ],
   "source": [
    "print(X_train.shape, y_train.shape, X_valid.shape, y_valid.shape)"
   ]
  },
  {
   "cell_type": "code",
   "execution_count": 233,
   "id": "99ba6cd5",
   "metadata": {
    "colab": {
     "base_uri": "https://localhost:8080/",
     "height": 265
    },
    "id": "99ba6cd5",
    "outputId": "e42525ae-ef5f-4add-9a51-f453f4027107"
   },
   "outputs": [
    {
     "data": {
      "image/png": "[encoded data removed]",
      "text/plain": [
       "<Figure size 432x288 with 1 Axes>"
      ]
     },
     "metadata": {
      "needs_background": "light"
     },
     "output_type": "display_data"
    }
   ],
   "source": [
    "plt.plot(X_train[0])\n",
    "plt.show()"
   ]
  },
  {
   "cell_type": "markdown",
   "id": "277160f0",
   "metadata": {
    "id": "277160f0"
   },
   "source": [
    "## Model"
   ]
  },
  {
   "cell_type": "code",
   "execution_count": 234,
   "id": "d727df0c",
   "metadata": {
    "id": "d727df0c"
   },
   "outputs": [],
   "source": [
    "from tensorflow.keras.models import Sequential, Model, load_model\n",
    "from tensorflow.keras.layers import LSTM, Dense, RepeatVector, TimeDistributed, Input\n",
    "from tensorflow.compat.v1.keras.layers import CuDNNLSTM\n",
    "from tensorflow.keras.optimizers import Adam\n",
    "from tensorflow.keras.utils import plot_model\n",
    "from tensorflow.keras.callbacks import EarlyStopping\n",
    "from keras.regularizers import l2"
   ]
  },
  {
   "cell_type": "code",
   "execution_count": 235,
   "id": "15100713",
   "metadata": {
    "id": "15100713"
   },
   "outputs": [],
   "source": [
    "n_hidden = 100"
   ]
  },
  {
   "cell_type": "code",
   "execution_count": 236,
   "id": "24c0744c",
   "metadata": {
    "colab": {
     "base_uri": "https://localhost:8080/"
    },
    "id": "24c0744c",
    "outputId": "ffa8b610-978c-4dab-a931-d425342f2d20"
   },
   "outputs": [
    {
     "name": "stdout",
     "output_type": "stream",
     "text": [
      "KerasTensor(type_spec=TensorSpec(shape=(None, 2000, 1), dtype=tf.float32, name='input_3'), name='input_3', description=\"created by layer 'input_3'\")\n",
      "KerasTensor(type_spec=TensorSpec(shape=(None, 1, 1), dtype=tf.float32, name='input_4'), name='input_4', description=\"created by layer 'input_4'\")\n"
     ]
    }
   ],
   "source": [
    "input_train = Input(shape=(X_train.shape[1], X_train.shape[2]))\n",
    "output_train = Input(shape=(y_train.shape[1], X_train.shape[2]))\n",
    "print(input_train)\n",
    "print(output_train)"
   ]
  },
  {
   "cell_type": "code",
   "execution_count": 237,
   "id": "2df30cf3",
   "metadata": {
    "colab": {
     "base_uri": "https://localhost:8080/"
    },
    "id": "2df30cf3",
    "outputId": "6754c95d-094f-48bd-8a64-dddeefac0eba"
   },
   "outputs": [
    {
     "name": "stdout",
     "output_type": "stream",
     "text": [
      "WARNING:tensorflow:Layer lstm_2 will not use cuDNN kernels since it doesn't meet the criteria. It will use a generic GPU kernel as fallback when running on GPU.\n"
     ]
    }
   ],
   "source": [
    "encoder_last_h1, encoder_last_h2, encoder_last_c = LSTM(n_hidden,\n",
    "                                                   activation='relu', \n",
    "                                                   dropout=0.3, \n",
    "                                                   recurrent_dropout=0.3,\n",
    "                                                   return_sequences=False,\n",
    "                                                   return_state=True)(input_train)"
   ]
  },
  {
   "cell_type": "code",
   "execution_count": 238,
   "id": "3db26598",
   "metadata": {},
   "outputs": [
    {
     "data": {
      "text/plain": [
       "1"
      ]
     },
     "execution_count": 238,
     "metadata": {},
     "output_type": "execute_result"
    }
   ],
   "source": [
    "output_train.shape[1]"
   ]
  },
  {
   "cell_type": "code",
   "execution_count": 239,
   "id": "798029a8",
   "metadata": {},
   "outputs": [],
   "source": [
    "decoder = RepeatVector(output_train.shape[1])(encoder_last_h1)"
   ]
  },
  {
   "cell_type": "code",
   "execution_count": 240,
   "id": "3a0907aa",
   "metadata": {},
   "outputs": [
    {
     "data": {
      "text/plain": [
       "<KerasTensor: shape=(None, 1, 100) dtype=float32 (created by layer 'repeat_vector_1')>"
      ]
     },
     "execution_count": 240,
     "metadata": {},
     "output_type": "execute_result"
    }
   ],
   "source": [
    "decoder"
   ]
  },
  {
   "cell_type": "code",
   "execution_count": 241,
   "id": "5f2515de",
   "metadata": {
    "colab": {
     "base_uri": "https://localhost:8080/"
    },
    "id": "5f2515de",
    "outputId": "2f92bbbf-6815-42b5-c94a-155444da7598"
   },
   "outputs": [
    {
     "name": "stdout",
     "output_type": "stream",
     "text": [
      "WARNING:tensorflow:Layer lstm_3 will not use cuDNN kernels since it doesn't meet the criteria. It will use a generic GPU kernel as fallback when running on GPU.\n",
      "KerasTensor(type_spec=TensorSpec(shape=(None, 1, 100), dtype=tf.float32, name=None), name='lstm_3/transpose_1:0', description=\"created by layer 'lstm_3'\")\n"
     ]
    }
   ],
   "source": [
    "decoder = LSTM(n_hidden,\n",
    "               activation='relu', \n",
    "               dropout=0.3, \n",
    "               recurrent_dropout=0.3,\n",
    "               recurrent_regularizer=l2(0.01),\n",
    "               return_sequences=True,\n",
    "               return_state=False)(decoder, initial_state=[encoder_last_h1, encoder_last_c])\n",
    "\n",
    "print(decoder)"
   ]
  },
  {
   "cell_type": "code",
   "execution_count": 242,
   "id": "86dcae85",
   "metadata": {
    "colab": {
     "base_uri": "https://localhost:8080/"
    },
    "id": "86dcae85",
    "outputId": "7890ca7d-0c6a-4a55-ad69-69acb46e6357"
   },
   "outputs": [
    {
     "name": "stdout",
     "output_type": "stream",
     "text": [
      "KerasTensor(type_spec=TensorSpec(shape=(None, 1, 1), dtype=tf.float32, name=None), name='time_distributed_1/Reshape_1:0', description=\"created by layer 'time_distributed_1'\")\n"
     ]
    }
   ],
   "source": [
    "out= TimeDistributed(Dense(output_train.shape[2]))(decoder)\n",
    "print(out)"
   ]
  },
  {
   "cell_type": "code",
   "execution_count": 243,
   "id": "de39addb",
   "metadata": {
    "colab": {
     "base_uri": "https://localhost:8080/"
    },
    "id": "de39addb",
    "outputId": "44a4f32c-ccb3-4a16-fdd2-d0b10db16695"
   },
   "outputs": [
    {
     "name": "stdout",
     "output_type": "stream",
     "text": [
      "Model: \"model_1\"\n",
      "__________________________________________________________________________________________________\n",
      " Layer (type)                   Output Shape         Param #     Connected to                     \n",
      "==================================================================================================\n",
      " input_3 (InputLayer)           [(None, 2000, 1)]    0           []                               \n",
      "                                                                                                  \n",
      " lstm_2 (LSTM)                  [(None, 100),        40800       ['input_3[0][0]']                \n",
      "                                 (None, 100),                                                     \n",
      "                                 (None, 100)]                                                     \n",
      "                                                                                                  \n",
      " repeat_vector_1 (RepeatVector)  (None, 1, 100)      0           ['lstm_2[0][0]']                 \n",
      "                                                                                                  \n",
      " lstm_3 (LSTM)                  (None, 1, 100)       80400       ['repeat_vector_1[0][0]',        \n",
      "                                                                  'lstm_2[0][0]',                 \n",
      "                                                                  'lstm_2[0][2]']                 \n",
      "                                                                                                  \n",
      " time_distributed_1 (TimeDistri  (None, 1, 1)        101         ['lstm_3[0][0]']                 \n",
      " buted)                                                                                           \n",
      "                                                                                                  \n",
      "==================================================================================================\n",
      "Total params: 121,301\n",
      "Trainable params: 121,301\n",
      "Non-trainable params: 0\n",
      "__________________________________________________________________________________________________\n"
     ]
    }
   ],
   "source": [
    "model = Model(inputs = input_train, outputs = out)\n",
    "opt = Adam(learning_rate=0.01, )\n",
    "# gradient cliping : https://kh-kim.gitbook.io/natural-language-processing-with-pytorch/00-cover-6/05-gradient-clipping\n",
    "model.compile(loss='mean_squared_error', optimizer = opt, metrics = ['mae'])\n",
    "model.summary()"
   ]
  },
  {
   "cell_type": "code",
   "execution_count": 244,
   "id": "e8650919",
   "metadata": {},
   "outputs": [
    {
     "name": "stdout",
     "output_type": "stream",
     "text": [
      "You must install pydot (`pip install pydot`) and install graphviz (see instructions at https://graphviz.gitlab.io/download/) for plot_model/model_to_dot to work.\n"
     ]
    }
   ],
   "source": [
    "plot_model(model)"
   ]
  },
  {
   "cell_type": "code",
   "execution_count": 245,
   "id": "ab884941",
   "metadata": {
    "colab": {
     "base_uri": "https://localhost:8080/"
    },
    "id": "ab884941",
    "outputId": "9e95b60c-7ca6-4002-9c9b-cedf40182a8d"
   },
   "outputs": [
    {
     "name": "stdout",
     "output_type": "stream",
     "text": [
      "Epoch 1/30\n",
      "  2/149 [..............................] - ETA: 49:58 - loss: 0.8611 - mae: 0.0208  "
     ]
    },
    {
     "ename": "KeyboardInterrupt",
     "evalue": "",
     "output_type": "error",
     "traceback": [
      "\u001b[1;31m---------------------------------------------------------------------------\u001b[0m",
      "\u001b[1;31mKeyboardInterrupt\u001b[0m                         Traceback (most recent call last)",
      "\u001b[1;32mc:\\Users\\TRL-HAN\\Desktop\\LSTM code_v2\\sensor_prediction_final.ipynb 셀 44\u001b[0m in \u001b[0;36m<cell line: 3>\u001b[1;34m()\u001b[0m\n\u001b[0;32m      <a href='vscode-notebook-cell:/c%3A/Users/TRL-HAN/Desktop/LSTM%20code_v2/sensor_prediction_final.ipynb#ch0000043?line=0'>1</a>\u001b[0m es \u001b[39m=\u001b[39m EarlyStopping(monitor\u001b[39m=\u001b[39m\u001b[39m'\u001b[39m\u001b[39mval_loss\u001b[39m\u001b[39m'\u001b[39m, mode\u001b[39m=\u001b[39m\u001b[39m'\u001b[39m\u001b[39mmin\u001b[39m\u001b[39m'\u001b[39m, patience \u001b[39m=\u001b[39m \u001b[39m5\u001b[39m)\n\u001b[0;32m      <a href='vscode-notebook-cell:/c%3A/Users/TRL-HAN/Desktop/LSTM%20code_v2/sensor_prediction_final.ipynb#ch0000043?line=1'>2</a>\u001b[0m \u001b[39m# early stopping\u001b[39;00m\n\u001b[1;32m----> <a href='vscode-notebook-cell:/c%3A/Users/TRL-HAN/Desktop/LSTM%20code_v2/sensor_prediction_final.ipynb#ch0000043?line=2'>3</a>\u001b[0m history \u001b[39m=\u001b[39m model\u001b[39m.\u001b[39;49mfit(X_train, y_train, validation_data\u001b[39m=\u001b[39;49m(X_valid, y_valid),\n\u001b[0;32m      <a href='vscode-notebook-cell:/c%3A/Users/TRL-HAN/Desktop/LSTM%20code_v2/sensor_prediction_final.ipynb#ch0000043?line=3'>4</a>\u001b[0m                     epochs\u001b[39m=\u001b[39;49m\u001b[39m30\u001b[39;49m, verbose \u001b[39m=\u001b[39;49m \u001b[39m1\u001b[39;49m , callbacks\u001b[39m=\u001b[39;49m[es],\n\u001b[0;32m      <a href='vscode-notebook-cell:/c%3A/Users/TRL-HAN/Desktop/LSTM%20code_v2/sensor_prediction_final.ipynb#ch0000043?line=4'>5</a>\u001b[0m                     batch_size\u001b[39m=\u001b[39;49m\u001b[39m64\u001b[39;49m)\n",
      "File \u001b[1;32mc:\\Users\\TRL-HAN\\anaconda3\\lib\\site-packages\\keras\\utils\\traceback_utils.py:64\u001b[0m, in \u001b[0;36mfilter_traceback.<locals>.error_handler\u001b[1;34m(*args, **kwargs)\u001b[0m\n\u001b[0;32m     62\u001b[0m filtered_tb \u001b[39m=\u001b[39m \u001b[39mNone\u001b[39;00m\n\u001b[0;32m     63\u001b[0m \u001b[39mtry\u001b[39;00m:\n\u001b[1;32m---> 64\u001b[0m   \u001b[39mreturn\u001b[39;00m fn(\u001b[39m*\u001b[39;49margs, \u001b[39m*\u001b[39;49m\u001b[39m*\u001b[39;49mkwargs)\n\u001b[0;32m     65\u001b[0m \u001b[39mexcept\u001b[39;00m \u001b[39mException\u001b[39;00m \u001b[39mas\u001b[39;00m e:  \u001b[39m# pylint: disable=broad-except\u001b[39;00m\n\u001b[0;32m     66\u001b[0m   filtered_tb \u001b[39m=\u001b[39m _process_traceback_frames(e\u001b[39m.\u001b[39m__traceback__)\n",
      "File \u001b[1;32mc:\\Users\\TRL-HAN\\anaconda3\\lib\\site-packages\\keras\\engine\\training.py:1409\u001b[0m, in \u001b[0;36mModel.fit\u001b[1;34m(self, x, y, batch_size, epochs, verbose, callbacks, validation_split, validation_data, shuffle, class_weight, sample_weight, initial_epoch, steps_per_epoch, validation_steps, validation_batch_size, validation_freq, max_queue_size, workers, use_multiprocessing)\u001b[0m\n\u001b[0;32m   1402\u001b[0m \u001b[39mwith\u001b[39;00m tf\u001b[39m.\u001b[39mprofiler\u001b[39m.\u001b[39mexperimental\u001b[39m.\u001b[39mTrace(\n\u001b[0;32m   1403\u001b[0m     \u001b[39m'\u001b[39m\u001b[39mtrain\u001b[39m\u001b[39m'\u001b[39m,\n\u001b[0;32m   1404\u001b[0m     epoch_num\u001b[39m=\u001b[39mepoch,\n\u001b[0;32m   1405\u001b[0m     step_num\u001b[39m=\u001b[39mstep,\n\u001b[0;32m   1406\u001b[0m     batch_size\u001b[39m=\u001b[39mbatch_size,\n\u001b[0;32m   1407\u001b[0m     _r\u001b[39m=\u001b[39m\u001b[39m1\u001b[39m):\n\u001b[0;32m   1408\u001b[0m   callbacks\u001b[39m.\u001b[39mon_train_batch_begin(step)\n\u001b[1;32m-> 1409\u001b[0m   tmp_logs \u001b[39m=\u001b[39m \u001b[39mself\u001b[39;49m\u001b[39m.\u001b[39;49mtrain_function(iterator)\n\u001b[0;32m   1410\u001b[0m   \u001b[39mif\u001b[39;00m data_handler\u001b[39m.\u001b[39mshould_sync:\n\u001b[0;32m   1411\u001b[0m     context\u001b[39m.\u001b[39masync_wait()\n",
      "File \u001b[1;32mc:\\Users\\TRL-HAN\\anaconda3\\lib\\site-packages\\tensorflow\\python\\util\\traceback_utils.py:150\u001b[0m, in \u001b[0;36mfilter_traceback.<locals>.error_handler\u001b[1;34m(*args, **kwargs)\u001b[0m\n\u001b[0;32m    148\u001b[0m filtered_tb \u001b[39m=\u001b[39m \u001b[39mNone\u001b[39;00m\n\u001b[0;32m    149\u001b[0m \u001b[39mtry\u001b[39;00m:\n\u001b[1;32m--> 150\u001b[0m   \u001b[39mreturn\u001b[39;00m fn(\u001b[39m*\u001b[39;49margs, \u001b[39m*\u001b[39;49m\u001b[39m*\u001b[39;49mkwargs)\n\u001b[0;32m    151\u001b[0m \u001b[39mexcept\u001b[39;00m \u001b[39mException\u001b[39;00m \u001b[39mas\u001b[39;00m e:\n\u001b[0;32m    152\u001b[0m   filtered_tb \u001b[39m=\u001b[39m _process_traceback_frames(e\u001b[39m.\u001b[39m__traceback__)\n",
      "File \u001b[1;32mc:\\Users\\TRL-HAN\\anaconda3\\lib\\site-packages\\tensorflow\\python\\eager\\def_function.py:915\u001b[0m, in \u001b[0;36mFunction.__call__\u001b[1;34m(self, *args, **kwds)\u001b[0m\n\u001b[0;32m    912\u001b[0m compiler \u001b[39m=\u001b[39m \u001b[39m\"\u001b[39m\u001b[39mxla\u001b[39m\u001b[39m\"\u001b[39m \u001b[39mif\u001b[39;00m \u001b[39mself\u001b[39m\u001b[39m.\u001b[39m_jit_compile \u001b[39melse\u001b[39;00m \u001b[39m\"\u001b[39m\u001b[39mnonXla\u001b[39m\u001b[39m\"\u001b[39m\n\u001b[0;32m    914\u001b[0m \u001b[39mwith\u001b[39;00m OptionalXlaContext(\u001b[39mself\u001b[39m\u001b[39m.\u001b[39m_jit_compile):\n\u001b[1;32m--> 915\u001b[0m   result \u001b[39m=\u001b[39m \u001b[39mself\u001b[39;49m\u001b[39m.\u001b[39;49m_call(\u001b[39m*\u001b[39;49margs, \u001b[39m*\u001b[39;49m\u001b[39m*\u001b[39;49mkwds)\n\u001b[0;32m    917\u001b[0m new_tracing_count \u001b[39m=\u001b[39m \u001b[39mself\u001b[39m\u001b[39m.\u001b[39mexperimental_get_tracing_count()\n\u001b[0;32m    918\u001b[0m without_tracing \u001b[39m=\u001b[39m (tracing_count \u001b[39m==\u001b[39m new_tracing_count)\n",
      "File \u001b[1;32mc:\\Users\\TRL-HAN\\anaconda3\\lib\\site-packages\\tensorflow\\python\\eager\\def_function.py:947\u001b[0m, in \u001b[0;36mFunction._call\u001b[1;34m(self, *args, **kwds)\u001b[0m\n\u001b[0;32m    944\u001b[0m   \u001b[39mself\u001b[39m\u001b[39m.\u001b[39m_lock\u001b[39m.\u001b[39mrelease()\n\u001b[0;32m    945\u001b[0m   \u001b[39m# In this case we have created variables on the first call, so we run the\u001b[39;00m\n\u001b[0;32m    946\u001b[0m   \u001b[39m# defunned version which is guaranteed to never create variables.\u001b[39;00m\n\u001b[1;32m--> 947\u001b[0m   \u001b[39mreturn\u001b[39;00m \u001b[39mself\u001b[39;49m\u001b[39m.\u001b[39;49m_stateless_fn(\u001b[39m*\u001b[39;49margs, \u001b[39m*\u001b[39;49m\u001b[39m*\u001b[39;49mkwds)  \u001b[39m# pylint: disable=not-callable\u001b[39;00m\n\u001b[0;32m    948\u001b[0m \u001b[39melif\u001b[39;00m \u001b[39mself\u001b[39m\u001b[39m.\u001b[39m_stateful_fn \u001b[39mis\u001b[39;00m \u001b[39mnot\u001b[39;00m \u001b[39mNone\u001b[39;00m:\n\u001b[0;32m    949\u001b[0m   \u001b[39m# Release the lock early so that multiple threads can perform the call\u001b[39;00m\n\u001b[0;32m    950\u001b[0m   \u001b[39m# in parallel.\u001b[39;00m\n\u001b[0;32m    951\u001b[0m   \u001b[39mself\u001b[39m\u001b[39m.\u001b[39m_lock\u001b[39m.\u001b[39mrelease()\n",
      "File \u001b[1;32mc:\\Users\\TRL-HAN\\anaconda3\\lib\\site-packages\\tensorflow\\python\\eager\\function.py:2453\u001b[0m, in \u001b[0;36mFunction.__call__\u001b[1;34m(self, *args, **kwargs)\u001b[0m\n\u001b[0;32m   2450\u001b[0m \u001b[39mwith\u001b[39;00m \u001b[39mself\u001b[39m\u001b[39m.\u001b[39m_lock:\n\u001b[0;32m   2451\u001b[0m   (graph_function,\n\u001b[0;32m   2452\u001b[0m    filtered_flat_args) \u001b[39m=\u001b[39m \u001b[39mself\u001b[39m\u001b[39m.\u001b[39m_maybe_define_function(args, kwargs)\n\u001b[1;32m-> 2453\u001b[0m \u001b[39mreturn\u001b[39;00m graph_function\u001b[39m.\u001b[39;49m_call_flat(\n\u001b[0;32m   2454\u001b[0m     filtered_flat_args, captured_inputs\u001b[39m=\u001b[39;49mgraph_function\u001b[39m.\u001b[39;49mcaptured_inputs)\n",
      "File \u001b[1;32mc:\\Users\\TRL-HAN\\anaconda3\\lib\\site-packages\\tensorflow\\python\\eager\\function.py:1860\u001b[0m, in \u001b[0;36mConcreteFunction._call_flat\u001b[1;34m(self, args, captured_inputs, cancellation_manager)\u001b[0m\n\u001b[0;32m   1856\u001b[0m possible_gradient_type \u001b[39m=\u001b[39m gradients_util\u001b[39m.\u001b[39mPossibleTapeGradientTypes(args)\n\u001b[0;32m   1857\u001b[0m \u001b[39mif\u001b[39;00m (possible_gradient_type \u001b[39m==\u001b[39m gradients_util\u001b[39m.\u001b[39mPOSSIBLE_GRADIENT_TYPES_NONE\n\u001b[0;32m   1858\u001b[0m     \u001b[39mand\u001b[39;00m executing_eagerly):\n\u001b[0;32m   1859\u001b[0m   \u001b[39m# No tape is watching; skip to running the function.\u001b[39;00m\n\u001b[1;32m-> 1860\u001b[0m   \u001b[39mreturn\u001b[39;00m \u001b[39mself\u001b[39m\u001b[39m.\u001b[39m_build_call_outputs(\u001b[39mself\u001b[39;49m\u001b[39m.\u001b[39;49m_inference_function\u001b[39m.\u001b[39;49mcall(\n\u001b[0;32m   1861\u001b[0m       ctx, args, cancellation_manager\u001b[39m=\u001b[39;49mcancellation_manager))\n\u001b[0;32m   1862\u001b[0m forward_backward \u001b[39m=\u001b[39m \u001b[39mself\u001b[39m\u001b[39m.\u001b[39m_select_forward_and_backward_functions(\n\u001b[0;32m   1863\u001b[0m     args,\n\u001b[0;32m   1864\u001b[0m     possible_gradient_type,\n\u001b[0;32m   1865\u001b[0m     executing_eagerly)\n\u001b[0;32m   1866\u001b[0m forward_function, args_with_tangents \u001b[39m=\u001b[39m forward_backward\u001b[39m.\u001b[39mforward()\n",
      "File \u001b[1;32mc:\\Users\\TRL-HAN\\anaconda3\\lib\\site-packages\\tensorflow\\python\\eager\\function.py:497\u001b[0m, in \u001b[0;36m_EagerDefinedFunction.call\u001b[1;34m(self, ctx, args, cancellation_manager)\u001b[0m\n\u001b[0;32m    495\u001b[0m \u001b[39mwith\u001b[39;00m _InterpolateFunctionError(\u001b[39mself\u001b[39m):\n\u001b[0;32m    496\u001b[0m   \u001b[39mif\u001b[39;00m cancellation_manager \u001b[39mis\u001b[39;00m \u001b[39mNone\u001b[39;00m:\n\u001b[1;32m--> 497\u001b[0m     outputs \u001b[39m=\u001b[39m execute\u001b[39m.\u001b[39;49mexecute(\n\u001b[0;32m    498\u001b[0m         \u001b[39mstr\u001b[39;49m(\u001b[39mself\u001b[39;49m\u001b[39m.\u001b[39;49msignature\u001b[39m.\u001b[39;49mname),\n\u001b[0;32m    499\u001b[0m         num_outputs\u001b[39m=\u001b[39;49m\u001b[39mself\u001b[39;49m\u001b[39m.\u001b[39;49m_num_outputs,\n\u001b[0;32m    500\u001b[0m         inputs\u001b[39m=\u001b[39;49margs,\n\u001b[0;32m    501\u001b[0m         attrs\u001b[39m=\u001b[39;49mattrs,\n\u001b[0;32m    502\u001b[0m         ctx\u001b[39m=\u001b[39;49mctx)\n\u001b[0;32m    503\u001b[0m   \u001b[39melse\u001b[39;00m:\n\u001b[0;32m    504\u001b[0m     outputs \u001b[39m=\u001b[39m execute\u001b[39m.\u001b[39mexecute_with_cancellation(\n\u001b[0;32m    505\u001b[0m         \u001b[39mstr\u001b[39m(\u001b[39mself\u001b[39m\u001b[39m.\u001b[39msignature\u001b[39m.\u001b[39mname),\n\u001b[0;32m    506\u001b[0m         num_outputs\u001b[39m=\u001b[39m\u001b[39mself\u001b[39m\u001b[39m.\u001b[39m_num_outputs,\n\u001b[1;32m   (...)\u001b[0m\n\u001b[0;32m    509\u001b[0m         ctx\u001b[39m=\u001b[39mctx,\n\u001b[0;32m    510\u001b[0m         cancellation_manager\u001b[39m=\u001b[39mcancellation_manager)\n",
      "File \u001b[1;32mc:\\Users\\TRL-HAN\\anaconda3\\lib\\site-packages\\tensorflow\\python\\eager\\execute.py:54\u001b[0m, in \u001b[0;36mquick_execute\u001b[1;34m(op_name, num_outputs, inputs, attrs, ctx, name)\u001b[0m\n\u001b[0;32m     52\u001b[0m \u001b[39mtry\u001b[39;00m:\n\u001b[0;32m     53\u001b[0m   ctx\u001b[39m.\u001b[39mensure_initialized()\n\u001b[1;32m---> 54\u001b[0m   tensors \u001b[39m=\u001b[39m pywrap_tfe\u001b[39m.\u001b[39;49mTFE_Py_Execute(ctx\u001b[39m.\u001b[39;49m_handle, device_name, op_name,\n\u001b[0;32m     55\u001b[0m                                       inputs, attrs, num_outputs)\n\u001b[0;32m     56\u001b[0m \u001b[39mexcept\u001b[39;00m core\u001b[39m.\u001b[39m_NotOkStatusException \u001b[39mas\u001b[39;00m e:\n\u001b[0;32m     57\u001b[0m   \u001b[39mif\u001b[39;00m name \u001b[39mis\u001b[39;00m \u001b[39mnot\u001b[39;00m \u001b[39mNone\u001b[39;00m:\n",
      "\u001b[1;31mKeyboardInterrupt\u001b[0m: "
     ]
    }
   ],
   "source": [
    "es = EarlyStopping(monitor='val_loss', mode='min', patience = 5)\n",
    "# early stopping\n",
    "history = model.fit(X_train, y_train, validation_data=(X_valid, y_valid),\n",
    "                    epochs=30, verbose = 1 , callbacks=[es],\n",
    "                    batch_size=64)"
   ]
  },
  {
   "cell_type": "code",
   "execution_count": 46,
   "id": "ac5b26ff",
   "metadata": {
    "id": "ac5b26ff"
   },
   "outputs": [],
   "source": [
    "train_mae = history.history['mae']\n",
    "valid_mae = history.history['val_mae']"
   ]
  },
  {
   "cell_type": "code",
   "execution_count": 47,
   "id": "195107f3",
   "metadata": {
    "colab": {
     "base_uri": "https://localhost:8080/",
     "height": 320
    },
    "id": "195107f3",
    "outputId": "c26ad4ad-ba74-45a3-d504-65577136f235"
   },
   "outputs": [
    {
     "data": {
      "image/png": "[encoded data removed]",
      "text/plain": [
       "<Figure size 432x288 with 1 Axes>"
      ]
     },
     "metadata": {
      "needs_background": "light"
     },
     "output_type": "display_data"
    }
   ],
   "source": [
    "plt.plot(train_mae, label='train mae')\n",
    "plt.plot(valid_mae, label='validation mae')\n",
    "plt.ylabel('mae')\n",
    "plt.xlabel('epoch')\n",
    "plt.title('train vs. validation accuracy (mae)')\n",
    "plt.legend(loc = 'upper center', bbox_to_anchor=(0.5,-0.15), fancybox=True, shadow=False, ncol=2)\n",
    "plt.show()"
   ]
  },
  {
   "cell_type": "markdown",
   "id": "0e61f2ca",
   "metadata": {
    "id": "0e61f2ca"
   },
   "source": [
    "## test"
   ]
  },
  {
   "cell_type": "code",
   "execution_count": 48,
   "id": "1ab80594",
   "metadata": {
    "colab": {
     "base_uri": "https://localhost:8080/",
     "height": 327
    },
    "id": "1ab80594",
    "outputId": "b908e915-ea30-4cc2-fff5-f24e3f7d2a13"
   },
   "outputs": [],
   "source": [
    "test = pd.read_csv('D:/data/새 폴더/_Noise data/Si_ 3 times0_1_56282_180119583.csv',encoding = 'cp949', skiprows = 11, names = [0])"
   ]
  },
  {
   "cell_type": "code",
   "execution_count": 49,
   "id": "78bb7b13",
   "metadata": {
    "id": "78bb7b13"
   },
   "outputs": [
    {
     "data": {
      "text/html": [
       "<div>\n",
       "<style scoped>\n",
       "    .dataframe tbody tr th:only-of-type {\n",
       "        vertical-align: middle;\n",
       "    }\n",
       "\n",
       "    .dataframe tbody tr th {\n",
       "        vertical-align: top;\n",
       "    }\n",
       "\n",
       "    .dataframe thead th {\n",
       "        text-align: right;\n",
       "    }\n",
       "</style>\n",
       "<table border=\"1\" class=\"dataframe\">\n",
       "  <thead>\n",
       "    <tr style=\"text-align: right;\">\n",
       "      <th></th>\n",
       "      <th>0</th>\n",
       "    </tr>\n",
       "  </thead>\n",
       "  <tbody>\n",
       "    <tr>\n",
       "      <th>0</th>\n",
       "      <td>-0.014038</td>\n",
       "    </tr>\n",
       "    <tr>\n",
       "      <th>1</th>\n",
       "      <td>-0.013123</td>\n",
       "    </tr>\n",
       "    <tr>\n",
       "      <th>2</th>\n",
       "      <td>-0.012207</td>\n",
       "    </tr>\n",
       "    <tr>\n",
       "      <th>3</th>\n",
       "      <td>-0.011291</td>\n",
       "    </tr>\n",
       "    <tr>\n",
       "      <th>4</th>\n",
       "      <td>-0.009003</td>\n",
       "    </tr>\n",
       "    <tr>\n",
       "      <th>...</th>\n",
       "      <td>...</td>\n",
       "    </tr>\n",
       "    <tr>\n",
       "      <th>15355</th>\n",
       "      <td>0.000000</td>\n",
       "    </tr>\n",
       "    <tr>\n",
       "      <th>15356</th>\n",
       "      <td>0.000000</td>\n",
       "    </tr>\n",
       "    <tr>\n",
       "      <th>15357</th>\n",
       "      <td>0.000000</td>\n",
       "    </tr>\n",
       "    <tr>\n",
       "      <th>15358</th>\n",
       "      <td>0.000000</td>\n",
       "    </tr>\n",
       "    <tr>\n",
       "      <th>15359</th>\n",
       "      <td>0.000000</td>\n",
       "    </tr>\n",
       "  </tbody>\n",
       "</table>\n",
       "<p>15360 rows × 1 columns</p>\n",
       "</div>"
      ],
      "text/plain": [
       "              0\n",
       "0     -0.014038\n",
       "1     -0.013123\n",
       "2     -0.012207\n",
       "3     -0.011291\n",
       "4     -0.009003\n",
       "...         ...\n",
       "15355  0.000000\n",
       "15356  0.000000\n",
       "15357  0.000000\n",
       "15358  0.000000\n",
       "15359  0.000000\n",
       "\n",
       "[15360 rows x 1 columns]"
      ]
     },
     "execution_count": 49,
     "metadata": {},
     "output_type": "execute_result"
    }
   ],
   "source": [
    "test"
   ]
  },
  {
   "cell_type": "code",
   "execution_count": 50,
   "id": "66aef160",
   "metadata": {},
   "outputs": [],
   "source": [
    "test = np.array(test)"
   ]
  },
  {
   "cell_type": "code",
   "execution_count": 51,
   "id": "10ef96a3",
   "metadata": {
    "id": "10ef96a3"
   },
   "outputs": [],
   "source": [
    "X_test , y_test = truncate(test)"
   ]
  },
  {
   "cell_type": "markdown",
   "id": "fa1ba089",
   "metadata": {},
   "source": []
  },
  {
   "cell_type": "code",
   "execution_count": 52,
   "id": "66f0944f",
   "metadata": {
    "id": "66f0944f"
   },
   "outputs": [
    {
     "name": "stdout",
     "output_type": "stream",
     "text": [
      "480/480 [==============================] - 20s 41ms/step\n"
     ]
    }
   ],
   "source": [
    "test_prediction = model.predict(X_test)"
   ]
  },
  {
   "cell_type": "code",
   "execution_count": 53,
   "id": "3d4e2622",
   "metadata": {},
   "outputs": [],
   "source": [
    "prediction = test_prediction.squeeze()"
   ]
  },
  {
   "cell_type": "code",
   "execution_count": 54,
   "id": "4ae0a80f",
   "metadata": {},
   "outputs": [
    {
     "data": {
      "text/plain": [
       "15340"
      ]
     },
     "execution_count": 54,
     "metadata": {},
     "output_type": "execute_result"
    }
   ],
   "source": [
    "len(prediction)"
   ]
  },
  {
   "cell_type": "code",
   "execution_count": 55,
   "id": "3a36104b",
   "metadata": {},
   "outputs": [
    {
     "data": {
      "text/plain": [
       "15360"
      ]
     },
     "execution_count": 55,
     "metadata": {},
     "output_type": "execute_result"
    }
   ],
   "source": [
    "len(test)"
   ]
  },
  {
   "cell_type": "code",
   "execution_count": 56,
   "id": "5fb27eb3",
   "metadata": {},
   "outputs": [
    {
     "data": {
      "text/plain": [
       "[<matplotlib.lines.Line2D at 0x143c4362970>]"
      ]
     },
     "execution_count": 56,
     "metadata": {},
     "output_type": "execute_result"
    },
    {
     "data": {
      "image/png": "[encoded data removed]",
      "text/plain": [
       "<Figure size 432x288 with 1 Axes>"
      ]
     },
     "metadata": {
      "needs_background": "light"
     },
     "output_type": "display_data"
    }
   ],
   "source": [
    "plt.plot(test[:15340])"
   ]
  },
  {
   "cell_type": "code",
   "execution_count": 57,
   "id": "4a0dcb6d",
   "metadata": {},
   "outputs": [
    {
     "data": {
      "text/plain": [
       "[<matplotlib.lines.Line2D at 0x143d004db50>]"
      ]
     },
     "execution_count": 57,
     "metadata": {},
     "output_type": "execute_result"
    },
    {
     "data": {
      "image/png": "[encoded data removed]",
      "text/plain": [
       "<Figure size 432x288 with 1 Axes>"
      ]
     },
     "metadata": {
      "needs_background": "light"
     },
     "output_type": "display_data"
    }
   ],
   "source": [
    "plt.plot(prediction)"
   ]
  },
  {
   "cell_type": "markdown",
   "id": "2e3f7663",
   "metadata": {},
   "source": [
    "### 일부 구간 확인"
   ]
  },
  {
   "cell_type": "code",
   "execution_count": 58,
   "id": "ec1ae83e",
   "metadata": {},
   "outputs": [
    {
     "data": {
      "image/png": "[encoded data removed]",
      "text/plain": [
       "<Figure size 432x288 with 1 Axes>"
      ]
     },
     "metadata": {
      "needs_background": "light"
     },
     "output_type": "display_data"
    }
   ],
   "source": [
    "plt.plot(test[20:1020])\n",
    "plt.plot(prediction[:1000], color= 'red')\n",
    "plt.show()"
   ]
  },
  {
   "cell_type": "code",
   "execution_count": 59,
   "id": "b3827bc4",
   "metadata": {
    "scrolled": true
   },
   "outputs": [
    {
     "data": {
      "image/png": "[encoded data removed]",
      "text/plain": [
       "<Figure size 432x288 with 1 Axes>"
      ]
     },
     "metadata": {
      "needs_background": "light"
     },
     "output_type": "display_data"
    }
   ],
   "source": [
    "plt.plot(test[1020:2020])\n",
    "plt.plot(prediction[1000:2000], color= 'red')\n",
    "plt.show()"
   ]
  },
  {
   "cell_type": "markdown",
   "id": "27709461",
   "metadata": {},
   "source": [
    "Noise +friction Test"
   ]
  },
  {
   "cell_type": "code",
   "execution_count": 66,
   "id": "f2c8b4f7",
   "metadata": {},
   "outputs": [],
   "source": [
    "import os"
   ]
  },
  {
   "cell_type": "code",
   "execution_count": 146,
   "id": "77cb9e80",
   "metadata": {},
   "outputs": [],
   "source": [
    "path = 'D:/data/새 폴더/Si_#3/새 폴더'\n",
    "path"
   ]
  },
  {
   "cell_type": "code",
   "execution_count": 192,
   "id": "3c80b235",
   "metadata": {},
   "outputs": [],
   "source": [
    "from pathlib import Path\n",
    "num_of_files = 0\n",
    "file_list = os.listdir(path)\n",
    "file_list_py = [os.path.join(path,file) for file in file_list if file.endswith('.csv')]\n",
    "file_list_py = sorted(file_list_py, key=os.path.getmtime)\n",
    "# file_list_py = [file for file in file_list[0:5] if file.endswith('.csv')]\n",
    "\n"
   ]
  },
  {
   "cell_type": "code",
   "execution_count": 193,
   "id": "f7d293fd",
   "metadata": {},
   "outputs": [
    {
     "data": {
      "text/plain": [
       "['D:/data/새 폴더/Si_#3/새 폴더\\\\Si_ 3 times1_1_1_241084115.csv',\n",
       " 'D:/data/새 폴더/Si_#3/새 폴더\\\\Si_ 3 times1_1_2_241087115.csv',\n",
       " 'D:/data/새 폴더/Si_#3/새 폴더\\\\Si_ 3 times1_1_3_241090115.csv',\n",
       " 'D:/data/새 폴더/Si_#3/새 폴더\\\\Si_ 3 times1_1_4_241093115.csv',\n",
       " 'D:/data/새 폴더/Si_#3/새 폴더\\\\Si_ 3 times1_1_5_241096115.csv',\n",
       " 'D:/data/새 폴더/Si_#3/새 폴더\\\\Si_ 3 times1_1_6_241099115.csv',\n",
       " 'D:/data/새 폴더/Si_#3/새 폴더\\\\Si_ 3 times1_1_7_241102115.csv',\n",
       " 'D:/data/새 폴더/Si_#3/새 폴더\\\\Si_ 3 times1_1_8_241105115.csv',\n",
       " 'D:/data/새 폴더/Si_#3/새 폴더\\\\Si_ 3 times1_1_9_241108115.csv',\n",
       " 'D:/data/새 폴더/Si_#3/새 폴더\\\\Si_ 3 times1_1_10_241111115.csv',\n",
       " 'D:/data/새 폴더/Si_#3/새 폴더\\\\Si_ 3 times1_1_11_241114115.csv',\n",
       " 'D:/data/새 폴더/Si_#3/새 폴더\\\\Si_ 3 times1_1_12_241117115.csv',\n",
       " 'D:/data/새 폴더/Si_#3/새 폴더\\\\Si_ 3 times1_1_13_241120115.csv',\n",
       " 'D:/data/새 폴더/Si_#3/새 폴더\\\\Si_ 3 times1_1_14_241123115.csv',\n",
       " 'D:/data/새 폴더/Si_#3/새 폴더\\\\Si_ 3 times1_1_15_241126115.csv',\n",
       " 'D:/data/새 폴더/Si_#3/새 폴더\\\\Si_ 3 times1_1_16_241129115.csv',\n",
       " 'D:/data/새 폴더/Si_#3/새 폴더\\\\Si_ 3 times1_1_17_241132115.csv',\n",
       " 'D:/data/새 폴더/Si_#3/새 폴더\\\\Si_ 3 times1_1_18_241135115.csv',\n",
       " 'D:/data/새 폴더/Si_#3/새 폴더\\\\Si_ 3 times1_1_19_241138115.csv',\n",
       " 'D:/data/새 폴더/Si_#3/새 폴더\\\\Si_ 3 times1_1_20_241141115.csv',\n",
       " 'D:/data/새 폴더/Si_#3/새 폴더\\\\Si_ 3 times1_1_21_241144116.csv',\n",
       " 'D:/data/새 폴더/Si_#3/새 폴더\\\\Si_ 3 times1_1_22_241147116.csv',\n",
       " 'D:/data/새 폴더/Si_#3/새 폴더\\\\Si_ 3 times1_1_23_241150116.csv',\n",
       " 'D:/data/새 폴더/Si_#3/새 폴더\\\\Si_ 3 times1_1_24_241153116.csv',\n",
       " 'D:/data/새 폴더/Si_#3/새 폴더\\\\Si_ 3 times1_1_25_241156116.csv',\n",
       " 'D:/data/새 폴더/Si_#3/새 폴더\\\\Si_ 3 times1_1_26_241159116.csv',\n",
       " 'D:/data/새 폴더/Si_#3/새 폴더\\\\Si_ 3 times1_1_27_241162116.csv',\n",
       " 'D:/data/새 폴더/Si_#3/새 폴더\\\\Si_ 3 times1_1_28_241165116.csv',\n",
       " 'D:/data/새 폴더/Si_#3/새 폴더\\\\Si_ 3 times1_1_29_241168116.csv',\n",
       " 'D:/data/새 폴더/Si_#3/새 폴더\\\\Si_ 3 times1_1_30_241171116.csv',\n",
       " 'D:/data/새 폴더/Si_#3/새 폴더\\\\Si_ 3 times1_1_31_241174116.csv',\n",
       " 'D:/data/새 폴더/Si_#3/새 폴더\\\\Si_ 3 times1_1_32_241177116.csv',\n",
       " 'D:/data/새 폴더/Si_#3/새 폴더\\\\Si_ 3 times1_1_33_241180116.csv',\n",
       " 'D:/data/새 폴더/Si_#3/새 폴더\\\\Si_ 3 times1_1_34_241183116.csv',\n",
       " 'D:/data/새 폴더/Si_#3/새 폴더\\\\Si_ 3 times1_1_35_241186116.csv',\n",
       " 'D:/data/새 폴더/Si_#3/새 폴더\\\\Si_ 3 times1_1_36_241189116.csv',\n",
       " 'D:/data/새 폴더/Si_#3/새 폴더\\\\Si_ 3 times1_1_37_241192116.csv',\n",
       " 'D:/data/새 폴더/Si_#3/새 폴더\\\\Si_ 3 times1_1_38_241195116.csv',\n",
       " 'D:/data/새 폴더/Si_#3/새 폴더\\\\Si_ 3 times1_1_39_241198116.csv',\n",
       " 'D:/data/새 폴더/Si_#3/새 폴더\\\\Si_ 3 times1_1_40_241201116.csv',\n",
       " 'D:/data/새 폴더/Si_#3/새 폴더\\\\Si_ 3 times1_1_41_241204117.csv',\n",
       " 'D:/data/새 폴더/Si_#3/새 폴더\\\\Si_ 3 times1_1_42_241207117.csv',\n",
       " 'D:/data/새 폴더/Si_#3/새 폴더\\\\Si_ 3 times1_1_43_241210117.csv',\n",
       " 'D:/data/새 폴더/Si_#3/새 폴더\\\\Si_ 3 times1_1_44_241213117.csv',\n",
       " 'D:/data/새 폴더/Si_#3/새 폴더\\\\Si_ 3 times1_1_45_241216117.csv',\n",
       " 'D:/data/새 폴더/Si_#3/새 폴더\\\\Si_ 3 times1_1_46_241219117.csv',\n",
       " 'D:/data/새 폴더/Si_#3/새 폴더\\\\Si_ 3 times1_1_47_241222117.csv',\n",
       " 'D:/data/새 폴더/Si_#3/새 폴더\\\\Si_ 3 times1_1_48_241225117.csv',\n",
       " 'D:/data/새 폴더/Si_#3/새 폴더\\\\Si_ 3 times1_1_49_241228117.csv',\n",
       " 'D:/data/새 폴더/Si_#3/새 폴더\\\\Si_ 3 times1_1_50_241231117.csv',\n",
       " 'D:/data/새 폴더/Si_#3/새 폴더\\\\Si_ 3 times1_1_51_241234118.csv',\n",
       " 'D:/data/새 폴더/Si_#3/새 폴더\\\\Si_ 3 times1_1_52_241237118.csv',\n",
       " 'D:/data/새 폴더/Si_#3/새 폴더\\\\Si_ 3 times1_1_53_241240119.csv',\n",
       " 'D:/data/새 폴더/Si_#3/새 폴더\\\\Si_ 3 times1_1_54_241243119.csv',\n",
       " 'D:/data/새 폴더/Si_#3/새 폴더\\\\Si_ 3 times1_1_55_241246119.csv',\n",
       " 'D:/data/새 폴더/Si_#3/새 폴더\\\\Si_ 3 times1_1_56_241249119.csv',\n",
       " 'D:/data/새 폴더/Si_#3/새 폴더\\\\Si_ 3 times1_1_57_241252119.csv',\n",
       " 'D:/data/새 폴더/Si_#3/새 폴더\\\\Si_ 3 times1_1_58_241255119.csv',\n",
       " 'D:/data/새 폴더/Si_#3/새 폴더\\\\Si_ 3 times1_1_59_241258119.csv',\n",
       " 'D:/data/새 폴더/Si_#3/새 폴더\\\\Si_ 3 times1_1_60_241261119.csv',\n",
       " 'D:/data/새 폴더/Si_#3/새 폴더\\\\Si_ 3 times1_1_61_241264119.csv',\n",
       " 'D:/data/새 폴더/Si_#3/새 폴더\\\\Si_ 3 times1_1_62_241267119.csv',\n",
       " 'D:/data/새 폴더/Si_#3/새 폴더\\\\Si_ 3 times1_1_63_241270119.csv',\n",
       " 'D:/data/새 폴더/Si_#3/새 폴더\\\\Si_ 3 times1_1_64_241273119.csv',\n",
       " 'D:/data/새 폴더/Si_#3/새 폴더\\\\Si_ 3 times1_1_65_241276119.csv',\n",
       " 'D:/data/새 폴더/Si_#3/새 폴더\\\\Si_ 3 times1_1_66_241279119.csv',\n",
       " 'D:/data/새 폴더/Si_#3/새 폴더\\\\Si_ 3 times1_1_67_241282119.csv',\n",
       " 'D:/data/새 폴더/Si_#3/새 폴더\\\\Si_ 3 times1_1_68_241285119.csv',\n",
       " 'D:/data/새 폴더/Si_#3/새 폴더\\\\Si_ 3 times1_1_69_241288119.csv',\n",
       " 'D:/data/새 폴더/Si_#3/새 폴더\\\\Si_ 3 times1_1_70_241291119.csv',\n",
       " 'D:/data/새 폴더/Si_#3/새 폴더\\\\Si_ 3 times1_1_71_241294119.csv',\n",
       " 'D:/data/새 폴더/Si_#3/새 폴더\\\\Si_ 3 times1_1_72_241297119.csv',\n",
       " 'D:/data/새 폴더/Si_#3/새 폴더\\\\Si_ 3 times1_1_73_241300119.csv',\n",
       " 'D:/data/새 폴더/Si_#3/새 폴더\\\\Si_ 3 times1_1_74_241303119.csv',\n",
       " 'D:/data/새 폴더/Si_#3/새 폴더\\\\Si_ 3 times1_1_75_241306119.csv',\n",
       " 'D:/data/새 폴더/Si_#3/새 폴더\\\\Si_ 3 times1_1_76_241309119.csv',\n",
       " 'D:/data/새 폴더/Si_#3/새 폴더\\\\Si_ 3 times1_1_77_241312119.csv',\n",
       " 'D:/data/새 폴더/Si_#3/새 폴더\\\\Si_ 3 times1_1_78_241315119.csv',\n",
       " 'D:/data/새 폴더/Si_#3/새 폴더\\\\Si_ 3 times1_1_79_241318119.csv',\n",
       " 'D:/data/새 폴더/Si_#3/새 폴더\\\\Si_ 3 times1_1_80_241321119.csv',\n",
       " 'D:/data/새 폴더/Si_#3/새 폴더\\\\Si_ 3 times1_1_81_241324119.csv',\n",
       " 'D:/data/새 폴더/Si_#3/새 폴더\\\\Si_ 3 times1_1_82_241327119.csv',\n",
       " 'D:/data/새 폴더/Si_#3/새 폴더\\\\Si_ 3 times1_1_83_241330119.csv',\n",
       " 'D:/data/새 폴더/Si_#3/새 폴더\\\\Si_ 3 times1_1_84_241333119.csv',\n",
       " 'D:/data/새 폴더/Si_#3/새 폴더\\\\Si_ 3 times1_1_85_241336119.csv',\n",
       " 'D:/data/새 폴더/Si_#3/새 폴더\\\\Si_ 3 times1_1_86_241339119.csv',\n",
       " 'D:/data/새 폴더/Si_#3/새 폴더\\\\Si_ 3 times1_1_87_241342119.csv',\n",
       " 'D:/data/새 폴더/Si_#3/새 폴더\\\\Si_ 3 times1_1_88_241345119.csv',\n",
       " 'D:/data/새 폴더/Si_#3/새 폴더\\\\Si_ 3 times1_1_89_241348119.csv',\n",
       " 'D:/data/새 폴더/Si_#3/새 폴더\\\\Si_ 3 times1_1_90_241351119.csv',\n",
       " 'D:/data/새 폴더/Si_#3/새 폴더\\\\Si_ 3 times1_1_91_241354119.csv',\n",
       " 'D:/data/새 폴더/Si_#3/새 폴더\\\\Si_ 3 times1_1_92_241357119.csv',\n",
       " 'D:/data/새 폴더/Si_#3/새 폴더\\\\Si_ 3 times1_1_93_241360119.csv',\n",
       " 'D:/data/새 폴더/Si_#3/새 폴더\\\\Si_ 3 times1_1_94_241363119.csv',\n",
       " 'D:/data/새 폴더/Si_#3/새 폴더\\\\Si_ 3 times1_1_95_241366119.csv',\n",
       " 'D:/data/새 폴더/Si_#3/새 폴더\\\\Si_ 3 times1_1_96_241369119.csv',\n",
       " 'D:/data/새 폴더/Si_#3/새 폴더\\\\Si_ 3 times1_1_97_241372119.csv',\n",
       " 'D:/data/새 폴더/Si_#3/새 폴더\\\\Si_ 3 times1_1_98_241375119.csv',\n",
       " 'D:/data/새 폴더/Si_#3/새 폴더\\\\Si_ 3 times1_1_99_241378119.csv',\n",
       " 'D:/data/새 폴더/Si_#3/새 폴더\\\\Si_ 3 times1_1_100_241381119.csv',\n",
       " 'D:/data/새 폴더/Si_#3/새 폴더\\\\Si_ 3 times1_1_101_241384119.csv',\n",
       " 'D:/data/새 폴더/Si_#3/새 폴더\\\\Si_ 3 times1_1_102_241387119.csv',\n",
       " 'D:/data/새 폴더/Si_#3/새 폴더\\\\Si_ 3 times1_1_103_241390119.csv',\n",
       " 'D:/data/새 폴더/Si_#3/새 폴더\\\\Si_ 3 times1_1_104_241393119.csv',\n",
       " 'D:/data/새 폴더/Si_#3/새 폴더\\\\Si_ 3 times1_1_105_241396119.csv',\n",
       " 'D:/data/새 폴더/Si_#3/새 폴더\\\\Si_ 3 times1_1_106_241399119.csv',\n",
       " 'D:/data/새 폴더/Si_#3/새 폴더\\\\Si_ 3 times1_1_107_241402119.csv',\n",
       " 'D:/data/새 폴더/Si_#3/새 폴더\\\\Si_ 3 times1_1_108_241405119.csv',\n",
       " 'D:/data/새 폴더/Si_#3/새 폴더\\\\Si_ 3 times1_1_109_241408119.csv',\n",
       " 'D:/data/새 폴더/Si_#3/새 폴더\\\\Si_ 3 times1_1_110_241411119.csv',\n",
       " 'D:/data/새 폴더/Si_#3/새 폴더\\\\Si_ 3 times1_1_111_241414119.csv',\n",
       " 'D:/data/새 폴더/Si_#3/새 폴더\\\\Si_ 3 times1_1_112_241417119.csv',\n",
       " 'D:/data/새 폴더/Si_#3/새 폴더\\\\Si_ 3 times1_1_113_241420119.csv',\n",
       " 'D:/data/새 폴더/Si_#3/새 폴더\\\\Si_ 3 times1_1_114_241423119.csv',\n",
       " 'D:/data/새 폴더/Si_#3/새 폴더\\\\Si_ 3 times1_1_115_241426119.csv',\n",
       " 'D:/data/새 폴더/Si_#3/새 폴더\\\\Si_ 3 times1_1_116_241429119.csv',\n",
       " 'D:/data/새 폴더/Si_#3/새 폴더\\\\Si_ 3 times1_1_117_241432120.csv',\n",
       " 'D:/data/새 폴더/Si_#3/새 폴더\\\\Si_ 3 times1_1_118_241435120.csv',\n",
       " 'D:/data/새 폴더/Si_#3/새 폴더\\\\Si_ 3 times1_1_119_241438120.csv',\n",
       " 'D:/data/새 폴더/Si_#3/새 폴더\\\\Si_ 3 times1_1_120_241441120.csv',\n",
       " 'D:/data/새 폴더/Si_#3/새 폴더\\\\Si_ 3 times1_1_121_241444120.csv',\n",
       " 'D:/data/새 폴더/Si_#3/새 폴더\\\\Si_ 3 times1_1_122_241447120.csv',\n",
       " 'D:/data/새 폴더/Si_#3/새 폴더\\\\Si_ 3 times1_1_123_241450120.csv',\n",
       " 'D:/data/새 폴더/Si_#3/새 폴더\\\\Si_ 3 times1_1_124_241453120.csv',\n",
       " 'D:/data/새 폴더/Si_#3/새 폴더\\\\Si_ 3 times1_1_125_241456120.csv',\n",
       " 'D:/data/새 폴더/Si_#3/새 폴더\\\\Si_ 3 times1_1_126_241459120.csv',\n",
       " 'D:/data/새 폴더/Si_#3/새 폴더\\\\Si_ 3 times1_1_127_241462120.csv',\n",
       " 'D:/data/새 폴더/Si_#3/새 폴더\\\\Si_ 3 times1_1_128_241465120.csv',\n",
       " 'D:/data/새 폴더/Si_#3/새 폴더\\\\Si_ 3 times1_1_129_241468120.csv',\n",
       " 'D:/data/새 폴더/Si_#3/새 폴더\\\\Si_ 3 times1_1_130_241471120.csv',\n",
       " 'D:/data/새 폴더/Si_#3/새 폴더\\\\Si_ 3 times1_1_131_241474120.csv',\n",
       " 'D:/data/새 폴더/Si_#3/새 폴더\\\\Si_ 3 times1_1_132_241477120.csv',\n",
       " 'D:/data/새 폴더/Si_#3/새 폴더\\\\Si_ 3 times1_1_133_241480120.csv',\n",
       " 'D:/data/새 폴더/Si_#3/새 폴더\\\\Si_ 3 times1_1_134_241483121.csv',\n",
       " 'D:/data/새 폴더/Si_#3/새 폴더\\\\Si_ 3 times1_1_135_241486121.csv',\n",
       " 'D:/data/새 폴더/Si_#3/새 폴더\\\\Si_ 3 times1_1_136_241489121.csv',\n",
       " 'D:/data/새 폴더/Si_#3/새 폴더\\\\Si_ 3 times1_1_137_241492121.csv',\n",
       " 'D:/data/새 폴더/Si_#3/새 폴더\\\\Si_ 3 times1_1_138_241495121.csv',\n",
       " 'D:/data/새 폴더/Si_#3/새 폴더\\\\Si_ 3 times1_1_139_241498121.csv',\n",
       " 'D:/data/새 폴더/Si_#3/새 폴더\\\\Si_ 3 times1_1_140_241501121.csv',\n",
       " 'D:/data/새 폴더/Si_#3/새 폴더\\\\Si_ 3 times1_1_141_241504121.csv',\n",
       " 'D:/data/새 폴더/Si_#3/새 폴더\\\\Si_ 3 times1_1_142_241507121.csv',\n",
       " 'D:/data/새 폴더/Si_#3/새 폴더\\\\Si_ 3 times1_1_143_241510121.csv',\n",
       " 'D:/data/새 폴더/Si_#3/새 폴더\\\\Si_ 3 times1_1_144_241513121.csv',\n",
       " 'D:/data/새 폴더/Si_#3/새 폴더\\\\Si_ 3 times1_1_145_241516121.csv',\n",
       " 'D:/data/새 폴더/Si_#3/새 폴더\\\\Si_ 3 times1_1_146_241519121.csv',\n",
       " 'D:/data/새 폴더/Si_#3/새 폴더\\\\Si_ 3 times1_1_147_241522121.csv',\n",
       " 'D:/data/새 폴더/Si_#3/새 폴더\\\\Si_ 3 times1_1_148_241525121.csv',\n",
       " 'D:/data/새 폴더/Si_#3/새 폴더\\\\Si_ 3 times1_1_149_241528121.csv',\n",
       " 'D:/data/새 폴더/Si_#3/새 폴더\\\\Si_ 3 times1_1_150_241531121.csv',\n",
       " 'D:/data/새 폴더/Si_#3/새 폴더\\\\Si_ 3 times1_1_151_241534121.csv',\n",
       " 'D:/data/새 폴더/Si_#3/새 폴더\\\\Si_ 3 times1_1_152_241537121.csv',\n",
       " 'D:/data/새 폴더/Si_#3/새 폴더\\\\Si_ 3 times1_1_153_241540121.csv',\n",
       " 'D:/data/새 폴더/Si_#3/새 폴더\\\\Si_ 3 times1_1_154_241543121.csv',\n",
       " 'D:/data/새 폴더/Si_#3/새 폴더\\\\Si_ 3 times1_1_155_241546121.csv',\n",
       " 'D:/data/새 폴더/Si_#3/새 폴더\\\\Si_ 3 times1_1_156_241549121.csv',\n",
       " 'D:/data/새 폴더/Si_#3/새 폴더\\\\Si_ 3 times1_1_157_241552121.csv',\n",
       " 'D:/data/새 폴더/Si_#3/새 폴더\\\\Si_ 3 times1_1_158_241555121.csv',\n",
       " 'D:/data/새 폴더/Si_#3/새 폴더\\\\Si_ 3 times1_1_159_241558121.csv',\n",
       " 'D:/data/새 폴더/Si_#3/새 폴더\\\\Si_ 3 times1_1_160_241561122.csv',\n",
       " 'D:/data/새 폴더/Si_#3/새 폴더\\\\Si_ 3 times1_1_161_241564122.csv',\n",
       " 'D:/data/새 폴더/Si_#3/새 폴더\\\\Si_ 3 times1_1_162_241567122.csv',\n",
       " 'D:/data/새 폴더/Si_#3/새 폴더\\\\Si_ 3 times1_1_163_241570122.csv',\n",
       " 'D:/data/새 폴더/Si_#3/새 폴더\\\\Si_ 3 times1_1_164_241573122.csv',\n",
       " 'D:/data/새 폴더/Si_#3/새 폴더\\\\Si_ 3 times1_1_165_241576122.csv',\n",
       " 'D:/data/새 폴더/Si_#3/새 폴더\\\\Si_ 3 times1_1_166_241579122.csv',\n",
       " 'D:/data/새 폴더/Si_#3/새 폴더\\\\Si_ 3 times1_1_167_241582122.csv',\n",
       " 'D:/data/새 폴더/Si_#3/새 폴더\\\\Si_ 3 times1_1_168_241585122.csv',\n",
       " 'D:/data/새 폴더/Si_#3/새 폴더\\\\Si_ 3 times1_1_169_241588122.csv',\n",
       " 'D:/data/새 폴더/Si_#3/새 폴더\\\\Si_ 3 times1_1_170_241591122.csv',\n",
       " 'D:/data/새 폴더/Si_#3/새 폴더\\\\Si_ 3 times1_1_171_241594122.csv',\n",
       " 'D:/data/새 폴더/Si_#3/새 폴더\\\\Si_ 3 times1_1_172_241597122.csv',\n",
       " 'D:/data/새 폴더/Si_#3/새 폴더\\\\Si_ 3 times1_1_173_241600122.csv',\n",
       " 'D:/data/새 폴더/Si_#3/새 폴더\\\\Si_ 3 times1_1_174_241603122.csv',\n",
       " 'D:/data/새 폴더/Si_#3/새 폴더\\\\Si_ 3 times1_1_175_241606122.csv',\n",
       " 'D:/data/새 폴더/Si_#3/새 폴더\\\\Si_ 3 times1_1_176_241609122.csv',\n",
       " 'D:/data/새 폴더/Si_#3/새 폴더\\\\Si_ 3 times1_1_177_241612122.csv',\n",
       " 'D:/data/새 폴더/Si_#3/새 폴더\\\\Si_ 3 times1_1_178_241615122.csv',\n",
       " 'D:/data/새 폴더/Si_#3/새 폴더\\\\Si_ 3 times1_1_179_241618122.csv',\n",
       " 'D:/data/새 폴더/Si_#3/새 폴더\\\\Si_ 3 times1_1_180_241621122.csv',\n",
       " 'D:/data/새 폴더/Si_#3/새 폴더\\\\Si_ 3 times1_1_181_241624122.csv',\n",
       " 'D:/data/새 폴더/Si_#3/새 폴더\\\\Si_ 3 times1_1_182_241627122.csv',\n",
       " 'D:/data/새 폴더/Si_#3/새 폴더\\\\Si_ 3 times1_1_183_241630122.csv',\n",
       " 'D:/data/새 폴더/Si_#3/새 폴더\\\\Si_ 3 times1_1_184_241633122.csv',\n",
       " 'D:/data/새 폴더/Si_#3/새 폴더\\\\Si_ 3 times1_1_185_241636122.csv',\n",
       " 'D:/data/새 폴더/Si_#3/새 폴더\\\\Si_ 3 times1_1_186_241639122.csv',\n",
       " 'D:/data/새 폴더/Si_#3/새 폴더\\\\Si_ 3 times1_1_187_241642122.csv',\n",
       " 'D:/data/새 폴더/Si_#3/새 폴더\\\\Si_ 3 times1_1_188_241645122.csv',\n",
       " 'D:/data/새 폴더/Si_#3/새 폴더\\\\Si_ 3 times1_1_189_241648122.csv',\n",
       " 'D:/data/새 폴더/Si_#3/새 폴더\\\\Si_ 3 times1_1_190_241651122.csv',\n",
       " 'D:/data/새 폴더/Si_#3/새 폴더\\\\Si_ 3 times1_1_191_241654123.csv',\n",
       " 'D:/data/새 폴더/Si_#3/새 폴더\\\\Si_ 3 times1_1_192_241657123.csv',\n",
       " 'D:/data/새 폴더/Si_#3/새 폴더\\\\Si_ 3 times1_1_193_241660123.csv',\n",
       " 'D:/data/새 폴더/Si_#3/새 폴더\\\\Si_ 3 times1_1_194_241663123.csv',\n",
       " 'D:/data/새 폴더/Si_#3/새 폴더\\\\Si_ 3 times1_1_195_241666123.csv',\n",
       " 'D:/data/새 폴더/Si_#3/새 폴더\\\\Si_ 3 times1_1_196_241669123.csv',\n",
       " 'D:/data/새 폴더/Si_#3/새 폴더\\\\Si_ 3 times1_1_197_241672123.csv',\n",
       " 'D:/data/새 폴더/Si_#3/새 폴더\\\\Si_ 3 times1_1_198_241675123.csv',\n",
       " 'D:/data/새 폴더/Si_#3/새 폴더\\\\Si_ 3 times1_1_199_241678123.csv',\n",
       " 'D:/data/새 폴더/Si_#3/새 폴더\\\\Si_ 3 times1_1_200_241681123.csv',\n",
       " 'D:/data/새 폴더/Si_#3/새 폴더\\\\Si_ 3 times1_1_201_241684123.csv',\n",
       " 'D:/data/새 폴더/Si_#3/새 폴더\\\\Si_ 3 times1_1_202_241687123.csv',\n",
       " 'D:/data/새 폴더/Si_#3/새 폴더\\\\Si_ 3 times1_1_203_241690123.csv',\n",
       " 'D:/data/새 폴더/Si_#3/새 폴더\\\\Si_ 3 times1_1_204_241693123.csv',\n",
       " 'D:/data/새 폴더/Si_#3/새 폴더\\\\Si_ 3 times1_1_205_241696123.csv',\n",
       " 'D:/data/새 폴더/Si_#3/새 폴더\\\\Si_ 3 times1_1_206_241699123.csv',\n",
       " 'D:/data/새 폴더/Si_#3/새 폴더\\\\Si_ 3 times1_1_207_241702123.csv',\n",
       " 'D:/data/새 폴더/Si_#3/새 폴더\\\\Si_ 3 times1_1_208_241705123.csv',\n",
       " 'D:/data/새 폴더/Si_#3/새 폴더\\\\Si_ 3 times1_1_209_241708123.csv',\n",
       " 'D:/data/새 폴더/Si_#3/새 폴더\\\\Si_ 3 times1_1_210_241711123.csv',\n",
       " 'D:/data/새 폴더/Si_#3/새 폴더\\\\Si_ 3 times1_1_211_241714123.csv',\n",
       " 'D:/data/새 폴더/Si_#3/새 폴더\\\\Si_ 3 times1_1_212_241717123.csv',\n",
       " 'D:/data/새 폴더/Si_#3/새 폴더\\\\Si_ 3 times1_1_213_241720123.csv',\n",
       " 'D:/data/새 폴더/Si_#3/새 폴더\\\\Si_ 3 times1_1_214_241723123.csv',\n",
       " 'D:/data/새 폴더/Si_#3/새 폴더\\\\Si_ 3 times1_1_215_241726123.csv',\n",
       " 'D:/data/새 폴더/Si_#3/새 폴더\\\\Si_ 3 times1_1_216_241729123.csv',\n",
       " 'D:/data/새 폴더/Si_#3/새 폴더\\\\Si_ 3 times1_1_217_241732123.csv',\n",
       " 'D:/data/새 폴더/Si_#3/새 폴더\\\\Si_ 3 times1_1_218_241735123.csv',\n",
       " 'D:/data/새 폴더/Si_#3/새 폴더\\\\Si_ 3 times1_1_219_241738123.csv',\n",
       " 'D:/data/새 폴더/Si_#3/새 폴더\\\\Si_ 3 times1_1_220_241741123.csv',\n",
       " 'D:/data/새 폴더/Si_#3/새 폴더\\\\Si_ 3 times1_1_221_241744123.csv',\n",
       " 'D:/data/새 폴더/Si_#3/새 폴더\\\\Si_ 3 times1_1_222_241747123.csv',\n",
       " 'D:/data/새 폴더/Si_#3/새 폴더\\\\Si_ 3 times1_1_223_241750123.csv',\n",
       " 'D:/data/새 폴더/Si_#3/새 폴더\\\\Si_ 3 times1_1_224_241753123.csv',\n",
       " 'D:/data/새 폴더/Si_#3/새 폴더\\\\Si_ 3 times1_1_225_241756123.csv',\n",
       " 'D:/data/새 폴더/Si_#3/새 폴더\\\\Si_ 3 times1_1_226_241759123.csv',\n",
       " 'D:/data/새 폴더/Si_#3/새 폴더\\\\Si_ 3 times1_1_227_241762123.csv',\n",
       " 'D:/data/새 폴더/Si_#3/새 폴더\\\\Si_ 3 times1_1_228_241765123.csv',\n",
       " 'D:/data/새 폴더/Si_#3/새 폴더\\\\Si_ 3 times1_1_229_241768123.csv',\n",
       " 'D:/data/새 폴더/Si_#3/새 폴더\\\\Si_ 3 times1_1_230_241771123.csv',\n",
       " 'D:/data/새 폴더/Si_#3/새 폴더\\\\Si_ 3 times1_1_231_241774123.csv',\n",
       " 'D:/data/새 폴더/Si_#3/새 폴더\\\\Si_ 3 times1_1_232_241777123.csv',\n",
       " 'D:/data/새 폴더/Si_#3/새 폴더\\\\Si_ 3 times1_1_233_241780123.csv',\n",
       " 'D:/data/새 폴더/Si_#3/새 폴더\\\\Si_ 3 times1_1_234_241783123.csv',\n",
       " 'D:/data/새 폴더/Si_#3/새 폴더\\\\Si_ 3 times1_1_235_241786123.csv',\n",
       " 'D:/data/새 폴더/Si_#3/새 폴더\\\\Si_ 3 times1_1_236_241789123.csv',\n",
       " 'D:/data/새 폴더/Si_#3/새 폴더\\\\Si_ 3 times1_1_237_241792123.csv',\n",
       " 'D:/data/새 폴더/Si_#3/새 폴더\\\\Si_ 3 times1_1_238_241795123.csv',\n",
       " 'D:/data/새 폴더/Si_#3/새 폴더\\\\Si_ 3 times1_1_239_241798123.csv',\n",
       " 'D:/data/새 폴더/Si_#3/새 폴더\\\\Si_ 3 times1_1_240_241801123.csv',\n",
       " 'D:/data/새 폴더/Si_#3/새 폴더\\\\Si_ 3 times1_1_241_241804123.csv',\n",
       " 'D:/data/새 폴더/Si_#3/새 폴더\\\\Si_ 3 times1_1_242_241807123.csv',\n",
       " 'D:/data/새 폴더/Si_#3/새 폴더\\\\Si_ 3 times1_1_243_241810123.csv',\n",
       " 'D:/data/새 폴더/Si_#3/새 폴더\\\\Si_ 3 times1_1_244_241813123.csv',\n",
       " 'D:/data/새 폴더/Si_#3/새 폴더\\\\Si_ 3 times1_1_245_241816123.csv',\n",
       " 'D:/data/새 폴더/Si_#3/새 폴더\\\\Si_ 3 times1_1_246_241819123.csv',\n",
       " 'D:/data/새 폴더/Si_#3/새 폴더\\\\Si_ 3 times1_1_247_241822123.csv',\n",
       " 'D:/data/새 폴더/Si_#3/새 폴더\\\\Si_ 3 times1_1_248_241825123.csv',\n",
       " 'D:/data/새 폴더/Si_#3/새 폴더\\\\Si_ 3 times1_1_249_241828123.csv',\n",
       " 'D:/data/새 폴더/Si_#3/새 폴더\\\\Si_ 3 times1_1_250_241831123.csv',\n",
       " 'D:/data/새 폴더/Si_#3/새 폴더\\\\Si_ 3 times1_1_251_241834123.csv',\n",
       " 'D:/data/새 폴더/Si_#3/새 폴더\\\\Si_ 3 times1_1_252_241837123.csv',\n",
       " 'D:/data/새 폴더/Si_#3/새 폴더\\\\Si_ 3 times1_1_253_241840123.csv',\n",
       " 'D:/data/새 폴더/Si_#3/새 폴더\\\\Si_ 3 times1_1_254_241843123.csv',\n",
       " 'D:/data/새 폴더/Si_#3/새 폴더\\\\Si_ 3 times1_1_255_241846123.csv',\n",
       " 'D:/data/새 폴더/Si_#3/새 폴더\\\\Si_ 3 times1_1_256_241849123.csv',\n",
       " 'D:/data/새 폴더/Si_#3/새 폴더\\\\Si_ 3 times1_1_257_241852123.csv',\n",
       " 'D:/data/새 폴더/Si_#3/새 폴더\\\\Si_ 3 times1_1_258_241855123.csv',\n",
       " 'D:/data/새 폴더/Si_#3/새 폴더\\\\Si_ 3 times1_1_259_241858123.csv',\n",
       " 'D:/data/새 폴더/Si_#3/새 폴더\\\\Si_ 3 times1_1_260_241861123.csv',\n",
       " 'D:/data/새 폴더/Si_#3/새 폴더\\\\Si_ 3 times1_1_261_241864123.csv',\n",
       " 'D:/data/새 폴더/Si_#3/새 폴더\\\\Si_ 3 times1_1_262_241867123.csv',\n",
       " 'D:/data/새 폴더/Si_#3/새 폴더\\\\Si_ 3 times1_1_263_241870123.csv',\n",
       " 'D:/data/새 폴더/Si_#3/새 폴더\\\\Si_ 3 times1_1_264_241873123.csv',\n",
       " 'D:/data/새 폴더/Si_#3/새 폴더\\\\Si_ 3 times1_1_265_241876123.csv',\n",
       " 'D:/data/새 폴더/Si_#3/새 폴더\\\\Si_ 3 times1_1_266_241879123.csv',\n",
       " 'D:/data/새 폴더/Si_#3/새 폴더\\\\Si_ 3 times1_1_267_241882123.csv',\n",
       " 'D:/data/새 폴더/Si_#3/새 폴더\\\\Si_ 3 times1_1_268_241885123.csv',\n",
       " 'D:/data/새 폴더/Si_#3/새 폴더\\\\Si_ 3 times1_1_269_241888123.csv',\n",
       " 'D:/data/새 폴더/Si_#3/새 폴더\\\\Si_ 3 times1_1_270_241891124.csv',\n",
       " 'D:/data/새 폴더/Si_#3/새 폴더\\\\Si_ 3 times1_1_271_241894124.csv',\n",
       " 'D:/data/새 폴더/Si_#3/새 폴더\\\\Si_ 3 times1_1_272_241897124.csv',\n",
       " 'D:/data/새 폴더/Si_#3/새 폴더\\\\Si_ 3 times1_1_273_241900124.csv',\n",
       " 'D:/data/새 폴더/Si_#3/새 폴더\\\\Si_ 3 times1_1_274_241903125.csv',\n",
       " 'D:/data/새 폴더/Si_#3/새 폴더\\\\Si_ 3 times1_1_275_241906125.csv',\n",
       " 'D:/data/새 폴더/Si_#3/새 폴더\\\\Si_ 3 times1_1_276_241909125.csv',\n",
       " 'D:/data/새 폴더/Si_#3/새 폴더\\\\Si_ 3 times1_1_277_241912125.csv',\n",
       " 'D:/data/새 폴더/Si_#3/새 폴더\\\\Si_ 3 times1_1_278_241915125.csv',\n",
       " 'D:/data/새 폴더/Si_#3/새 폴더\\\\Si_ 3 times1_1_279_241918125.csv',\n",
       " 'D:/data/새 폴더/Si_#3/새 폴더\\\\Si_ 3 times1_1_280_241921125.csv',\n",
       " 'D:/data/새 폴더/Si_#3/새 폴더\\\\Si_ 3 times1_1_281_241924125.csv',\n",
       " 'D:/data/새 폴더/Si_#3/새 폴더\\\\Si_ 3 times1_1_282_241927125.csv',\n",
       " 'D:/data/새 폴더/Si_#3/새 폴더\\\\Si_ 3 times1_1_283_241930125.csv',\n",
       " 'D:/data/새 폴더/Si_#3/새 폴더\\\\Si_ 3 times1_1_284_241933125.csv',\n",
       " 'D:/data/새 폴더/Si_#3/새 폴더\\\\Si_ 3 times1_1_285_241936125.csv',\n",
       " 'D:/data/새 폴더/Si_#3/새 폴더\\\\Si_ 3 times1_1_286_241939125.csv',\n",
       " 'D:/data/새 폴더/Si_#3/새 폴더\\\\Si_ 3 times1_1_287_241942125.csv',\n",
       " 'D:/data/새 폴더/Si_#3/새 폴더\\\\Si_ 3 times1_1_288_241945125.csv',\n",
       " 'D:/data/새 폴더/Si_#3/새 폴더\\\\Si_ 3 times1_1_289_241948126.csv',\n",
       " 'D:/data/새 폴더/Si_#3/새 폴더\\\\Si_ 3 times1_1_290_241951126.csv',\n",
       " 'D:/data/새 폴더/Si_#3/새 폴더\\\\Si_ 3 times1_1_291_241954126.csv',\n",
       " 'D:/data/새 폴더/Si_#3/새 폴더\\\\Si_ 3 times1_1_292_241957126.csv',\n",
       " 'D:/data/새 폴더/Si_#3/새 폴더\\\\Si_ 3 times1_1_293_241960126.csv',\n",
       " 'D:/data/새 폴더/Si_#3/새 폴더\\\\Si_ 3 times1_1_294_241963126.csv',\n",
       " 'D:/data/새 폴더/Si_#3/새 폴더\\\\Si_ 3 times1_1_295_241966126.csv',\n",
       " 'D:/data/새 폴더/Si_#3/새 폴더\\\\Si_ 3 times1_1_296_241969126.csv',\n",
       " 'D:/data/새 폴더/Si_#3/새 폴더\\\\Si_ 3 times1_1_297_241972126.csv',\n",
       " 'D:/data/새 폴더/Si_#3/새 폴더\\\\Si_ 3 times1_1_298_241975126.csv',\n",
       " 'D:/data/새 폴더/Si_#3/새 폴더\\\\Si_ 3 times1_1_299_241978126.csv',\n",
       " 'D:/data/새 폴더/Si_#3/새 폴더\\\\Si_ 3 times1_1_300_241981126.csv',\n",
       " 'D:/data/새 폴더/Si_#3/새 폴더\\\\Si_ 3 times1_1_301_241984126.csv',\n",
       " 'D:/data/새 폴더/Si_#3/새 폴더\\\\Si_ 3 times1_1_302_241987126.csv',\n",
       " 'D:/data/새 폴더/Si_#3/새 폴더\\\\Si_ 3 times1_1_303_241990126.csv',\n",
       " 'D:/data/새 폴더/Si_#3/새 폴더\\\\Si_ 3 times1_1_304_241993126.csv',\n",
       " 'D:/data/새 폴더/Si_#3/새 폴더\\\\Si_ 3 times1_1_305_241996126.csv',\n",
       " 'D:/data/새 폴더/Si_#3/새 폴더\\\\Si_ 3 times1_1_306_241999126.csv',\n",
       " 'D:/data/새 폴더/Si_#3/새 폴더\\\\Si_ 3 times1_1_307_242002126.csv',\n",
       " 'D:/data/새 폴더/Si_#3/새 폴더\\\\Si_ 3 times1_1_308_242005126.csv',\n",
       " 'D:/data/새 폴더/Si_#3/새 폴더\\\\Si_ 3 times1_1_309_242008126.csv',\n",
       " 'D:/data/새 폴더/Si_#3/새 폴더\\\\Si_ 3 times1_1_310_242011126.csv',\n",
       " 'D:/data/새 폴더/Si_#3/새 폴더\\\\Si_ 3 times1_1_311_242014126.csv',\n",
       " 'D:/data/새 폴더/Si_#3/새 폴더\\\\Si_ 3 times1_1_312_242017126.csv',\n",
       " 'D:/data/새 폴더/Si_#3/새 폴더\\\\Si_ 3 times1_1_313_242020126.csv',\n",
       " 'D:/data/새 폴더/Si_#3/새 폴더\\\\Si_ 3 times1_1_314_242023126.csv',\n",
       " 'D:/data/새 폴더/Si_#3/새 폴더\\\\Si_ 3 times1_1_315_242026126.csv',\n",
       " 'D:/data/새 폴더/Si_#3/새 폴더\\\\Si_ 3 times1_1_316_242029126.csv',\n",
       " 'D:/data/새 폴더/Si_#3/새 폴더\\\\Si_ 3 times1_1_317_242032126.csv',\n",
       " 'D:/data/새 폴더/Si_#3/새 폴더\\\\Si_ 3 times1_1_318_242035126.csv',\n",
       " 'D:/data/새 폴더/Si_#3/새 폴더\\\\Si_ 3 times1_1_319_242038127.csv',\n",
       " 'D:/data/새 폴더/Si_#3/새 폴더\\\\Si_ 3 times1_1_320_242041127.csv',\n",
       " 'D:/data/새 폴더/Si_#3/새 폴더\\\\Si_ 3 times1_1_321_242044127.csv',\n",
       " 'D:/data/새 폴더/Si_#3/새 폴더\\\\Si_ 3 times1_1_322_242047127.csv',\n",
       " 'D:/data/새 폴더/Si_#3/새 폴더\\\\Si_ 3 times1_1_323_242050127.csv',\n",
       " 'D:/data/새 폴더/Si_#3/새 폴더\\\\Si_ 3 times1_1_324_242053127.csv',\n",
       " 'D:/data/새 폴더/Si_#3/새 폴더\\\\Si_ 3 times1_1_325_242056127.csv',\n",
       " 'D:/data/새 폴더/Si_#3/새 폴더\\\\Si_ 3 times1_1_326_242059127.csv',\n",
       " 'D:/data/새 폴더/Si_#3/새 폴더\\\\Si_ 3 times1_1_327_242062127.csv',\n",
       " 'D:/data/새 폴더/Si_#3/새 폴더\\\\Si_ 3 times1_1_328_242065127.csv',\n",
       " 'D:/data/새 폴더/Si_#3/새 폴더\\\\Si_ 3 times1_1_329_242068127.csv',\n",
       " 'D:/data/새 폴더/Si_#3/새 폴더\\\\Si_ 3 times1_1_330_242071128.csv',\n",
       " 'D:/data/새 폴더/Si_#3/새 폴더\\\\Si_ 3 times1_1_331_242074128.csv',\n",
       " 'D:/data/새 폴더/Si_#3/새 폴더\\\\Si_ 3 times1_1_332_242077128.csv',\n",
       " 'D:/data/새 폴더/Si_#3/새 폴더\\\\Si_ 3 times1_1_333_242080128.csv',\n",
       " 'D:/data/새 폴더/Si_#3/새 폴더\\\\Si_ 3 times1_1_334_242083128.csv',\n",
       " 'D:/data/새 폴더/Si_#3/새 폴더\\\\Si_ 3 times1_1_335_242086128.csv',\n",
       " 'D:/data/새 폴더/Si_#3/새 폴더\\\\Si_ 3 times1_1_336_242089128.csv',\n",
       " 'D:/data/새 폴더/Si_#3/새 폴더\\\\Si_ 3 times1_1_337_242092128.csv',\n",
       " 'D:/data/새 폴더/Si_#3/새 폴더\\\\Si_ 3 times1_1_338_242095128.csv',\n",
       " 'D:/data/새 폴더/Si_#3/새 폴더\\\\Si_ 3 times1_1_339_242098128.csv',\n",
       " 'D:/data/새 폴더/Si_#3/새 폴더\\\\Si_ 3 times1_1_340_242101128.csv',\n",
       " 'D:/data/새 폴더/Si_#3/새 폴더\\\\Si_ 3 times1_1_341_242104128.csv',\n",
       " 'D:/data/새 폴더/Si_#3/새 폴더\\\\Si_ 3 times1_1_342_242107128.csv',\n",
       " 'D:/data/새 폴더/Si_#3/새 폴더\\\\Si_ 3 times1_1_343_242110128.csv',\n",
       " 'D:/data/새 폴더/Si_#3/새 폴더\\\\Si_ 3 times1_1_344_242113128.csv',\n",
       " 'D:/data/새 폴더/Si_#3/새 폴더\\\\Si_ 3 times1_1_345_242116128.csv',\n",
       " 'D:/data/새 폴더/Si_#3/새 폴더\\\\Si_ 3 times1_1_346_242119128.csv',\n",
       " 'D:/data/새 폴더/Si_#3/새 폴더\\\\Si_ 3 times1_1_347_242122128.csv',\n",
       " 'D:/data/새 폴더/Si_#3/새 폴더\\\\Si_ 3 times1_1_348_242125128.csv',\n",
       " 'D:/data/새 폴더/Si_#3/새 폴더\\\\Si_ 3 times1_1_349_242128128.csv',\n",
       " 'D:/data/새 폴더/Si_#3/새 폴더\\\\Si_ 3 times1_1_350_242131128.csv',\n",
       " 'D:/data/새 폴더/Si_#3/새 폴더\\\\Si_ 3 times1_1_351_242134128.csv',\n",
       " 'D:/data/새 폴더/Si_#3/새 폴더\\\\Si_ 3 times1_1_352_242137128.csv',\n",
       " 'D:/data/새 폴더/Si_#3/새 폴더\\\\Si_ 3 times1_1_353_242140128.csv',\n",
       " 'D:/data/새 폴더/Si_#3/새 폴더\\\\Si_ 3 times1_1_354_242143128.csv',\n",
       " 'D:/data/새 폴더/Si_#3/새 폴더\\\\Si_ 3 times1_1_355_242146128.csv',\n",
       " 'D:/data/새 폴더/Si_#3/새 폴더\\\\Si_ 3 times1_1_356_242149128.csv',\n",
       " 'D:/data/새 폴더/Si_#3/새 폴더\\\\Si_ 3 times1_1_357_242152128.csv',\n",
       " 'D:/data/새 폴더/Si_#3/새 폴더\\\\Si_ 3 times1_1_358_242155128.csv',\n",
       " 'D:/data/새 폴더/Si_#3/새 폴더\\\\Si_ 3 times1_1_359_242158128.csv',\n",
       " 'D:/data/새 폴더/Si_#3/새 폴더\\\\Si_ 3 times1_1_360_242161128.csv',\n",
       " 'D:/data/새 폴더/Si_#3/새 폴더\\\\Si_ 3 times1_1_361_242164128.csv',\n",
       " 'D:/data/새 폴더/Si_#3/새 폴더\\\\Si_ 3 times1_1_362_242167128.csv',\n",
       " 'D:/data/새 폴더/Si_#3/새 폴더\\\\Si_ 3 times1_1_363_242170128.csv',\n",
       " 'D:/data/새 폴더/Si_#3/새 폴더\\\\Si_ 3 times1_1_364_242173128.csv',\n",
       " 'D:/data/새 폴더/Si_#3/새 폴더\\\\Si_ 3 times1_1_365_242176128.csv',\n",
       " 'D:/data/새 폴더/Si_#3/새 폴더\\\\Si_ 3 times1_1_366_242179128.csv',\n",
       " 'D:/data/새 폴더/Si_#3/새 폴더\\\\Si_ 3 times1_1_367_242182128.csv',\n",
       " 'D:/data/새 폴더/Si_#3/새 폴더\\\\Si_ 3 times1_1_368_242185128.csv',\n",
       " 'D:/data/새 폴더/Si_#3/새 폴더\\\\Si_ 3 times1_1_369_242188128.csv',\n",
       " 'D:/data/새 폴더/Si_#3/새 폴더\\\\Si_ 3 times1_1_370_242191128.csv',\n",
       " 'D:/data/새 폴더/Si_#3/새 폴더\\\\Si_ 3 times1_1_371_242194128.csv',\n",
       " 'D:/data/새 폴더/Si_#3/새 폴더\\\\Si_ 3 times1_1_372_242197128.csv',\n",
       " 'D:/data/새 폴더/Si_#3/새 폴더\\\\Si_ 3 times1_1_373_242200129.csv',\n",
       " 'D:/data/새 폴더/Si_#3/새 폴더\\\\Si_ 3 times1_1_374_242203129.csv',\n",
       " 'D:/data/새 폴더/Si_#3/새 폴더\\\\Si_ 3 times1_1_375_242206129.csv',\n",
       " 'D:/data/새 폴더/Si_#3/새 폴더\\\\Si_ 3 times1_1_376_242209129.csv',\n",
       " 'D:/data/새 폴더/Si_#3/새 폴더\\\\Si_ 3 times1_1_377_242212129.csv',\n",
       " 'D:/data/새 폴더/Si_#3/새 폴더\\\\Si_ 3 times1_1_378_242215129.csv',\n",
       " 'D:/data/새 폴더/Si_#3/새 폴더\\\\Si_ 3 times1_1_379_242218129.csv',\n",
       " 'D:/data/새 폴더/Si_#3/새 폴더\\\\Si_ 3 times1_1_380_242221129.csv',\n",
       " 'D:/data/새 폴더/Si_#3/새 폴더\\\\Si_ 3 times1_1_381_242224129.csv',\n",
       " 'D:/data/새 폴더/Si_#3/새 폴더\\\\Si_ 3 times1_1_382_242227129.csv',\n",
       " 'D:/data/새 폴더/Si_#3/새 폴더\\\\Si_ 3 times1_1_383_242230129.csv',\n",
       " 'D:/data/새 폴더/Si_#3/새 폴더\\\\Si_ 3 times1_1_384_242233129.csv',\n",
       " 'D:/data/새 폴더/Si_#3/새 폴더\\\\Si_ 3 times1_1_385_242236129.csv',\n",
       " 'D:/data/새 폴더/Si_#3/새 폴더\\\\Si_ 3 times1_1_386_242239129.csv',\n",
       " 'D:/data/새 폴더/Si_#3/새 폴더\\\\Si_ 3 times1_1_387_242242129.csv',\n",
       " 'D:/data/새 폴더/Si_#3/새 폴더\\\\Si_ 3 times1_1_388_242245129.csv',\n",
       " 'D:/data/새 폴더/Si_#3/새 폴더\\\\Si_ 3 times1_1_389_242248129.csv',\n",
       " 'D:/data/새 폴더/Si_#3/새 폴더\\\\Si_ 3 times1_1_390_242251129.csv',\n",
       " 'D:/data/새 폴더/Si_#3/새 폴더\\\\Si_ 3 times1_1_391_242254129.csv',\n",
       " 'D:/data/새 폴더/Si_#3/새 폴더\\\\Si_ 3 times1_1_392_242257129.csv',\n",
       " 'D:/data/새 폴더/Si_#3/새 폴더\\\\Si_ 3 times1_1_393_242260129.csv',\n",
       " 'D:/data/새 폴더/Si_#3/새 폴더\\\\Si_ 3 times1_1_394_242263129.csv',\n",
       " 'D:/data/새 폴더/Si_#3/새 폴더\\\\Si_ 3 times1_1_395_242266129.csv',\n",
       " 'D:/data/새 폴더/Si_#3/새 폴더\\\\Si_ 3 times1_1_396_242269129.csv',\n",
       " 'D:/data/새 폴더/Si_#3/새 폴더\\\\Si_ 3 times1_1_397_242272129.csv',\n",
       " 'D:/data/새 폴더/Si_#3/새 폴더\\\\Si_ 3 times1_1_398_242275129.csv',\n",
       " 'D:/data/새 폴더/Si_#3/새 폴더\\\\Si_ 3 times1_1_399_242278129.csv',\n",
       " 'D:/data/새 폴더/Si_#3/새 폴더\\\\Si_ 3 times1_1_400_242281129.csv',\n",
       " 'D:/data/새 폴더/Si_#3/새 폴더\\\\Si_ 3 times1_1_401_242284129.csv',\n",
       " 'D:/data/새 폴더/Si_#3/새 폴더\\\\Si_ 3 times1_1_402_242287129.csv',\n",
       " 'D:/data/새 폴더/Si_#3/새 폴더\\\\Si_ 3 times1_1_403_242290129.csv',\n",
       " 'D:/data/새 폴더/Si_#3/새 폴더\\\\Si_ 3 times1_1_404_242293129.csv',\n",
       " 'D:/data/새 폴더/Si_#3/새 폴더\\\\Si_ 3 times1_1_405_242296129.csv',\n",
       " 'D:/data/새 폴더/Si_#3/새 폴더\\\\Si_ 3 times1_1_406_242299129.csv',\n",
       " 'D:/data/새 폴더/Si_#3/새 폴더\\\\Si_ 3 times1_1_407_242302129.csv',\n",
       " 'D:/data/새 폴더/Si_#3/새 폴더\\\\Si_ 3 times1_1_408_242305129.csv',\n",
       " 'D:/data/새 폴더/Si_#3/새 폴더\\\\Si_ 3 times1_1_409_242308129.csv',\n",
       " 'D:/data/새 폴더/Si_#3/새 폴더\\\\Si_ 3 times1_1_410_242311129.csv',\n",
       " 'D:/data/새 폴더/Si_#3/새 폴더\\\\Si_ 3 times1_1_411_242314129.csv',\n",
       " 'D:/data/새 폴더/Si_#3/새 폴더\\\\Si_ 3 times1_1_412_242317129.csv',\n",
       " 'D:/data/새 폴더/Si_#3/새 폴더\\\\Si_ 3 times1_1_413_242320129.csv',\n",
       " 'D:/data/새 폴더/Si_#3/새 폴더\\\\Si_ 3 times1_1_414_242323129.csv',\n",
       " 'D:/data/새 폴더/Si_#3/새 폴더\\\\Si_ 3 times1_1_415_242326129.csv',\n",
       " 'D:/data/새 폴더/Si_#3/새 폴더\\\\Si_ 3 times1_1_416_242329129.csv',\n",
       " 'D:/data/새 폴더/Si_#3/새 폴더\\\\Si_ 3 times1_1_417_242332129.csv',\n",
       " 'D:/data/새 폴더/Si_#3/새 폴더\\\\Si_ 3 times1_1_418_242335129.csv',\n",
       " 'D:/data/새 폴더/Si_#3/새 폴더\\\\Si_ 3 times1_1_419_242338129.csv',\n",
       " 'D:/data/새 폴더/Si_#3/새 폴더\\\\Si_ 3 times1_1_420_242341129.csv',\n",
       " 'D:/data/새 폴더/Si_#3/새 폴더\\\\Si_ 3 times1_1_421_242344129.csv',\n",
       " 'D:/data/새 폴더/Si_#3/새 폴더\\\\Si_ 3 times1_1_422_242347129.csv',\n",
       " 'D:/data/새 폴더/Si_#3/새 폴더\\\\Si_ 3 times1_1_423_242350129.csv',\n",
       " 'D:/data/새 폴더/Si_#3/새 폴더\\\\Si_ 3 times1_1_424_242353129.csv',\n",
       " 'D:/data/새 폴더/Si_#3/새 폴더\\\\Si_ 3 times1_1_425_242356129.csv',\n",
       " 'D:/data/새 폴더/Si_#3/새 폴더\\\\Si_ 3 times1_1_426_242359129.csv',\n",
       " 'D:/data/새 폴더/Si_#3/새 폴더\\\\Si_ 3 times1_1_427_242362129.csv',\n",
       " 'D:/data/새 폴더/Si_#3/새 폴더\\\\Si_ 3 times1_1_428_242365129.csv',\n",
       " 'D:/data/새 폴더/Si_#3/새 폴더\\\\Si_ 3 times1_1_429_242368129.csv',\n",
       " 'D:/data/새 폴더/Si_#3/새 폴더\\\\Si_ 3 times1_1_430_242371129.csv',\n",
       " 'D:/data/새 폴더/Si_#3/새 폴더\\\\Si_ 3 times1_1_431_242374129.csv',\n",
       " 'D:/data/새 폴더/Si_#3/새 폴더\\\\Si_ 3 times1_1_432_242377129.csv',\n",
       " 'D:/data/새 폴더/Si_#3/새 폴더\\\\Si_ 3 times1_1_433_242380129.csv',\n",
       " 'D:/data/새 폴더/Si_#3/새 폴더\\\\Si_ 3 times1_1_434_242383129.csv',\n",
       " 'D:/data/새 폴더/Si_#3/새 폴더\\\\Si_ 3 times1_1_435_242386129.csv',\n",
       " 'D:/data/새 폴더/Si_#3/새 폴더\\\\Si_ 3 times1_1_436_242389129.csv',\n",
       " 'D:/data/새 폴더/Si_#3/새 폴더\\\\Si_ 3 times1_1_437_242392129.csv',\n",
       " 'D:/data/새 폴더/Si_#3/새 폴더\\\\Si_ 3 times1_1_438_242395129.csv',\n",
       " 'D:/data/새 폴더/Si_#3/새 폴더\\\\Si_ 3 times1_1_439_242398129.csv',\n",
       " 'D:/data/새 폴더/Si_#3/새 폴더\\\\Si_ 3 times1_1_440_242401129.csv',\n",
       " 'D:/data/새 폴더/Si_#3/새 폴더\\\\Si_ 3 times1_1_441_242404129.csv',\n",
       " 'D:/data/새 폴더/Si_#3/새 폴더\\\\Si_ 3 times1_1_442_242407129.csv',\n",
       " 'D:/data/새 폴더/Si_#3/새 폴더\\\\Si_ 3 times1_1_443_242410129.csv',\n",
       " 'D:/data/새 폴더/Si_#3/새 폴더\\\\Si_ 3 times1_1_444_242413129.csv',\n",
       " 'D:/data/새 폴더/Si_#3/새 폴더\\\\Si_ 3 times1_1_445_242416129.csv',\n",
       " 'D:/data/새 폴더/Si_#3/새 폴더\\\\Si_ 3 times1_1_446_242419129.csv',\n",
       " 'D:/data/새 폴더/Si_#3/새 폴더\\\\Si_ 3 times1_1_447_242422129.csv',\n",
       " 'D:/data/새 폴더/Si_#3/새 폴더\\\\Si_ 3 times1_1_448_242425129.csv',\n",
       " 'D:/data/새 폴더/Si_#3/새 폴더\\\\Si_ 3 times1_1_449_242428129.csv',\n",
       " 'D:/data/새 폴더/Si_#3/새 폴더\\\\Si_ 3 times1_1_450_242431129.csv',\n",
       " 'D:/data/새 폴더/Si_#3/새 폴더\\\\Si_ 3 times1_1_451_242434129.csv',\n",
       " 'D:/data/새 폴더/Si_#3/새 폴더\\\\Si_ 3 times1_1_452_242437131.csv',\n",
       " 'D:/data/새 폴더/Si_#3/새 폴더\\\\Si_ 3 times1_1_453_242440131.csv',\n",
       " 'D:/data/새 폴더/Si_#3/새 폴더\\\\Si_ 3 times1_1_454_242443131.csv',\n",
       " 'D:/data/새 폴더/Si_#3/새 폴더\\\\Si_ 3 times1_1_455_242446131.csv',\n",
       " 'D:/data/새 폴더/Si_#3/새 폴더\\\\Si_ 3 times1_1_456_242449131.csv',\n",
       " 'D:/data/새 폴더/Si_#3/새 폴더\\\\Si_ 3 times1_1_457_242452131.csv',\n",
       " 'D:/data/새 폴더/Si_#3/새 폴더\\\\Si_ 3 times1_1_458_242455131.csv',\n",
       " 'D:/data/새 폴더/Si_#3/새 폴더\\\\Si_ 3 times1_1_459_242458131.csv',\n",
       " 'D:/data/새 폴더/Si_#3/새 폴더\\\\Si_ 3 times1_1_460_242461131.csv',\n",
       " 'D:/data/새 폴더/Si_#3/새 폴더\\\\Si_ 3 times1_1_461_242464131.csv',\n",
       " 'D:/data/새 폴더/Si_#3/새 폴더\\\\Si_ 3 times1_1_462_242467131.csv',\n",
       " 'D:/data/새 폴더/Si_#3/새 폴더\\\\Si_ 3 times1_1_463_242470131.csv',\n",
       " 'D:/data/새 폴더/Si_#3/새 폴더\\\\Si_ 3 times1_1_464_242473131.csv',\n",
       " 'D:/data/새 폴더/Si_#3/새 폴더\\\\Si_ 3 times1_1_465_242476131.csv',\n",
       " 'D:/data/새 폴더/Si_#3/새 폴더\\\\Si_ 3 times1_1_466_242479131.csv',\n",
       " 'D:/data/새 폴더/Si_#3/새 폴더\\\\Si_ 3 times1_1_467_242482131.csv',\n",
       " 'D:/data/새 폴더/Si_#3/새 폴더\\\\Si_ 3 times1_1_468_242485131.csv',\n",
       " 'D:/data/새 폴더/Si_#3/새 폴더\\\\Si_ 3 times1_1_469_242488131.csv',\n",
       " 'D:/data/새 폴더/Si_#3/새 폴더\\\\Si_ 3 times1_1_470_242491131.csv',\n",
       " 'D:/data/새 폴더/Si_#3/새 폴더\\\\Si_ 3 times1_1_471_242494131.csv',\n",
       " 'D:/data/새 폴더/Si_#3/새 폴더\\\\Si_ 3 times1_1_472_242497131.csv',\n",
       " 'D:/data/새 폴더/Si_#3/새 폴더\\\\Si_ 3 times1_1_473_242500131.csv',\n",
       " 'D:/data/새 폴더/Si_#3/새 폴더\\\\Si_ 3 times1_1_474_242503131.csv',\n",
       " 'D:/data/새 폴더/Si_#3/새 폴더\\\\Si_ 3 times1_1_475_242506131.csv',\n",
       " 'D:/data/새 폴더/Si_#3/새 폴더\\\\Si_ 3 times1_1_476_242509131.csv',\n",
       " 'D:/data/새 폴더/Si_#3/새 폴더\\\\Si_ 3 times1_1_477_242512131.csv',\n",
       " 'D:/data/새 폴더/Si_#3/새 폴더\\\\Si_ 3 times1_1_478_242515131.csv',\n",
       " 'D:/data/새 폴더/Si_#3/새 폴더\\\\Si_ 3 times1_1_479_242518131.csv',\n",
       " 'D:/data/새 폴더/Si_#3/새 폴더\\\\Si_ 3 times1_1_480_242521131.csv',\n",
       " 'D:/data/새 폴더/Si_#3/새 폴더\\\\Si_ 3 times1_1_481_242524131.csv',\n",
       " 'D:/data/새 폴더/Si_#3/새 폴더\\\\Si_ 3 times1_1_482_242527131.csv',\n",
       " 'D:/data/새 폴더/Si_#3/새 폴더\\\\Si_ 3 times1_1_483_242530131.csv',\n",
       " 'D:/data/새 폴더/Si_#3/새 폴더\\\\Si_ 3 times1_1_484_242533131.csv',\n",
       " 'D:/data/새 폴더/Si_#3/새 폴더\\\\Si_ 3 times1_1_485_242536131.csv',\n",
       " 'D:/data/새 폴더/Si_#3/새 폴더\\\\Si_ 3 times1_1_486_242539131.csv',\n",
       " 'D:/data/새 폴더/Si_#3/새 폴더\\\\Si_ 3 times1_1_487_242542131.csv',\n",
       " 'D:/data/새 폴더/Si_#3/새 폴더\\\\Si_ 3 times1_1_488_242545131.csv',\n",
       " 'D:/data/새 폴더/Si_#3/새 폴더\\\\Si_ 3 times1_1_489_242548131.csv',\n",
       " 'D:/data/새 폴더/Si_#3/새 폴더\\\\Si_ 3 times1_1_490_242551131.csv',\n",
       " 'D:/data/새 폴더/Si_#3/새 폴더\\\\Si_ 3 times1_1_491_242554131.csv',\n",
       " 'D:/data/새 폴더/Si_#3/새 폴더\\\\Si_ 3 times1_1_492_242557131.csv',\n",
       " 'D:/data/새 폴더/Si_#3/새 폴더\\\\Si_ 3 times1_1_493_242560131.csv',\n",
       " 'D:/data/새 폴더/Si_#3/새 폴더\\\\Si_ 3 times1_1_494_242563131.csv',\n",
       " 'D:/data/새 폴더/Si_#3/새 폴더\\\\Si_ 3 times1_1_495_242566131.csv',\n",
       " 'D:/data/새 폴더/Si_#3/새 폴더\\\\Si_ 3 times1_1_496_242569131.csv',\n",
       " 'D:/data/새 폴더/Si_#3/새 폴더\\\\Si_ 3 times1_1_497_242572131.csv',\n",
       " 'D:/data/새 폴더/Si_#3/새 폴더\\\\Si_ 3 times1_1_498_242575131.csv',\n",
       " 'D:/data/새 폴더/Si_#3/새 폴더\\\\Si_ 3 times1_1_499_242578131.csv',\n",
       " 'D:/data/새 폴더/Si_#3/새 폴더\\\\Si_ 3 times1_1_500_242581131.csv',\n",
       " 'D:/data/새 폴더/Si_#3/새 폴더\\\\Si_ 3 times1_1_501_242584131.csv',\n",
       " 'D:/data/새 폴더/Si_#3/새 폴더\\\\Si_ 3 times1_1_502_242587131.csv',\n",
       " 'D:/data/새 폴더/Si_#3/새 폴더\\\\Si_ 3 times1_1_503_242590131.csv',\n",
       " 'D:/data/새 폴더/Si_#3/새 폴더\\\\Si_ 3 times1_1_504_242593131.csv',\n",
       " 'D:/data/새 폴더/Si_#3/새 폴더\\\\Si_ 3 times1_1_505_242596131.csv',\n",
       " 'D:/data/새 폴더/Si_#3/새 폴더\\\\Si_ 3 times1_1_506_242599131.csv',\n",
       " 'D:/data/새 폴더/Si_#3/새 폴더\\\\Si_ 3 times1_1_507_242602131.csv',\n",
       " 'D:/data/새 폴더/Si_#3/새 폴더\\\\Si_ 3 times1_1_508_242605131.csv',\n",
       " 'D:/data/새 폴더/Si_#3/새 폴더\\\\Si_ 3 times1_1_509_242608131.csv',\n",
       " 'D:/data/새 폴더/Si_#3/새 폴더\\\\Si_ 3 times1_1_510_242611131.csv',\n",
       " 'D:/data/새 폴더/Si_#3/새 폴더\\\\Si_ 3 times1_1_511_242614131.csv',\n",
       " 'D:/data/새 폴더/Si_#3/새 폴더\\\\Si_ 3 times1_1_512_242617131.csv',\n",
       " 'D:/data/새 폴더/Si_#3/새 폴더\\\\Si_ 3 times1_1_513_242620131.csv',\n",
       " 'D:/data/새 폴더/Si_#3/새 폴더\\\\Si_ 3 times1_1_514_242623131.csv',\n",
       " 'D:/data/새 폴더/Si_#3/새 폴더\\\\Si_ 3 times1_1_515_242626131.csv',\n",
       " 'D:/data/새 폴더/Si_#3/새 폴더\\\\Si_ 3 times1_1_516_242629131.csv',\n",
       " 'D:/data/새 폴더/Si_#3/새 폴더\\\\Si_ 3 times1_1_517_242632131.csv',\n",
       " 'D:/data/새 폴더/Si_#3/새 폴더\\\\Si_ 3 times1_1_518_242635131.csv',\n",
       " 'D:/data/새 폴더/Si_#3/새 폴더\\\\Si_ 3 times1_1_519_242638131.csv',\n",
       " 'D:/data/새 폴더/Si_#3/새 폴더\\\\Si_ 3 times1_1_520_242641131.csv',\n",
       " 'D:/data/새 폴더/Si_#3/새 폴더\\\\Si_ 3 times1_1_521_242644131.csv',\n",
       " 'D:/data/새 폴더/Si_#3/새 폴더\\\\Si_ 3 times1_1_522_242647131.csv',\n",
       " 'D:/data/새 폴더/Si_#3/새 폴더\\\\Si_ 3 times1_1_523_242650131.csv',\n",
       " 'D:/data/새 폴더/Si_#3/새 폴더\\\\Si_ 3 times1_1_524_242653131.csv',\n",
       " 'D:/data/새 폴더/Si_#3/새 폴더\\\\Si_ 3 times1_1_525_242656131.csv',\n",
       " 'D:/data/새 폴더/Si_#3/새 폴더\\\\Si_ 3 times1_1_526_242659131.csv',\n",
       " 'D:/data/새 폴더/Si_#3/새 폴더\\\\Si_ 3 times1_1_527_242662131.csv',\n",
       " 'D:/data/새 폴더/Si_#3/새 폴더\\\\Si_ 3 times1_1_528_242665131.csv',\n",
       " 'D:/data/새 폴더/Si_#3/새 폴더\\\\Si_ 3 times1_1_529_242668131.csv',\n",
       " 'D:/data/새 폴더/Si_#3/새 폴더\\\\Si_ 3 times1_1_530_242671131.csv',\n",
       " 'D:/data/새 폴더/Si_#3/새 폴더\\\\Si_ 3 times1_1_531_242674131.csv',\n",
       " 'D:/data/새 폴더/Si_#3/새 폴더\\\\Si_ 3 times1_1_532_242677131.csv',\n",
       " 'D:/data/새 폴더/Si_#3/새 폴더\\\\Si_ 3 times1_1_533_242680131.csv',\n",
       " 'D:/data/새 폴더/Si_#3/새 폴더\\\\Si_ 3 times1_1_534_242683131.csv',\n",
       " 'D:/data/새 폴더/Si_#3/새 폴더\\\\Si_ 3 times1_1_535_242686131.csv',\n",
       " 'D:/data/새 폴더/Si_#3/새 폴더\\\\Si_ 3 times1_1_536_242689131.csv',\n",
       " 'D:/data/새 폴더/Si_#3/새 폴더\\\\Si_ 3 times1_1_537_242692131.csv',\n",
       " 'D:/data/새 폴더/Si_#3/새 폴더\\\\Si_ 3 times1_1_538_242695131.csv',\n",
       " 'D:/data/새 폴더/Si_#3/새 폴더\\\\Si_ 3 times1_1_539_242698131.csv',\n",
       " 'D:/data/새 폴더/Si_#3/새 폴더\\\\Si_ 3 times1_1_540_242701131.csv',\n",
       " 'D:/data/새 폴더/Si_#3/새 폴더\\\\Si_ 3 times1_1_541_242704132.csv',\n",
       " 'D:/data/새 폴더/Si_#3/새 폴더\\\\Si_ 3 times1_1_542_242707132.csv',\n",
       " 'D:/data/새 폴더/Si_#3/새 폴더\\\\Si_ 3 times1_1_543_242710132.csv',\n",
       " 'D:/data/새 폴더/Si_#3/새 폴더\\\\Si_ 3 times1_1_544_242713132.csv',\n",
       " 'D:/data/새 폴더/Si_#3/새 폴더\\\\Si_ 3 times1_1_545_242716132.csv',\n",
       " 'D:/data/새 폴더/Si_#3/새 폴더\\\\Si_ 3 times1_1_546_242719132.csv',\n",
       " 'D:/data/새 폴더/Si_#3/새 폴더\\\\Si_ 3 times1_1_547_242722132.csv',\n",
       " 'D:/data/새 폴더/Si_#3/새 폴더\\\\Si_ 3 times1_1_548_242725132.csv',\n",
       " 'D:/data/새 폴더/Si_#3/새 폴더\\\\Si_ 3 times1_1_549_242728132.csv',\n",
       " 'D:/data/새 폴더/Si_#3/새 폴더\\\\Si_ 3 times1_1_550_242731132.csv',\n",
       " 'D:/data/새 폴더/Si_#3/새 폴더\\\\Si_ 3 times1_1_551_242734132.csv',\n",
       " 'D:/data/새 폴더/Si_#3/새 폴더\\\\Si_ 3 times1_1_552_242737132.csv',\n",
       " 'D:/data/새 폴더/Si_#3/새 폴더\\\\Si_ 3 times1_1_553_242740132.csv',\n",
       " 'D:/data/새 폴더/Si_#3/새 폴더\\\\Si_ 3 times1_1_554_242743132.csv',\n",
       " 'D:/data/새 폴더/Si_#3/새 폴더\\\\Si_ 3 times1_1_555_242746132.csv',\n",
       " 'D:/data/새 폴더/Si_#3/새 폴더\\\\Si_ 3 times1_1_556_242749132.csv',\n",
       " 'D:/data/새 폴더/Si_#3/새 폴더\\\\Si_ 3 times1_1_557_242752132.csv',\n",
       " 'D:/data/새 폴더/Si_#3/새 폴더\\\\Si_ 3 times1_1_558_242755132.csv',\n",
       " 'D:/data/새 폴더/Si_#3/새 폴더\\\\Si_ 3 times1_1_559_242758132.csv',\n",
       " 'D:/data/새 폴더/Si_#3/새 폴더\\\\Si_ 3 times1_1_560_242761132.csv',\n",
       " 'D:/data/새 폴더/Si_#3/새 폴더\\\\Si_ 3 times1_1_561_242764132.csv',\n",
       " 'D:/data/새 폴더/Si_#3/새 폴더\\\\Si_ 3 times1_1_562_242767132.csv',\n",
       " 'D:/data/새 폴더/Si_#3/새 폴더\\\\Si_ 3 times1_1_563_242770132.csv',\n",
       " 'D:/data/새 폴더/Si_#3/새 폴더\\\\Si_ 3 times1_1_564_242773132.csv',\n",
       " 'D:/data/새 폴더/Si_#3/새 폴더\\\\Si_ 3 times1_1_565_242776132.csv',\n",
       " 'D:/data/새 폴더/Si_#3/새 폴더\\\\Si_ 3 times1_1_566_242779132.csv',\n",
       " 'D:/data/새 폴더/Si_#3/새 폴더\\\\Si_ 3 times1_1_567_242782132.csv',\n",
       " 'D:/data/새 폴더/Si_#3/새 폴더\\\\Si_ 3 times1_1_568_242785132.csv',\n",
       " 'D:/data/새 폴더/Si_#3/새 폴더\\\\Si_ 3 times1_1_569_242788132.csv',\n",
       " 'D:/data/새 폴더/Si_#3/새 폴더\\\\Si_ 3 times1_1_570_242791133.csv',\n",
       " 'D:/data/새 폴더/Si_#3/새 폴더\\\\Si_ 3 times1_1_571_242794133.csv',\n",
       " 'D:/data/새 폴더/Si_#3/새 폴더\\\\Si_ 3 times1_1_572_242797133.csv',\n",
       " 'D:/data/새 폴더/Si_#3/새 폴더\\\\Si_ 3 times1_1_573_242800133.csv',\n",
       " 'D:/data/새 폴더/Si_#3/새 폴더\\\\Si_ 3 times1_1_574_242803133.csv',\n",
       " 'D:/data/새 폴더/Si_#3/새 폴더\\\\Si_ 3 times1_1_575_242806133.csv',\n",
       " 'D:/data/새 폴더/Si_#3/새 폴더\\\\Si_ 3 times1_1_576_242809133.csv',\n",
       " 'D:/data/새 폴더/Si_#3/새 폴더\\\\Si_ 3 times1_1_577_242812133.csv',\n",
       " 'D:/data/새 폴더/Si_#3/새 폴더\\\\Si_ 3 times1_1_578_242815133.csv',\n",
       " 'D:/data/새 폴더/Si_#3/새 폴더\\\\Si_ 3 times1_1_579_242818133.csv',\n",
       " 'D:/data/새 폴더/Si_#3/새 폴더\\\\Si_ 3 times1_1_580_242821133.csv',\n",
       " 'D:/data/새 폴더/Si_#3/새 폴더\\\\Si_ 3 times1_1_581_242824133.csv',\n",
       " 'D:/data/새 폴더/Si_#3/새 폴더\\\\Si_ 3 times1_1_582_242827133.csv',\n",
       " 'D:/data/새 폴더/Si_#3/새 폴더\\\\Si_ 3 times1_1_583_242830133.csv',\n",
       " 'D:/data/새 폴더/Si_#3/새 폴더\\\\Si_ 3 times1_1_584_242833133.csv',\n",
       " 'D:/data/새 폴더/Si_#3/새 폴더\\\\Si_ 3 times1_1_585_242836133.csv',\n",
       " 'D:/data/새 폴더/Si_#3/새 폴더\\\\Si_ 3 times1_1_586_242839133.csv',\n",
       " 'D:/data/새 폴더/Si_#3/새 폴더\\\\Si_ 3 times1_1_587_242842133.csv',\n",
       " 'D:/data/새 폴더/Si_#3/새 폴더\\\\Si_ 3 times1_1_588_242845133.csv',\n",
       " 'D:/data/새 폴더/Si_#3/새 폴더\\\\Si_ 3 times1_1_589_242848133.csv',\n",
       " 'D:/data/새 폴더/Si_#3/새 폴더\\\\Si_ 3 times1_1_590_242851133.csv',\n",
       " 'D:/data/새 폴더/Si_#3/새 폴더\\\\Si_ 3 times1_1_591_242854133.csv',\n",
       " 'D:/data/새 폴더/Si_#3/새 폴더\\\\Si_ 3 times1_1_592_242857133.csv',\n",
       " 'D:/data/새 폴더/Si_#3/새 폴더\\\\Si_ 3 times1_1_593_242860133.csv',\n",
       " 'D:/data/새 폴더/Si_#3/새 폴더\\\\Si_ 3 times1_1_594_242863133.csv',\n",
       " 'D:/data/새 폴더/Si_#3/새 폴더\\\\Si_ 3 times1_1_595_242866133.csv',\n",
       " 'D:/data/새 폴더/Si_#3/새 폴더\\\\Si_ 3 times1_1_596_242869133.csv',\n",
       " 'D:/data/새 폴더/Si_#3/새 폴더\\\\Si_ 3 times1_1_597_242872133.csv',\n",
       " 'D:/data/새 폴더/Si_#3/새 폴더\\\\Si_ 3 times1_1_598_242875133.csv',\n",
       " 'D:/data/새 폴더/Si_#3/새 폴더\\\\Si_ 3 times1_1_599_242878133.csv',\n",
       " 'D:/data/새 폴더/Si_#3/새 폴더\\\\Si_ 3 times1_1_600_242881133.csv',\n",
       " 'D:/data/새 폴더/Si_#3/새 폴더\\\\Si_ 3 times1_1_601_242884133.csv',\n",
       " 'D:/data/새 폴더/Si_#3/새 폴더\\\\Si_ 3 times1_1_602_242887133.csv',\n",
       " 'D:/data/새 폴더/Si_#3/새 폴더\\\\Si_ 3 times1_1_603_242890133.csv',\n",
       " 'D:/data/새 폴더/Si_#3/새 폴더\\\\Si_ 3 times1_1_604_242893133.csv',\n",
       " 'D:/data/새 폴더/Si_#3/새 폴더\\\\Si_ 3 times1_1_605_242896133.csv',\n",
       " 'D:/data/새 폴더/Si_#3/새 폴더\\\\Si_ 3 times1_1_606_242899133.csv',\n",
       " 'D:/data/새 폴더/Si_#3/새 폴더\\\\Si_ 3 times1_1_607_242902133.csv',\n",
       " 'D:/data/새 폴더/Si_#3/새 폴더\\\\Si_ 3 times1_1_608_242905133.csv',\n",
       " 'D:/data/새 폴더/Si_#3/새 폴더\\\\Si_ 3 times1_1_609_242908133.csv',\n",
       " 'D:/data/새 폴더/Si_#3/새 폴더\\\\Si_ 3 times1_1_610_242911133.csv',\n",
       " 'D:/data/새 폴더/Si_#3/새 폴더\\\\Si_ 3 times1_1_611_242914133.csv',\n",
       " 'D:/data/새 폴더/Si_#3/새 폴더\\\\Si_ 3 times1_1_612_242917133.csv',\n",
       " 'D:/data/새 폴더/Si_#3/새 폴더\\\\Si_ 3 times1_1_613_242920133.csv',\n",
       " 'D:/data/새 폴더/Si_#3/새 폴더\\\\Si_ 3 times1_1_614_242923133.csv',\n",
       " 'D:/data/새 폴더/Si_#3/새 폴더\\\\Si_ 3 times1_1_615_242926133.csv',\n",
       " 'D:/data/새 폴더/Si_#3/새 폴더\\\\Si_ 3 times1_1_616_242929133.csv',\n",
       " 'D:/data/새 폴더/Si_#3/새 폴더\\\\Si_ 3 times1_1_617_242932133.csv',\n",
       " 'D:/data/새 폴더/Si_#3/새 폴더\\\\Si_ 3 times1_1_618_242935133.csv',\n",
       " 'D:/data/새 폴더/Si_#3/새 폴더\\\\Si_ 3 times1_1_619_242938133.csv',\n",
       " 'D:/data/새 폴더/Si_#3/새 폴더\\\\Si_ 3 times1_1_620_242941133.csv',\n",
       " 'D:/data/새 폴더/Si_#3/새 폴더\\\\Si_ 3 times1_1_621_242944133.csv',\n",
       " 'D:/data/새 폴더/Si_#3/새 폴더\\\\Si_ 3 times1_1_622_242947134.csv',\n",
       " 'D:/data/새 폴더/Si_#3/새 폴더\\\\Si_ 3 times1_1_623_242950134.csv',\n",
       " 'D:/data/새 폴더/Si_#3/새 폴더\\\\Si_ 3 times1_1_624_242953134.csv',\n",
       " 'D:/data/새 폴더/Si_#3/새 폴더\\\\Si_ 3 times1_1_625_242956134.csv',\n",
       " 'D:/data/새 폴더/Si_#3/새 폴더\\\\Si_ 3 times1_1_626_242959134.csv',\n",
       " 'D:/data/새 폴더/Si_#3/새 폴더\\\\Si_ 3 times1_1_627_242962134.csv',\n",
       " 'D:/data/새 폴더/Si_#3/새 폴더\\\\Si_ 3 times1_1_628_242965134.csv',\n",
       " 'D:/data/새 폴더/Si_#3/새 폴더\\\\Si_ 3 times1_1_629_242968134.csv',\n",
       " 'D:/data/새 폴더/Si_#3/새 폴더\\\\Si_ 3 times1_1_630_242971134.csv',\n",
       " 'D:/data/새 폴더/Si_#3/새 폴더\\\\Si_ 3 times1_1_631_242974134.csv',\n",
       " 'D:/data/새 폴더/Si_#3/새 폴더\\\\Si_ 3 times1_1_632_242977134.csv',\n",
       " 'D:/data/새 폴더/Si_#3/새 폴더\\\\Si_ 3 times1_1_633_243200812.csv',\n",
       " 'D:/data/새 폴더/Si_#3/새 폴더\\\\Si_ 3 times1_1_634_243203812.csv',\n",
       " 'D:/data/새 폴더/Si_#3/새 폴더\\\\Si_ 3 times1_1_635_243206812.csv',\n",
       " 'D:/data/새 폴더/Si_#3/새 폴더\\\\Si_ 3 times1_1_636_243209812.csv',\n",
       " 'D:/data/새 폴더/Si_#3/새 폴더\\\\Si_ 3 times1_1_637_243212812.csv',\n",
       " 'D:/data/새 폴더/Si_#3/새 폴더\\\\Si_ 3 times1_1_638_243215812.csv',\n",
       " 'D:/data/새 폴더/Si_#3/새 폴더\\\\Si_ 3 times1_1_639_243218812.csv',\n",
       " 'D:/data/새 폴더/Si_#3/새 폴더\\\\Si_ 3 times1_1_640_243221812.csv',\n",
       " 'D:/data/새 폴더/Si_#3/새 폴더\\\\Si_ 3 times1_1_641_243224812.csv',\n",
       " 'D:/data/새 폴더/Si_#3/새 폴더\\\\Si_ 3 times1_1_642_243227812.csv',\n",
       " 'D:/data/새 폴더/Si_#3/새 폴더\\\\Si_ 3 times1_1_643_243230812.csv',\n",
       " 'D:/data/새 폴더/Si_#3/새 폴더\\\\Si_ 3 times1_1_644_243233812.csv',\n",
       " 'D:/data/새 폴더/Si_#3/새 폴더\\\\Si_ 3 times1_1_645_243236812.csv',\n",
       " 'D:/data/새 폴더/Si_#3/새 폴더\\\\Si_ 3 times1_1_646_243239812.csv',\n",
       " 'D:/data/새 폴더/Si_#3/새 폴더\\\\Si_ 3 times1_1_647_243242812.csv',\n",
       " 'D:/data/새 폴더/Si_#3/새 폴더\\\\Si_ 3 times1_1_648_243245812.csv',\n",
       " 'D:/data/새 폴더/Si_#3/새 폴더\\\\Si_ 3 times1_1_649_243248812.csv',\n",
       " 'D:/data/새 폴더/Si_#3/새 폴더\\\\Si_ 3 times1_1_650_243251812.csv',\n",
       " 'D:/data/새 폴더/Si_#3/새 폴더\\\\Si_ 3 times1_1_651_243254812.csv',\n",
       " 'D:/data/새 폴더/Si_#3/새 폴더\\\\Si_ 3 times1_1_652_243257812.csv',\n",
       " 'D:/data/새 폴더/Si_#3/새 폴더\\\\Si_ 3 times1_1_653_243260812.csv',\n",
       " 'D:/data/새 폴더/Si_#3/새 폴더\\\\Si_ 3 times1_1_654_243263812.csv',\n",
       " 'D:/data/새 폴더/Si_#3/새 폴더\\\\Si_ 3 times1_1_655_243266812.csv',\n",
       " 'D:/data/새 폴더/Si_#3/새 폴더\\\\Si_ 3 times1_1_656_243269812.csv',\n",
       " 'D:/data/새 폴더/Si_#3/새 폴더\\\\Si_ 3 times1_1_657_243272812.csv',\n",
       " 'D:/data/새 폴더/Si_#3/새 폴더\\\\Si_ 3 times1_1_658_243275813.csv',\n",
       " 'D:/data/새 폴더/Si_#3/새 폴더\\\\Si_ 3 times1_1_659_243278813.csv',\n",
       " 'D:/data/새 폴더/Si_#3/새 폴더\\\\Si_ 3 times1_1_660_243281813.csv',\n",
       " 'D:/data/새 폴더/Si_#3/새 폴더\\\\Si_ 3 times1_1_661_243284813.csv',\n",
       " 'D:/data/새 폴더/Si_#3/새 폴더\\\\Si_ 3 times1_1_662_243287813.csv',\n",
       " 'D:/data/새 폴더/Si_#3/새 폴더\\\\Si_ 3 times1_1_663_243290813.csv',\n",
       " 'D:/data/새 폴더/Si_#3/새 폴더\\\\Si_ 3 times1_1_664_243293813.csv',\n",
       " 'D:/data/새 폴더/Si_#3/새 폴더\\\\Si_ 3 times1_1_665_243296813.csv',\n",
       " 'D:/data/새 폴더/Si_#3/새 폴더\\\\Si_ 3 times1_1_666_243299813.csv',\n",
       " 'D:/data/새 폴더/Si_#3/새 폴더\\\\Si_ 3 times1_1_667_243302813.csv',\n",
       " 'D:/data/새 폴더/Si_#3/새 폴더\\\\Si_ 3 times1_1_668_243305813.csv',\n",
       " 'D:/data/새 폴더/Si_#3/새 폴더\\\\Si_ 3 times1_1_669_243308813.csv',\n",
       " 'D:/data/새 폴더/Si_#3/새 폴더\\\\Si_ 3 times1_1_670_243311813.csv',\n",
       " 'D:/data/새 폴더/Si_#3/새 폴더\\\\Si_ 3 times1_1_671_243314813.csv',\n",
       " 'D:/data/새 폴더/Si_#3/새 폴더\\\\Si_ 3 times1_1_672_243377378.csv',\n",
       " 'D:/data/새 폴더/Si_#3/새 폴더\\\\Si_ 3 times1_1_673_243380378.csv',\n",
       " 'D:/data/새 폴더/Si_#3/새 폴더\\\\Si_ 3 times1_1_674_243383378.csv',\n",
       " 'D:/data/새 폴더/Si_#3/새 폴더\\\\Si_ 3 times1_1_675_243386378.csv',\n",
       " 'D:/data/새 폴더/Si_#3/새 폴더\\\\Si_ 3 times1_1_676_243389378.csv',\n",
       " 'D:/data/새 폴더/Si_#3/새 폴더\\\\Si_ 3 times1_1_677_243392378.csv',\n",
       " 'D:/data/새 폴더/Si_#3/새 폴더\\\\Si_ 3 times1_1_678_243395378.csv',\n",
       " 'D:/data/새 폴더/Si_#3/새 폴더\\\\Si_ 3 times1_1_679_243398378.csv',\n",
       " 'D:/data/새 폴더/Si_#3/새 폴더\\\\Si_ 3 times1_1_680_243401378.csv',\n",
       " 'D:/data/새 폴더/Si_#3/새 폴더\\\\Si_ 3 times1_1_681_243404378.csv',\n",
       " 'D:/data/새 폴더/Si_#3/새 폴더\\\\Si_ 3 times1_1_682_243407378.csv',\n",
       " 'D:/data/새 폴더/Si_#3/새 폴더\\\\Si_ 3 times1_1_683_243410378.csv',\n",
       " 'D:/data/새 폴더/Si_#3/새 폴더\\\\Si_ 3 times1_1_684_243413378.csv',\n",
       " 'D:/data/새 폴더/Si_#3/새 폴더\\\\Si_ 3 times1_1_685_243416378.csv',\n",
       " 'D:/data/새 폴더/Si_#3/새 폴더\\\\Si_ 3 times1_1_686_243419378.csv',\n",
       " 'D:/data/새 폴더/Si_#3/새 폴더\\\\Si_ 3 times1_1_687_243422378.csv',\n",
       " 'D:/data/새 폴더/Si_#3/새 폴더\\\\Si_ 3 times1_1_688_243425378.csv',\n",
       " 'D:/data/새 폴더/Si_#3/새 폴더\\\\Si_ 3 times1_1_689_243428378.csv',\n",
       " 'D:/data/새 폴더/Si_#3/새 폴더\\\\Si_ 3 times1_1_690_243431378.csv',\n",
       " 'D:/data/새 폴더/Si_#3/새 폴더\\\\Si_ 3 times1_1_691_243434378.csv',\n",
       " 'D:/data/새 폴더/Si_#3/새 폴더\\\\Si_ 3 times1_1_692_243437378.csv',\n",
       " 'D:/data/새 폴더/Si_#3/새 폴더\\\\Si_ 3 times1_1_693_243440378.csv',\n",
       " 'D:/data/새 폴더/Si_#3/새 폴더\\\\Si_ 3 times1_1_694_243443378.csv',\n",
       " 'D:/data/새 폴더/Si_#3/새 폴더\\\\Si_ 3 times1_1_695_243446378.csv',\n",
       " 'D:/data/새 폴더/Si_#3/새 폴더\\\\Si_ 3 times1_1_696_243449378.csv',\n",
       " 'D:/data/새 폴더/Si_#3/새 폴더\\\\Si_ 3 times1_1_697_243452378.csv',\n",
       " 'D:/data/새 폴더/Si_#3/새 폴더\\\\Si_ 3 times1_1_698_243455378.csv',\n",
       " 'D:/data/새 폴더/Si_#3/새 폴더\\\\Si_ 3 times1_1_699_243458378.csv',\n",
       " 'D:/data/새 폴더/Si_#3/새 폴더\\\\Si_ 3 times1_1_700_243461378.csv',\n",
       " 'D:/data/새 폴더/Si_#3/새 폴더\\\\Si_ 3 times1_1_701_243464378.csv',\n",
       " 'D:/data/새 폴더/Si_#3/새 폴더\\\\Si_ 3 times1_1_702_243467378.csv',\n",
       " 'D:/data/새 폴더/Si_#3/새 폴더\\\\Si_ 3 times1_1_703_243470378.csv',\n",
       " 'D:/data/새 폴더/Si_#3/새 폴더\\\\Si_ 3 times1_1_704_243473378.csv',\n",
       " 'D:/data/새 폴더/Si_#3/새 폴더\\\\Si_ 3 times1_1_705_243476378.csv',\n",
       " 'D:/data/새 폴더/Si_#3/새 폴더\\\\Si_ 3 times1_1_706_243479378.csv',\n",
       " 'D:/data/새 폴더/Si_#3/새 폴더\\\\Si_ 3 times1_1_707_243482378.csv',\n",
       " 'D:/data/새 폴더/Si_#3/새 폴더\\\\Si_ 3 times1_1_708_243485378.csv',\n",
       " 'D:/data/새 폴더/Si_#3/새 폴더\\\\Si_ 3 times1_1_709_243488378.csv',\n",
       " 'D:/data/새 폴더/Si_#3/새 폴더\\\\Si_ 3 times1_1_710_243491378.csv',\n",
       " 'D:/data/새 폴더/Si_#3/새 폴더\\\\Si_ 3 times1_1_711_243494378.csv',\n",
       " 'D:/data/새 폴더/Si_#3/새 폴더\\\\Si_ 3 times1_1_712_243497378.csv',\n",
       " 'D:/data/새 폴더/Si_#3/새 폴더\\\\Si_ 3 times1_1_713_243500378.csv',\n",
       " 'D:/data/새 폴더/Si_#3/새 폴더\\\\Si_ 3 times1_1_714_243503378.csv',\n",
       " 'D:/data/새 폴더/Si_#3/새 폴더\\\\Si_ 3 times1_1_715_243506378.csv',\n",
       " 'D:/data/새 폴더/Si_#3/새 폴더\\\\Si_ 3 times1_1_716_243509378.csv',\n",
       " 'D:/data/새 폴더/Si_#3/새 폴더\\\\Si_ 3 times1_1_717_243512378.csv',\n",
       " 'D:/data/새 폴더/Si_#3/새 폴더\\\\Si_ 3 times1_1_718_243515378.csv',\n",
       " 'D:/data/새 폴더/Si_#3/새 폴더\\\\Si_ 3 times1_1_719_243518378.csv',\n",
       " 'D:/data/새 폴더/Si_#3/새 폴더\\\\Si_ 3 times1_1_720_243521378.csv',\n",
       " 'D:/data/새 폴더/Si_#3/새 폴더\\\\Si_ 3 times1_1_721_243524378.csv',\n",
       " 'D:/data/새 폴더/Si_#3/새 폴더\\\\Si_ 3 times1_1_722_243527378.csv',\n",
       " 'D:/data/새 폴더/Si_#3/새 폴더\\\\Si_ 3 times1_1_723_243530378.csv',\n",
       " 'D:/data/새 폴더/Si_#3/새 폴더\\\\Si_ 3 times1_1_724_243533378.csv',\n",
       " 'D:/data/새 폴더/Si_#3/새 폴더\\\\Si_ 3 times1_1_725_243536378.csv',\n",
       " 'D:/data/새 폴더/Si_#3/새 폴더\\\\Si_ 3 times1_1_726_243539378.csv',\n",
       " 'D:/data/새 폴더/Si_#3/새 폴더\\\\Si_ 3 times1_1_727_243542378.csv',\n",
       " 'D:/data/새 폴더/Si_#3/새 폴더\\\\Si_ 3 times1_1_728_243545378.csv',\n",
       " 'D:/data/새 폴더/Si_#3/새 폴더\\\\Si_ 3 times1_1_729_243548378.csv',\n",
       " 'D:/data/새 폴더/Si_#3/새 폴더\\\\Si_ 3 times1_1_730_243551378.csv',\n",
       " 'D:/data/새 폴더/Si_#3/새 폴더\\\\Si_ 3 times1_1_731_243554378.csv',\n",
       " 'D:/data/새 폴더/Si_#3/새 폴더\\\\Si_ 3 times1_1_732_243557378.csv',\n",
       " 'D:/data/새 폴더/Si_#3/새 폴더\\\\Si_ 3 times1_1_733_243560378.csv',\n",
       " 'D:/data/새 폴더/Si_#3/새 폴더\\\\Si_ 3 times1_1_734_243563378.csv',\n",
       " 'D:/data/새 폴더/Si_#3/새 폴더\\\\Si_ 3 times1_1_735_243566378.csv',\n",
       " 'D:/data/새 폴더/Si_#3/새 폴더\\\\Si_ 3 times1_1_736_243569378.csv',\n",
       " 'D:/data/새 폴더/Si_#3/새 폴더\\\\Si_ 3 times1_1_737_243572378.csv',\n",
       " 'D:/data/새 폴더/Si_#3/새 폴더\\\\Si_ 3 times1_1_738_243575378.csv',\n",
       " 'D:/data/새 폴더/Si_#3/새 폴더\\\\Si_ 3 times1_1_739_243578378.csv',\n",
       " 'D:/data/새 폴더/Si_#3/새 폴더\\\\Si_ 3 times1_1_740_243581378.csv',\n",
       " 'D:/data/새 폴더/Si_#3/새 폴더\\\\Si_ 3 times1_1_741_243584378.csv',\n",
       " 'D:/data/새 폴더/Si_#3/새 폴더\\\\Si_ 3 times1_1_742_243587378.csv',\n",
       " 'D:/data/새 폴더/Si_#3/새 폴더\\\\Si_ 3 times1_1_743_243590378.csv',\n",
       " 'D:/data/새 폴더/Si_#3/새 폴더\\\\Si_ 3 times1_1_744_243593378.csv',\n",
       " 'D:/data/새 폴더/Si_#3/새 폴더\\\\Si_ 3 times1_1_745_243596378.csv',\n",
       " 'D:/data/새 폴더/Si_#3/새 폴더\\\\Si_ 3 times1_1_746_243599378.csv',\n",
       " 'D:/data/새 폴더/Si_#3/새 폴더\\\\Si_ 3 times1_1_747_243602378.csv',\n",
       " 'D:/data/새 폴더/Si_#3/새 폴더\\\\Si_ 3 times1_1_748_243605378.csv',\n",
       " 'D:/data/새 폴더/Si_#3/새 폴더\\\\Si_ 3 times1_1_749_243608378.csv',\n",
       " 'D:/data/새 폴더/Si_#3/새 폴더\\\\Si_ 3 times1_1_750_243611378.csv',\n",
       " 'D:/data/새 폴더/Si_#3/새 폴더\\\\Si_ 3 times1_1_751_243614378.csv',\n",
       " 'D:/data/새 폴더/Si_#3/새 폴더\\\\Si_ 3 times1_1_752_243617378.csv',\n",
       " 'D:/data/새 폴더/Si_#3/새 폴더\\\\Si_ 3 times1_1_753_243620378.csv',\n",
       " 'D:/data/새 폴더/Si_#3/새 폴더\\\\Si_ 3 times1_1_754_243623378.csv',\n",
       " 'D:/data/새 폴더/Si_#3/새 폴더\\\\Si_ 3 times1_1_755_243626378.csv',\n",
       " 'D:/data/새 폴더/Si_#3/새 폴더\\\\Si_ 3 times1_1_756_243629378.csv',\n",
       " 'D:/data/새 폴더/Si_#3/새 폴더\\\\Si_ 3 times1_1_757_243632378.csv',\n",
       " 'D:/data/새 폴더/Si_#3/새 폴더\\\\Si_ 3 times1_1_758_243635378.csv',\n",
       " 'D:/data/새 폴더/Si_#3/새 폴더\\\\Si_ 3 times1_1_759_243638378.csv',\n",
       " 'D:/data/새 폴더/Si_#3/새 폴더\\\\Si_ 3 times1_1_760_243641378.csv',\n",
       " 'D:/data/새 폴더/Si_#3/새 폴더\\\\Si_ 3 times1_1_761_243644378.csv',\n",
       " 'D:/data/새 폴더/Si_#3/새 폴더\\\\Si_ 3 times1_1_762_243647378.csv',\n",
       " 'D:/data/새 폴더/Si_#3/새 폴더\\\\Si_ 3 times1_1_763_243650378.csv',\n",
       " 'D:/data/새 폴더/Si_#3/새 폴더\\\\Si_ 3 times1_1_764_243653378.csv',\n",
       " 'D:/data/새 폴더/Si_#3/새 폴더\\\\Si_ 3 times1_1_765_243656379.csv',\n",
       " 'D:/data/새 폴더/Si_#3/새 폴더\\\\Si_ 3 times1_1_766_243659379.csv',\n",
       " 'D:/data/새 폴더/Si_#3/새 폴더\\\\Si_ 3 times1_1_767_243662379.csv',\n",
       " 'D:/data/새 폴더/Si_#3/새 폴더\\\\Si_ 3 times1_1_768_243665379.csv',\n",
       " 'D:/data/새 폴더/Si_#3/새 폴더\\\\Si_ 3 times1_1_769_243668379.csv',\n",
       " 'D:/data/새 폴더/Si_#3/새 폴더\\\\Si_ 3 times1_1_770_243671379.csv',\n",
       " 'D:/data/새 폴더/Si_#3/새 폴더\\\\Si_ 3 times1_1_771_243674379.csv',\n",
       " 'D:/data/새 폴더/Si_#3/새 폴더\\\\Si_ 3 times1_1_772_243677379.csv',\n",
       " 'D:/data/새 폴더/Si_#3/새 폴더\\\\Si_ 3 times1_1_773_243680379.csv',\n",
       " 'D:/data/새 폴더/Si_#3/새 폴더\\\\Si_ 3 times1_1_774_243683379.csv',\n",
       " 'D:/data/새 폴더/Si_#3/새 폴더\\\\Si_ 3 times1_1_775_243686379.csv',\n",
       " 'D:/data/새 폴더/Si_#3/새 폴더\\\\Si_ 3 times1_1_776_243689379.csv',\n",
       " 'D:/data/새 폴더/Si_#3/새 폴더\\\\Si_ 3 times1_1_777_243692380.csv',\n",
       " 'D:/data/새 폴더/Si_#3/새 폴더\\\\Si_ 3 times1_1_778_243695380.csv',\n",
       " 'D:/data/새 폴더/Si_#3/새 폴더\\\\Si_ 3 times1_1_779_243698380.csv',\n",
       " 'D:/data/새 폴더/Si_#3/새 폴더\\\\Si_ 3 times1_1_780_243701380.csv',\n",
       " 'D:/data/새 폴더/Si_#3/새 폴더\\\\Si_ 3 times1_1_781_243704380.csv',\n",
       " 'D:/data/새 폴더/Si_#3/새 폴더\\\\Si_ 3 times1_1_782_243707380.csv',\n",
       " 'D:/data/새 폴더/Si_#3/새 폴더\\\\Si_ 3 times1_1_783_243710380.csv',\n",
       " 'D:/data/새 폴더/Si_#3/새 폴더\\\\Si_ 3 times1_1_784_243713380.csv',\n",
       " 'D:/data/새 폴더/Si_#3/새 폴더\\\\Si_ 3 times1_1_785_243716380.csv',\n",
       " 'D:/data/새 폴더/Si_#3/새 폴더\\\\Si_ 3 times1_1_786_243719380.csv',\n",
       " 'D:/data/새 폴더/Si_#3/새 폴더\\\\Si_ 3 times1_1_787_243722380.csv',\n",
       " 'D:/data/새 폴더/Si_#3/새 폴더\\\\Si_ 3 times1_1_788_243725380.csv',\n",
       " 'D:/data/새 폴더/Si_#3/새 폴더\\\\Si_ 3 times1_1_789_243728381.csv',\n",
       " 'D:/data/새 폴더/Si_#3/새 폴더\\\\Si_ 3 times1_1_790_243731381.csv',\n",
       " 'D:/data/새 폴더/Si_#3/새 폴더\\\\Si_ 3 times1_1_791_243734381.csv',\n",
       " 'D:/data/새 폴더/Si_#3/새 폴더\\\\Si_ 3 times1_1_792_243737381.csv',\n",
       " 'D:/data/새 폴더/Si_#3/새 폴더\\\\Si_ 3 times1_1_793_243740381.csv',\n",
       " 'D:/data/새 폴더/Si_#3/새 폴더\\\\Si_ 3 times1_1_794_243743381.csv',\n",
       " 'D:/data/새 폴더/Si_#3/새 폴더\\\\Si_ 3 times1_1_795_243746381.csv',\n",
       " 'D:/data/새 폴더/Si_#3/새 폴더\\\\Si_ 3 times1_1_796_243749381.csv',\n",
       " 'D:/data/새 폴더/Si_#3/새 폴더\\\\Si_ 3 times1_1_797_243752381.csv',\n",
       " 'D:/data/새 폴더/Si_#3/새 폴더\\\\Si_ 3 times1_1_798_243755381.csv',\n",
       " 'D:/data/새 폴더/Si_#3/새 폴더\\\\Si_ 3 times1_1_799_243758381.csv',\n",
       " 'D:/data/새 폴더/Si_#3/새 폴더\\\\Si_ 3 times1_1_800_243761381.csv',\n",
       " 'D:/data/새 폴더/Si_#3/새 폴더\\\\Si_ 3 times1_1_801_243764381.csv',\n",
       " 'D:/data/새 폴더/Si_#3/새 폴더\\\\Si_ 3 times1_1_802_243767381.csv',\n",
       " 'D:/data/새 폴더/Si_#3/새 폴더\\\\Si_ 3 times1_1_803_243770381.csv',\n",
       " 'D:/data/새 폴더/Si_#3/새 폴더\\\\Si_ 3 times1_1_804_243773381.csv',\n",
       " 'D:/data/새 폴더/Si_#3/새 폴더\\\\Si_ 3 times1_1_805_243776381.csv',\n",
       " 'D:/data/새 폴더/Si_#3/새 폴더\\\\Si_ 3 times1_1_806_243779381.csv',\n",
       " 'D:/data/새 폴더/Si_#3/새 폴더\\\\Si_ 3 times1_1_807_243782381.csv',\n",
       " 'D:/data/새 폴더/Si_#3/새 폴더\\\\Si_ 3 times1_1_808_243785381.csv',\n",
       " 'D:/data/새 폴더/Si_#3/새 폴더\\\\Si_ 3 times1_1_809_243788381.csv',\n",
       " 'D:/data/새 폴더/Si_#3/새 폴더\\\\Si_ 3 times1_1_810_243791381.csv',\n",
       " 'D:/data/새 폴더/Si_#3/새 폴더\\\\Si_ 3 times1_1_811_243794381.csv',\n",
       " 'D:/data/새 폴더/Si_#3/새 폴더\\\\Si_ 3 times1_1_812_243797381.csv',\n",
       " 'D:/data/새 폴더/Si_#3/새 폴더\\\\Si_ 3 times1_1_813_243800381.csv',\n",
       " 'D:/data/새 폴더/Si_#3/새 폴더\\\\Si_ 3 times1_1_814_243803381.csv',\n",
       " 'D:/data/새 폴더/Si_#3/새 폴더\\\\Si_ 3 times1_1_815_243806381.csv',\n",
       " 'D:/data/새 폴더/Si_#3/새 폴더\\\\Si_ 3 times1_1_816_243809381.csv',\n",
       " 'D:/data/새 폴더/Si_#3/새 폴더\\\\Si_ 3 times1_1_817_243812381.csv',\n",
       " 'D:/data/새 폴더/Si_#3/새 폴더\\\\Si_ 3 times1_1_818_243815381.csv',\n",
       " 'D:/data/새 폴더/Si_#3/새 폴더\\\\Si_ 3 times1_1_819_243818381.csv',\n",
       " 'D:/data/새 폴더/Si_#3/새 폴더\\\\Si_ 3 times1_1_820_243821381.csv',\n",
       " 'D:/data/새 폴더/Si_#3/새 폴더\\\\Si_ 3 times1_1_821_243824381.csv',\n",
       " 'D:/data/새 폴더/Si_#3/새 폴더\\\\Si_ 3 times1_1_822_243827381.csv',\n",
       " 'D:/data/새 폴더/Si_#3/새 폴더\\\\Si_ 3 times1_1_823_243830381.csv',\n",
       " 'D:/data/새 폴더/Si_#3/새 폴더\\\\Si_ 3 times1_1_824_243833381.csv',\n",
       " 'D:/data/새 폴더/Si_#3/새 폴더\\\\Si_ 3 times1_1_825_243836381.csv',\n",
       " 'D:/data/새 폴더/Si_#3/새 폴더\\\\Si_ 3 times1_1_826_243839381.csv',\n",
       " 'D:/data/새 폴더/Si_#3/새 폴더\\\\Si_ 3 times1_1_827_243842381.csv',\n",
       " 'D:/data/새 폴더/Si_#3/새 폴더\\\\Si_ 3 times1_1_828_243845381.csv',\n",
       " 'D:/data/새 폴더/Si_#3/새 폴더\\\\Si_ 3 times1_1_829_243848381.csv',\n",
       " 'D:/data/새 폴더/Si_#3/새 폴더\\\\Si_ 3 times1_1_830_243851381.csv',\n",
       " 'D:/data/새 폴더/Si_#3/새 폴더\\\\Si_ 3 times1_1_831_243854381.csv',\n",
       " 'D:/data/새 폴더/Si_#3/새 폴더\\\\Si_ 3 times1_1_832_243857381.csv',\n",
       " 'D:/data/새 폴더/Si_#3/새 폴더\\\\Si_ 3 times1_1_833_243860381.csv',\n",
       " 'D:/data/새 폴더/Si_#3/새 폴더\\\\Si_ 3 times1_1_834_243863381.csv',\n",
       " 'D:/data/새 폴더/Si_#3/새 폴더\\\\Si_ 3 times1_1_835_243866381.csv',\n",
       " 'D:/data/새 폴더/Si_#3/새 폴더\\\\Si_ 3 times1_1_836_243869381.csv',\n",
       " 'D:/data/새 폴더/Si_#3/새 폴더\\\\Si_ 3 times1_1_837_243872381.csv',\n",
       " 'D:/data/새 폴더/Si_#3/새 폴더\\\\Si_ 3 times1_1_838_243875381.csv',\n",
       " 'D:/data/새 폴더/Si_#3/새 폴더\\\\Si_ 3 times1_1_839_243878381.csv',\n",
       " 'D:/data/새 폴더/Si_#3/새 폴더\\\\Si_ 3 times1_1_840_243881381.csv',\n",
       " 'D:/data/새 폴더/Si_#3/새 폴더\\\\Si_ 3 times1_1_841_243884381.csv',\n",
       " 'D:/data/새 폴더/Si_#3/새 폴더\\\\Si_ 3 times1_1_842_243887381.csv',\n",
       " 'D:/data/새 폴더/Si_#3/새 폴더\\\\Si_ 3 times1_1_843_243890381.csv',\n",
       " 'D:/data/새 폴더/Si_#3/새 폴더\\\\Si_ 3 times1_1_844_243893381.csv',\n",
       " 'D:/data/새 폴더/Si_#3/새 폴더\\\\Si_ 3 times1_1_845_243896381.csv',\n",
       " 'D:/data/새 폴더/Si_#3/새 폴더\\\\Si_ 3 times1_1_846_243899381.csv',\n",
       " 'D:/data/새 폴더/Si_#3/새 폴더\\\\Si_ 3 times1_1_847_243902381.csv',\n",
       " 'D:/data/새 폴더/Si_#3/새 폴더\\\\Si_ 3 times1_1_848_243905381.csv',\n",
       " 'D:/data/새 폴더/Si_#3/새 폴더\\\\Si_ 3 times1_1_849_243908381.csv',\n",
       " 'D:/data/새 폴더/Si_#3/새 폴더\\\\Si_ 3 times1_1_850_243911381.csv',\n",
       " 'D:/data/새 폴더/Si_#3/새 폴더\\\\Si_ 3 times1_1_851_243914381.csv',\n",
       " 'D:/data/새 폴더/Si_#3/새 폴더\\\\Si_ 3 times1_1_852_243917381.csv',\n",
       " 'D:/data/새 폴더/Si_#3/새 폴더\\\\Si_ 3 times1_1_853_243920381.csv',\n",
       " 'D:/data/새 폴더/Si_#3/새 폴더\\\\Si_ 3 times1_1_854_243923381.csv',\n",
       " 'D:/data/새 폴더/Si_#3/새 폴더\\\\Si_ 3 times1_1_855_243926381.csv',\n",
       " 'D:/data/새 폴더/Si_#3/새 폴더\\\\Si_ 3 times1_1_856_243929381.csv',\n",
       " 'D:/data/새 폴더/Si_#3/새 폴더\\\\Si_ 3 times1_1_857_243932381.csv',\n",
       " 'D:/data/새 폴더/Si_#3/새 폴더\\\\Si_ 3 times1_1_858_243935381.csv',\n",
       " 'D:/data/새 폴더/Si_#3/새 폴더\\\\Si_ 3 times1_1_859_243938381.csv',\n",
       " 'D:/data/새 폴더/Si_#3/새 폴더\\\\Si_ 3 times1_1_860_243941381.csv',\n",
       " 'D:/data/새 폴더/Si_#3/새 폴더\\\\Si_ 3 times1_1_861_243944381.csv',\n",
       " 'D:/data/새 폴더/Si_#3/새 폴더\\\\Si_ 3 times1_1_862_243947381.csv',\n",
       " 'D:/data/새 폴더/Si_#3/새 폴더\\\\Si_ 3 times1_1_863_243950381.csv',\n",
       " 'D:/data/새 폴더/Si_#3/새 폴더\\\\Si_ 3 times1_1_864_243953381.csv',\n",
       " 'D:/data/새 폴더/Si_#3/새 폴더\\\\Si_ 3 times1_1_865_243956381.csv',\n",
       " 'D:/data/새 폴더/Si_#3/새 폴더\\\\Si_ 3 times1_1_866_243959381.csv',\n",
       " 'D:/data/새 폴더/Si_#3/새 폴더\\\\Si_ 3 times1_1_867_243962381.csv',\n",
       " 'D:/data/새 폴더/Si_#3/새 폴더\\\\Si_ 3 times1_1_868_243965381.csv',\n",
       " 'D:/data/새 폴더/Si_#3/새 폴더\\\\Si_ 3 times1_1_869_243968381.csv',\n",
       " 'D:/data/새 폴더/Si_#3/새 폴더\\\\Si_ 3 times1_1_870_243971381.csv',\n",
       " 'D:/data/새 폴더/Si_#3/새 폴더\\\\Si_ 3 times1_1_871_243974381.csv',\n",
       " 'D:/data/새 폴더/Si_#3/새 폴더\\\\Si_ 3 times1_1_872_243977381.csv',\n",
       " 'D:/data/새 폴더/Si_#3/새 폴더\\\\Si_ 3 times1_1_873_243980381.csv',\n",
       " 'D:/data/새 폴더/Si_#3/새 폴더\\\\Si_ 3 times1_1_874_243983381.csv',\n",
       " 'D:/data/새 폴더/Si_#3/새 폴더\\\\Si_ 3 times1_1_875_243986381.csv',\n",
       " 'D:/data/새 폴더/Si_#3/새 폴더\\\\Si_ 3 times1_1_876_243989381.csv',\n",
       " 'D:/data/새 폴더/Si_#3/새 폴더\\\\Si_ 3 times1_1_877_243992381.csv',\n",
       " 'D:/data/새 폴더/Si_#3/새 폴더\\\\Si_ 3 times1_1_878_243995381.csv',\n",
       " 'D:/data/새 폴더/Si_#3/새 폴더\\\\Si_ 3 times1_1_879_243998381.csv',\n",
       " 'D:/data/새 폴더/Si_#3/새 폴더\\\\Si_ 3 times1_1_880_244001381.csv',\n",
       " 'D:/data/새 폴더/Si_#3/새 폴더\\\\Si_ 3 times1_1_881_244004382.csv',\n",
       " 'D:/data/새 폴더/Si_#3/새 폴더\\\\Si_ 3 times1_1_882_244007382.csv',\n",
       " 'D:/data/새 폴더/Si_#3/새 폴더\\\\Si_ 3 times1_1_883_244010382.csv',\n",
       " 'D:/data/새 폴더/Si_#3/새 폴더\\\\Si_ 3 times1_1_884_244013382.csv',\n",
       " 'D:/data/새 폴더/Si_#3/새 폴더\\\\Si_ 3 times1_1_885_244016382.csv',\n",
       " 'D:/data/새 폴더/Si_#3/새 폴더\\\\Si_ 3 times1_1_886_244019382.csv',\n",
       " 'D:/data/새 폴더/Si_#3/새 폴더\\\\Si_ 3 times1_1_887_244022382.csv',\n",
       " 'D:/data/새 폴더/Si_#3/새 폴더\\\\Si_ 3 times1_1_888_244025382.csv',\n",
       " 'D:/data/새 폴더/Si_#3/새 폴더\\\\Si_ 3 times1_1_889_244028382.csv',\n",
       " 'D:/data/새 폴더/Si_#3/새 폴더\\\\Si_ 3 times1_1_890_244031382.csv',\n",
       " 'D:/data/새 폴더/Si_#3/새 폴더\\\\Si_ 3 times1_1_891_244034382.csv',\n",
       " 'D:/data/새 폴더/Si_#3/새 폴더\\\\Si_ 3 times1_1_892_244037382.csv',\n",
       " 'D:/data/새 폴더/Si_#3/새 폴더\\\\Si_ 3 times1_1_893_244040382.csv',\n",
       " 'D:/data/새 폴더/Si_#3/새 폴더\\\\Si_ 3 times1_1_894_244043383.csv',\n",
       " 'D:/data/새 폴더/Si_#3/새 폴더\\\\Si_ 3 times1_1_895_244046383.csv',\n",
       " 'D:/data/새 폴더/Si_#3/새 폴더\\\\Si_ 3 times1_1_896_244049383.csv',\n",
       " 'D:/data/새 폴더/Si_#3/새 폴더\\\\Si_ 3 times1_1_897_244052383.csv',\n",
       " 'D:/data/새 폴더/Si_#3/새 폴더\\\\Si_ 3 times1_1_898_244055383.csv',\n",
       " 'D:/data/새 폴더/Si_#3/새 폴더\\\\Si_ 3 times1_1_899_244058383.csv',\n",
       " 'D:/data/새 폴더/Si_#3/새 폴더\\\\Si_ 3 times1_1_900_244061383.csv',\n",
       " 'D:/data/새 폴더/Si_#3/새 폴더\\\\Si_ 3 times1_1_901_244064383.csv',\n",
       " 'D:/data/새 폴더/Si_#3/새 폴더\\\\Si_ 3 times1_1_902_244067383.csv',\n",
       " 'D:/data/새 폴더/Si_#3/새 폴더\\\\Si_ 3 times1_1_903_244070384.csv',\n",
       " 'D:/data/새 폴더/Si_#3/새 폴더\\\\Si_ 3 times1_1_904_244073384.csv',\n",
       " 'D:/data/새 폴더/Si_#3/새 폴더\\\\Si_ 3 times1_1_905_244076384.csv',\n",
       " 'D:/data/새 폴더/Si_#3/새 폴더\\\\Si_ 3 times1_1_906_244079384.csv',\n",
       " 'D:/data/새 폴더/Si_#3/새 폴더\\\\Si_ 3 times1_1_907_244082385.csv',\n",
       " 'D:/data/새 폴더/Si_#3/새 폴더\\\\Si_ 3 times1_1_908_244085385.csv',\n",
       " 'D:/data/새 폴더/Si_#3/새 폴더\\\\Si_ 3 times1_1_909_244088385.csv',\n",
       " 'D:/data/새 폴더/Si_#3/새 폴더\\\\Si_ 3 times1_1_910_244091385.csv',\n",
       " 'D:/data/새 폴더/Si_#3/새 폴더\\\\Si_ 3 times1_1_911_244094385.csv',\n",
       " 'D:/data/새 폴더/Si_#3/새 폴더\\\\Si_ 3 times1_1_912_244097385.csv',\n",
       " 'D:/data/새 폴더/Si_#3/새 폴더\\\\Si_ 3 times1_1_913_244100385.csv',\n",
       " 'D:/data/새 폴더/Si_#3/새 폴더\\\\Si_ 3 times1_1_914_244103385.csv',\n",
       " 'D:/data/새 폴더/Si_#3/새 폴더\\\\Si_ 3 times1_1_915_244106385.csv',\n",
       " 'D:/data/새 폴더/Si_#3/새 폴더\\\\Si_ 3 times1_1_916_244109386.csv',\n",
       " 'D:/data/새 폴더/Si_#3/새 폴더\\\\Si_ 3 times1_1_917_244112386.csv',\n",
       " 'D:/data/새 폴더/Si_#3/새 폴더\\\\Si_ 3 times1_1_918_244115386.csv',\n",
       " 'D:/data/새 폴더/Si_#3/새 폴더\\\\Si_ 3 times1_1_919_244118386.csv',\n",
       " 'D:/data/새 폴더/Si_#3/새 폴더\\\\Si_ 3 times1_1_920_244121386.csv',\n",
       " 'D:/data/새 폴더/Si_#3/새 폴더\\\\Si_ 3 times1_1_921_244124386.csv',\n",
       " 'D:/data/새 폴더/Si_#3/새 폴더\\\\Si_ 3 times1_1_922_244127386.csv',\n",
       " 'D:/data/새 폴더/Si_#3/새 폴더\\\\Si_ 3 times1_1_923_244130386.csv',\n",
       " 'D:/data/새 폴더/Si_#3/새 폴더\\\\Si_ 3 times1_1_924_244133386.csv',\n",
       " 'D:/data/새 폴더/Si_#3/새 폴더\\\\Si_ 3 times1_1_925_244136386.csv',\n",
       " 'D:/data/새 폴더/Si_#3/새 폴더\\\\Si_ 3 times1_1_926_244139386.csv',\n",
       " 'D:/data/새 폴더/Si_#3/새 폴더\\\\Si_ 3 times1_1_927_244142386.csv',\n",
       " 'D:/data/새 폴더/Si_#3/새 폴더\\\\Si_ 3 times1_1_928_244145386.csv',\n",
       " 'D:/data/새 폴더/Si_#3/새 폴더\\\\Si_ 3 times1_1_929_244148386.csv',\n",
       " 'D:/data/새 폴더/Si_#3/새 폴더\\\\Si_ 3 times1_1_930_244151386.csv',\n",
       " 'D:/data/새 폴더/Si_#3/새 폴더\\\\Si_ 3 times1_1_931_244154386.csv',\n",
       " 'D:/data/새 폴더/Si_#3/새 폴더\\\\Si_ 3 times1_1_932_244157386.csv',\n",
       " 'D:/data/새 폴더/Si_#3/새 폴더\\\\Si_ 3 times1_1_933_244160386.csv',\n",
       " 'D:/data/새 폴더/Si_#3/새 폴더\\\\Si_ 3 times1_1_934_244163386.csv',\n",
       " 'D:/data/새 폴더/Si_#3/새 폴더\\\\Si_ 3 times1_1_935_244166386.csv',\n",
       " 'D:/data/새 폴더/Si_#3/새 폴더\\\\Si_ 3 times1_1_936_244169386.csv',\n",
       " 'D:/data/새 폴더/Si_#3/새 폴더\\\\Si_ 3 times1_1_937_244172386.csv',\n",
       " 'D:/data/새 폴더/Si_#3/새 폴더\\\\Si_ 3 times1_1_938_244175386.csv',\n",
       " 'D:/data/새 폴더/Si_#3/새 폴더\\\\Si_ 3 times1_1_939_244178386.csv',\n",
       " 'D:/data/새 폴더/Si_#3/새 폴더\\\\Si_ 3 times1_1_940_244181386.csv',\n",
       " 'D:/data/새 폴더/Si_#3/새 폴더\\\\Si_ 3 times1_1_941_244184386.csv',\n",
       " 'D:/data/새 폴더/Si_#3/새 폴더\\\\Si_ 3 times1_1_942_244187386.csv',\n",
       " 'D:/data/새 폴더/Si_#3/새 폴더\\\\Si_ 3 times1_1_943_244190386.csv',\n",
       " 'D:/data/새 폴더/Si_#3/새 폴더\\\\Si_ 3 times1_1_944_244193386.csv',\n",
       " 'D:/data/새 폴더/Si_#3/새 폴더\\\\Si_ 3 times1_1_945_244196386.csv',\n",
       " 'D:/data/새 폴더/Si_#3/새 폴더\\\\Si_ 3 times1_1_946_244199386.csv',\n",
       " 'D:/data/새 폴더/Si_#3/새 폴더\\\\Si_ 3 times1_1_947_244202386.csv',\n",
       " 'D:/data/새 폴더/Si_#3/새 폴더\\\\Si_ 3 times1_1_948_244205386.csv',\n",
       " 'D:/data/새 폴더/Si_#3/새 폴더\\\\Si_ 3 times1_1_949_244208386.csv',\n",
       " 'D:/data/새 폴더/Si_#3/새 폴더\\\\Si_ 3 times1_1_950_244211386.csv',\n",
       " 'D:/data/새 폴더/Si_#3/새 폴더\\\\Si_ 3 times1_1_951_244214386.csv',\n",
       " 'D:/data/새 폴더/Si_#3/새 폴더\\\\Si_ 3 times1_1_952_244217386.csv',\n",
       " 'D:/data/새 폴더/Si_#3/새 폴더\\\\Si_ 3 times1_1_953_244220386.csv',\n",
       " 'D:/data/새 폴더/Si_#3/새 폴더\\\\Si_ 3 times1_1_954_244223386.csv',\n",
       " 'D:/data/새 폴더/Si_#3/새 폴더\\\\Si_ 3 times1_1_955_244226386.csv',\n",
       " 'D:/data/새 폴더/Si_#3/새 폴더\\\\Si_ 3 times1_1_956_244229386.csv',\n",
       " 'D:/data/새 폴더/Si_#3/새 폴더\\\\Si_ 3 times1_1_957_244232386.csv',\n",
       " 'D:/data/새 폴더/Si_#3/새 폴더\\\\Si_ 3 times1_1_958_244235386.csv',\n",
       " 'D:/data/새 폴더/Si_#3/새 폴더\\\\Si_ 3 times1_1_959_244238386.csv',\n",
       " 'D:/data/새 폴더/Si_#3/새 폴더\\\\Si_ 3 times1_1_960_244241386.csv',\n",
       " 'D:/data/새 폴더/Si_#3/새 폴더\\\\Si_ 3 times1_1_961_244244386.csv',\n",
       " 'D:/data/새 폴더/Si_#3/새 폴더\\\\Si_ 3 times1_1_962_244247386.csv',\n",
       " 'D:/data/새 폴더/Si_#3/새 폴더\\\\Si_ 3 times1_1_963_244250386.csv',\n",
       " 'D:/data/새 폴더/Si_#3/새 폴더\\\\Si_ 3 times1_1_964_244253386.csv',\n",
       " 'D:/data/새 폴더/Si_#3/새 폴더\\\\Si_ 3 times1_1_965_244256386.csv',\n",
       " 'D:/data/새 폴더/Si_#3/새 폴더\\\\Si_ 3 times1_1_966_244259386.csv',\n",
       " 'D:/data/새 폴더/Si_#3/새 폴더\\\\Si_ 3 times1_1_967_244262386.csv',\n",
       " 'D:/data/새 폴더/Si_#3/새 폴더\\\\Si_ 3 times1_1_968_244265386.csv',\n",
       " 'D:/data/새 폴더/Si_#3/새 폴더\\\\Si_ 3 times1_1_969_244268386.csv',\n",
       " 'D:/data/새 폴더/Si_#3/새 폴더\\\\Si_ 3 times1_1_970_244271386.csv',\n",
       " 'D:/data/새 폴더/Si_#3/새 폴더\\\\Si_ 3 times1_1_971_244274386.csv',\n",
       " 'D:/data/새 폴더/Si_#3/새 폴더\\\\Si_ 3 times1_1_972_244277386.csv',\n",
       " 'D:/data/새 폴더/Si_#3/새 폴더\\\\Si_ 3 times1_1_973_244280386.csv',\n",
       " 'D:/data/새 폴더/Si_#3/새 폴더\\\\Si_ 3 times1_1_974_244283386.csv',\n",
       " 'D:/data/새 폴더/Si_#3/새 폴더\\\\Si_ 3 times1_1_975_244286386.csv',\n",
       " 'D:/data/새 폴더/Si_#3/새 폴더\\\\Si_ 3 times1_1_976_244289386.csv',\n",
       " 'D:/data/새 폴더/Si_#3/새 폴더\\\\Si_ 3 times1_1_977_244292386.csv',\n",
       " 'D:/data/새 폴더/Si_#3/새 폴더\\\\Si_ 3 times1_1_978_244295386.csv',\n",
       " 'D:/data/새 폴더/Si_#3/새 폴더\\\\Si_ 3 times1_1_979_244298386.csv',\n",
       " 'D:/data/새 폴더/Si_#3/새 폴더\\\\Si_ 3 times1_1_980_244301386.csv',\n",
       " 'D:/data/새 폴더/Si_#3/새 폴더\\\\Si_ 3 times1_1_981_244304387.csv',\n",
       " 'D:/data/새 폴더/Si_#3/새 폴더\\\\Si_ 3 times1_1_982_244307387.csv',\n",
       " 'D:/data/새 폴더/Si_#3/새 폴더\\\\Si_ 3 times1_1_983_244310387.csv',\n",
       " 'D:/data/새 폴더/Si_#3/새 폴더\\\\Si_ 3 times1_1_984_244313387.csv',\n",
       " 'D:/data/새 폴더/Si_#3/새 폴더\\\\Si_ 3 times1_1_985_244316387.csv',\n",
       " 'D:/data/새 폴더/Si_#3/새 폴더\\\\Si_ 3 times1_1_986_244319387.csv',\n",
       " 'D:/data/새 폴더/Si_#3/새 폴더\\\\Si_ 3 times1_1_987_244322387.csv',\n",
       " 'D:/data/새 폴더/Si_#3/새 폴더\\\\Si_ 3 times1_1_988_244325387.csv',\n",
       " 'D:/data/새 폴더/Si_#3/새 폴더\\\\Si_ 3 times1_1_989_244328387.csv',\n",
       " 'D:/data/새 폴더/Si_#3/새 폴더\\\\Si_ 3 times1_1_990_244331387.csv',\n",
       " 'D:/data/새 폴더/Si_#3/새 폴더\\\\Si_ 3 times1_1_991_244334387.csv',\n",
       " 'D:/data/새 폴더/Si_#3/새 폴더\\\\Si_ 3 times1_1_992_244337387.csv',\n",
       " 'D:/data/새 폴더/Si_#3/새 폴더\\\\Si_ 3 times1_1_993_244340387.csv',\n",
       " 'D:/data/새 폴더/Si_#3/새 폴더\\\\Si_ 3 times1_1_994_244343387.csv',\n",
       " 'D:/data/새 폴더/Si_#3/새 폴더\\\\Si_ 3 times1_1_995_244346387.csv',\n",
       " 'D:/data/새 폴더/Si_#3/새 폴더\\\\Si_ 3 times1_1_996_244349387.csv',\n",
       " 'D:/data/새 폴더/Si_#3/새 폴더\\\\Si_ 3 times1_1_997_244352387.csv',\n",
       " 'D:/data/새 폴더/Si_#3/새 폴더\\\\Si_ 3 times1_1_998_244355387.csv',\n",
       " 'D:/data/새 폴더/Si_#3/새 폴더\\\\Si_ 3 times1_1_999_244358387.csv',\n",
       " 'D:/data/새 폴더/Si_#3/새 폴더\\\\Si_ 3 times1_1_1000_244361387.csv',\n",
       " ...]"
      ]
     },
     "execution_count": 193,
     "metadata": {},
     "output_type": "execute_result"
    }
   ],
   "source": [
    "file_list_py"
   ]
  },
  {
   "cell_type": "code",
   "execution_count": 208,
   "id": "3d0aee87",
   "metadata": {},
   "outputs": [
    {
     "data": {
      "text/plain": [
       "[<matplotlib.lines.Line2D at 0x144462bddf0>]"
      ]
     },
     "execution_count": 208,
     "metadata": {},
     "output_type": "execute_result"
    },
    {
     "data": {
      "image/png": "[encoded data removed]",
      "text/plain": [
       "<Figure size 432x288 with 1 Axes>"
      ]
     },
     "metadata": {
      "needs_background": "light"
     },
     "output_type": "display_data"
    }
   ],
   "source": [
    "\n",
    "    test = pd.read_csv(file_list_py[32991]\n",
    "                    ,encoding = 'cp949', skiprows = 11, names = [0])\n",
    "    plt.plot(test)"
   ]
  },
  {
   "cell_type": "code",
   "execution_count": 209,
   "id": "dcff7c9a",
   "metadata": {},
   "outputs": [
    {
     "name": "stdout",
     "output_type": "stream",
     "text": [
      "480/480 [==============================] - 20s 41ms/step\n"
     ]
    }
   ],
   "source": [
    "test = np.array(test)\n",
    "X_test , y_test = truncate(test)\n",
    "test_prediction = model.predict(X_test)\n",
    "prediction = test_prediction.squeeze()"
   ]
  },
  {
   "cell_type": "code",
   "execution_count": 210,
   "id": "fde35733",
   "metadata": {},
   "outputs": [
    {
     "data": {
      "text/plain": [
       "15340"
      ]
     },
     "execution_count": 210,
     "metadata": {},
     "output_type": "execute_result"
    }
   ],
   "source": [
    "len(y_test)"
   ]
  },
  {
   "cell_type": "code",
   "execution_count": 1,
   "id": "f95f2ad1",
   "metadata": {},
   "outputs": [
    {
     "ename": "NameError",
     "evalue": "name 'plt' is not defined",
     "output_type": "error",
     "traceback": [
      "\u001b[1;31m---------------------------------------------------------------------------\u001b[0m",
      "\u001b[1;31mNameError\u001b[0m                                 Traceback (most recent call last)",
      "\u001b[1;32mc:\\Users\\TRL-HAN\\Desktop\\LSTM code_v2\\sensor_prediction_final.ipynb 셀 69\u001b[0m in \u001b[0;36m<cell line: 3>\u001b[1;34m()\u001b[0m\n\u001b[0;32m      <a href='vscode-notebook-cell:/c%3A/Users/TRL-HAN/Desktop/LSTM%20code_v2/sensor_prediction_final.ipynb#ch0000072?line=0'>1</a>\u001b[0m start \u001b[39m=\u001b[39m \u001b[39m3000\u001b[39m\n\u001b[0;32m      <a href='vscode-notebook-cell:/c%3A/Users/TRL-HAN/Desktop/LSTM%20code_v2/sensor_prediction_final.ipynb#ch0000072?line=1'>2</a>\u001b[0m end \u001b[39m=\u001b[39m \u001b[39m6000\u001b[39m\n\u001b[1;32m----> <a href='vscode-notebook-cell:/c%3A/Users/TRL-HAN/Desktop/LSTM%20code_v2/sensor_prediction_final.ipynb#ch0000072?line=2'>3</a>\u001b[0m plt\u001b[39m.\u001b[39mplot(test[start\u001b[39m+\u001b[39m\u001b[39m20\u001b[39m:end\u001b[39m+\u001b[39m\u001b[39m20\u001b[39m])\n\u001b[0;32m      <a href='vscode-notebook-cell:/c%3A/Users/TRL-HAN/Desktop/LSTM%20code_v2/sensor_prediction_final.ipynb#ch0000072?line=3'>4</a>\u001b[0m plt\u001b[39m.\u001b[39mplot(prediction[start:end], color\u001b[39m=\u001b[39m \u001b[39m'\u001b[39m\u001b[39mred\u001b[39m\u001b[39m'\u001b[39m)\n",
      "\u001b[1;31mNameError\u001b[0m: name 'plt' is not defined"
     ]
    }
   ],
   "source": [
    "start = 3000\n",
    "end = 6000\n",
    "plt.plot(test[start+20:end+20])\n",
    "plt.plot(prediction[start:end], color= 'red')"
   ]
  },
  {
   "cell_type": "code",
   "execution_count": 214,
   "id": "f2ce56e3",
   "metadata": {},
   "outputs": [
    {
     "data": {
      "text/plain": [
       "[<matplotlib.lines.Line2D at 0x14442fc2220>]"
      ]
     },
     "execution_count": 214,
     "metadata": {},
     "output_type": "execute_result"
    },
    {
     "data": {
      "image/png": "[encoded data removed]",
      "text/plain": [
       "<Figure size 432x288 with 1 Axes>"
      ]
     },
     "metadata": {
      "needs_background": "light"
     },
     "output_type": "display_data"
    }
   ],
   "source": [
    "start = 6000\n",
    "end = 8000\n",
    "plt.plot(test)\n",
    "plt.plot(prediction, color= 'red')"
   ]
  },
  {
   "cell_type": "code",
   "execution_count": 223,
   "id": "11aa5de1",
   "metadata": {},
   "outputs": [
    {
     "data": {
      "text/plain": [
       "(15340,)"
      ]
     },
     "execution_count": 223,
     "metadata": {},
     "output_type": "execute_result"
    }
   ],
   "source": [
    "denoise = test"
   ]
  }
 ],
 "metadata": {
  "accelerator": "GPU",
  "colab": {
   "collapsed_sections": [],
   "name": "서윤sensor_prediction-small (1).ipynb",
   "provenance": []
  },
  "gpuClass": "standard",
  "kernelspec": {
   "display_name": "Python 3.8.13 ('base')",
   "language": "python",
   "name": "python3"
  },
  "language_info": {
   "codemirror_mode": {
    "name": "ipython",
    "version": 3
   },
   "file_extension": ".py",
   "mimetype": "text/x-python",
   "name": "python",
   "nbconvert_exporter": "python",
   "pygments_lexer": "ipython3",
   "version": "3.8.13"
  },
  "varInspector": {
   "cols": {
    "lenName": 16,
    "lenType": 16,
    "lenVar": 40
   },
   "kernels_config": {
    "python": {
     "delete_cmd_postfix": "",
     "delete_cmd_prefix": "del ",
     "library": "var_list.py",
     "varRefreshCmd": "print(var_dic_list())"
    },
    "r": {
     "delete_cmd_postfix": ") ",
     "delete_cmd_prefix": "rm(",
     "library": "var_list.r",
     "varRefreshCmd": "cat(var_dic_list()) "
    }
   },
   "types_to_exclude": [
    "module",
    "function",
    "builtin_function_or_method",
    "instance",
    "_Feature"
   ],
   "window_display": false
  },
  "vscode": {
   "interpreter": {
    "hash": "ad575e24c15c06087fb462d7c5e47efec7c0e32510c3f36211133961dad93797"
   }
  }
 },
 "nbformat": 4,
 "nbformat_minor": 5
}
