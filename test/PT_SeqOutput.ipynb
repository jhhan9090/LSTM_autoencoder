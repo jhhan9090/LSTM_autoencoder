{
 "cells": [
  {
   "cell_type": "code",
   "execution_count": 1,
   "metadata": {},
   "outputs": [],
   "source": [
    "import pandas as pd\n",
    "import numpy as np\n",
    "import matplotlib.pyplot as plt\n",
    "import warnings\n",
    "import os\n",
    "import torch\n",
    "\n",
    "%matplotlib inline\n",
    "warnings.filterwarnings('ignore')"
   ]
  },
  {
   "cell_type": "code",
   "execution_count": 2,
   "metadata": {},
   "outputs": [
    {
     "name": "stdout",
     "output_type": "stream",
     "text": [
      "Device: cuda\n",
      "0\n"
     ]
    }
   ],
   "source": [
    "device = torch.device('cuda' if torch.cuda.is_available() else 'cpu')\n",
    "torch.cuda.get_device_name(0)\n",
    "print('Device:', device)\n",
    "print(torch.cuda.current_device())"
   ]
  },
  {
   "cell_type": "code",
   "execution_count": 3,
   "metadata": {},
   "outputs": [],
   "source": [
    "path = 'D:/data/새 폴더/_Noise data'\n",
    "num_of_files = 1\n",
    "num_of_datas = 11500"
   ]
  },
  {
   "cell_type": "code",
   "execution_count": 4,
   "metadata": {},
   "outputs": [
    {
     "data": {
      "text/plain": [
       "['Si_ 3 times0_1_10000_31426316.csv']"
      ]
     },
     "execution_count": 4,
     "metadata": {},
     "output_type": "execute_result"
    }
   ],
   "source": [
    "file_list = os.listdir(path)\n",
    "file_list_py = [file for file in file_list[:num_of_files] if file.endswith('.csv')]\n",
    "file_list_py"
   ]
  },
  {
   "cell_type": "code",
   "execution_count": 5,
   "metadata": {},
   "outputs": [],
   "source": [
    "train = pd.DataFrame()\n",
    "j = 0\n",
    "\n",
    "for i in file_list_py:\n",
    "    data = pd.read_csv(path+'/'+i,\n",
    "                      skiprows=11,\n",
    "                      nrows = num_of_datas,\n",
    "                      header = None,\n",
    "                      names =[j],\n",
    "                      encoding = 'cp949'\n",
    "                      )\n",
    "    j = j + 1 \n",
    "    train = pd.concat([train,data], axis = 1, sort=True)"
   ]
  },
  {
   "cell_type": "code",
   "execution_count": 6,
   "metadata": {},
   "outputs": [
    {
     "data": {
      "text/html": [
       "<div>\n",
       "<style scoped>\n",
       "    .dataframe tbody tr th:only-of-type {\n",
       "        vertical-align: middle;\n",
       "    }\n",
       "\n",
       "    .dataframe tbody tr th {\n",
       "        vertical-align: top;\n",
       "    }\n",
       "\n",
       "    .dataframe thead th {\n",
       "        text-align: right;\n",
       "    }\n",
       "</style>\n",
       "<table border=\"1\" class=\"dataframe\">\n",
       "  <thead>\n",
       "    <tr style=\"text-align: right;\">\n",
       "      <th></th>\n",
       "      <th>0</th>\n",
       "    </tr>\n",
       "  </thead>\n",
       "  <tbody>\n",
       "    <tr>\n",
       "      <th>0</th>\n",
       "      <td>-0.016022</td>\n",
       "    </tr>\n",
       "    <tr>\n",
       "      <th>1</th>\n",
       "      <td>-0.013428</td>\n",
       "    </tr>\n",
       "    <tr>\n",
       "      <th>2</th>\n",
       "      <td>-0.010834</td>\n",
       "    </tr>\n",
       "    <tr>\n",
       "      <th>3</th>\n",
       "      <td>-0.008240</td>\n",
       "    </tr>\n",
       "    <tr>\n",
       "      <th>4</th>\n",
       "      <td>-0.003815</td>\n",
       "    </tr>\n",
       "    <tr>\n",
       "      <th>...</th>\n",
       "      <td>...</td>\n",
       "    </tr>\n",
       "    <tr>\n",
       "      <th>11495</th>\n",
       "      <td>0.026093</td>\n",
       "    </tr>\n",
       "    <tr>\n",
       "      <th>11496</th>\n",
       "      <td>0.026093</td>\n",
       "    </tr>\n",
       "    <tr>\n",
       "      <th>11497</th>\n",
       "      <td>0.028381</td>\n",
       "    </tr>\n",
       "    <tr>\n",
       "      <th>11498</th>\n",
       "      <td>0.025177</td>\n",
       "    </tr>\n",
       "    <tr>\n",
       "      <th>11499</th>\n",
       "      <td>0.023346</td>\n",
       "    </tr>\n",
       "  </tbody>\n",
       "</table>\n",
       "<p>11500 rows × 1 columns</p>\n",
       "</div>"
      ],
      "text/plain": [
       "              0\n",
       "0     -0.016022\n",
       "1     -0.013428\n",
       "2     -0.010834\n",
       "3     -0.008240\n",
       "4     -0.003815\n",
       "...         ...\n",
       "11495  0.026093\n",
       "11496  0.026093\n",
       "11497  0.028381\n",
       "11498  0.025177\n",
       "11499  0.023346\n",
       "\n",
       "[11500 rows x 1 columns]"
      ]
     },
     "execution_count": 6,
     "metadata": {},
     "output_type": "execute_result"
    }
   ],
   "source": [
    "train"
   ]
  },
  {
   "cell_type": "code",
   "execution_count": 7,
   "metadata": {},
   "outputs": [
    {
     "data": {
      "image/png": "[encoded data removed]",
      "text/plain": [
       "<Figure size 432x288 with 1 Axes>"
      ]
     },
     "metadata": {
      "needs_background": "light"
     },
     "output_type": "display_data"
    },
    {
     "data": {
      "text/plain": [
       "<Figure size 576x72 with 0 Axes>"
      ]
     },
     "metadata": {},
     "output_type": "display_data"
    }
   ],
   "source": [
    "plt.plot(train)\n",
    "plt.figure(figsize=(8, 1))\n",
    "plt.show()"
   ]
  },
  {
   "cell_type": "markdown",
   "metadata": {},
   "source": [
    "## Test data load\\\n"
   ]
  },
  {
   "cell_type": "code",
   "execution_count": 8,
   "metadata": {},
   "outputs": [],
   "source": [
    "valid = pd.read_csv('D:/data/새 폴더/_Noise data/Si_ 3 times0_1_15_42000.csv',\n",
    "                    encoding = 'cp949', skiprows = 11, names = [0])"
   ]
  },
  {
   "cell_type": "code",
   "execution_count": 9,
   "metadata": {},
   "outputs": [
    {
     "data": {
      "text/html": [
       "<div>\n",
       "<style scoped>\n",
       "    .dataframe tbody tr th:only-of-type {\n",
       "        vertical-align: middle;\n",
       "    }\n",
       "\n",
       "    .dataframe tbody tr th {\n",
       "        vertical-align: top;\n",
       "    }\n",
       "\n",
       "    .dataframe thead th {\n",
       "        text-align: right;\n",
       "    }\n",
       "</style>\n",
       "<table border=\"1\" class=\"dataframe\">\n",
       "  <thead>\n",
       "    <tr style=\"text-align: right;\">\n",
       "      <th></th>\n",
       "      <th>0</th>\n",
       "    </tr>\n",
       "  </thead>\n",
       "  <tbody>\n",
       "    <tr>\n",
       "      <th>0</th>\n",
       "      <td>-0.014648</td>\n",
       "    </tr>\n",
       "    <tr>\n",
       "      <th>1</th>\n",
       "      <td>-0.014343</td>\n",
       "    </tr>\n",
       "    <tr>\n",
       "      <th>2</th>\n",
       "      <td>-0.014038</td>\n",
       "    </tr>\n",
       "    <tr>\n",
       "      <th>3</th>\n",
       "      <td>-0.013733</td>\n",
       "    </tr>\n",
       "    <tr>\n",
       "      <th>4</th>\n",
       "      <td>-0.014496</td>\n",
       "    </tr>\n",
       "    <tr>\n",
       "      <th>...</th>\n",
       "      <td>...</td>\n",
       "    </tr>\n",
       "    <tr>\n",
       "      <th>11495</th>\n",
       "      <td>-0.026703</td>\n",
       "    </tr>\n",
       "    <tr>\n",
       "      <th>11496</th>\n",
       "      <td>-0.035248</td>\n",
       "    </tr>\n",
       "    <tr>\n",
       "      <th>11497</th>\n",
       "      <td>-0.036316</td>\n",
       "    </tr>\n",
       "    <tr>\n",
       "      <th>11498</th>\n",
       "      <td>-0.032654</td>\n",
       "    </tr>\n",
       "    <tr>\n",
       "      <th>11499</th>\n",
       "      <td>-0.032501</td>\n",
       "    </tr>\n",
       "  </tbody>\n",
       "</table>\n",
       "<p>11500 rows × 1 columns</p>\n",
       "</div>"
      ],
      "text/plain": [
       "              0\n",
       "0     -0.014648\n",
       "1     -0.014343\n",
       "2     -0.014038\n",
       "3     -0.013733\n",
       "4     -0.014496\n",
       "...         ...\n",
       "11495 -0.026703\n",
       "11496 -0.035248\n",
       "11497 -0.036316\n",
       "11498 -0.032654\n",
       "11499 -0.032501\n",
       "\n",
       "[11500 rows x 1 columns]"
      ]
     },
     "execution_count": 9,
     "metadata": {},
     "output_type": "execute_result"
    }
   ],
   "source": [
    "valid = valid[:11500]\n",
    "valid"
   ]
  },
  {
   "cell_type": "markdown",
   "metadata": {},
   "source": [
    "## data split"
   ]
  },
  {
   "cell_type": "code",
   "execution_count": 10,
   "metadata": {},
   "outputs": [],
   "source": [
    "seq_len = 1000\n",
    "pred_len = num_of_datas - seq_len"
   ]
  },
  {
   "cell_type": "code",
   "execution_count": 11,
   "metadata": {},
   "outputs": [],
   "source": [
    "def truncate(x, train_len=seq_len, test_len=1):\n",
    "    in_, out_ = [], []\n",
    "    \n",
    "    in_.append(x[:1000])\n",
    "    out_.append(x[1000:])\n",
    "    \n",
    "    return np.array(in_), np.array(out_)\n",
    "    \n"
   ]
  },
  {
   "cell_type": "code",
   "execution_count": 12,
   "metadata": {},
   "outputs": [],
   "source": [
    "x_train, y_train = truncate(train)\n",
    "x_val, y_val = truncate(valid)"
   ]
  },
  {
   "cell_type": "code",
   "execution_count": 13,
   "metadata": {},
   "outputs": [],
   "source": [
    "x_train = torch.Tensor(x_train)\n",
    "y_train = torch.Tensor(y_train)\n",
    "x_val = torch.Tensor(x_val)\n",
    "y_val = torch.Tensor(y_val)"
   ]
  },
  {
   "cell_type": "code",
   "execution_count": 14,
   "metadata": {},
   "outputs": [
    {
     "name": "stdout",
     "output_type": "stream",
     "text": [
      "x_train 사이즈 : torch.Size([1, 1000, 1])\n",
      "y_train 사이즈 : torch.Size([1, 10500, 1])\n",
      "x_val 사이즈 : torch.Size([1, 1000, 1])\n",
      "y_val 사이즈 : torch.Size([1, 10500, 1])\n"
     ]
    }
   ],
   "source": [
    "print(\"x_train 사이즈 : {}\".format(x_train.shape))\n",
    "print(\"y_train 사이즈 : {}\".format(y_train.shape))\n",
    "print(\"x_val 사이즈 : {}\".format(x_val.shape))\n",
    "print(\"y_val 사이즈 : {}\".format(y_val.shape))\n"
   ]
  },
  {
   "cell_type": "code",
   "execution_count": null,
   "metadata": {},
   "outputs": [],
   "source": []
  },
  {
   "cell_type": "markdown",
   "metadata": {},
   "source": [
    "## LSTM model"
   ]
  },
  {
   "cell_type": "code",
   "execution_count": 15,
   "metadata": {},
   "outputs": [],
   "source": [
    "import torch.nn as nn\n",
    "from torch import optim\n",
    "import torch.nn.functional as F\n",
    "from fastprogress import master_bar, progress_bar\n",
    "from torch.autograd import Variable\n",
    "import pytorch_model_summary"
   ]
  },
  {
   "cell_type": "code",
   "execution_count": 16,
   "metadata": {},
   "outputs": [],
   "source": [
    "seq_len = x_train.shape[1]\n",
    "input_size = x_train.shape[2]\n",
    "hidden_size = 128\n",
    "num_layers = 1\n",
    "num_classes = 1 #y_train.shape[1]\n"
   ]
  },
  {
   "cell_type": "code",
   "execution_count": 17,
   "metadata": {},
   "outputs": [
    {
     "data": {
      "text/plain": [
       "torch.Size([1, 1000, 1])"
      ]
     },
     "execution_count": 17,
     "metadata": {},
     "output_type": "execute_result"
    }
   ],
   "source": [
    "x_train.shape"
   ]
  },
  {
   "cell_type": "markdown",
   "metadata": {},
   "source": [
    "## LSTM cell"
   ]
  },
  {
   "cell_type": "code",
   "execution_count": 47,
   "metadata": {},
   "outputs": [],
   "source": [
    "class Encoder(nn.Module):\n",
    "    def __init__(self, input_size, hidden_size, num_layers, num_classes):\n",
    "        super(Encoder, self).__init__()\n",
    "        self.input_size = input_size\n",
    "        self.hidden_size = hidden_size\n",
    "        self.num_layers = num_layers\n",
    "        self.num_classes = num_classes\n",
    "            \n",
    "        self.lstm = nn.LSTM(input_size = input_size,\n",
    "                            hidden_size = hidden_size,\n",
    "                            num_layers = num_layers,\n",
    "                            batch_first = True,\n",
    "                            dropout = 0.3\n",
    "                            )\n",
    "        \n",
    "        self.fc = nn.Linear(hidden_size, 1)\n",
    "        self.timedis = TimeDistributed(self.fc)\n",
    "        \n",
    "        \n",
    "    def forward(self, x):    \n",
    "        h_0 = Variable(torch.zeros(self.num_layers, x.size(0), self.hidden_size)).to(device) #hidden state\n",
    "        c_0 = Variable(torch.zeros(self.num_layers, x.size(0), self.hidden_size)).to(device) #internal state\n",
    "            \n",
    "        output, (last_h, last_c) = self.lstm(x, (h_0,c_0))\n",
    "        output = output[:,-1,:]   \n",
    "        output = output.repeat(1, 10500, 1)\n",
    "        \n",
    "        return self.timedis(output)\n",
    "            \n",
    "            "
   ]
  },
  {
   "cell_type": "code",
   "execution_count": 57,
   "metadata": {},
   "outputs": [],
   "source": [
    "class TimeDistributed(nn.Module):\n",
    "    def __init__(self, module, batch_first=False):\n",
    "        super(TimeDistributed, self).__init__()\n",
    "        self.module = module\n",
    "        self.batch_first = batch_first\n",
    "\n",
    "    def forward(self, x):\n",
    "\n",
    "        if len(x.size()) <= 2:\n",
    "            return self.module(x)\n",
    "\n",
    "        # Squash samples and timesteps into a single axis\n",
    "        x_reshape = x.contiguous().view(-1, x.size(-1))  # (samples * timesteps, input_size)\n",
    "\n",
    "        y = self.module(x_reshape)\n",
    "\n",
    "        # We have to reshape Y\n",
    "        if self.batch_first:\n",
    "            y = y.contiguous().view(x.size(0), -1, y.size(-1))  # (samples, timesteps, output_size)\n",
    "        else:\n",
    "            y = y.view(-1, x.size(1), y.size(-1))  # (timesteps, samples, output_size)\n",
    "\n",
    "        return y"
   ]
  },
  {
   "cell_type": "code",
   "execution_count": 48,
   "metadata": {},
   "outputs": [],
   "source": [
    "model = Encoder(input_size, hidden_size, num_layers, num_classes).to(device)"
   ]
  },
  {
   "cell_type": "code",
   "execution_count": 51,
   "metadata": {},
   "outputs": [],
   "source": [
    "test, last_h, last_c = model(x_train)"
   ]
  },
  {
   "cell_type": "code",
   "execution_count": 55,
   "metadata": {},
   "outputs": [
    {
     "name": "stdout",
     "output_type": "stream",
     "text": [
      "torch.Size([1, 128]) torch.Size([1, 1, 128])\n"
     ]
    }
   ],
   "source": [
    "print(test.shape, last_h.shape)"
   ]
  },
  {
   "cell_type": "code",
   "execution_count": 71,
   "metadata": {},
   "outputs": [
    {
     "data": {
      "text/plain": [
       "tensor([[[-0.0459,  0.0323,  0.0420,  0.0163,  0.0426, -0.0066, -0.0717,\n",
       "           0.0413,  0.0446, -0.0095,  0.0482,  0.0112, -0.0059,  0.0574,\n",
       "           0.0153, -0.0421,  0.0147,  0.0561, -0.0143, -0.0085,  0.0090,\n",
       "           0.0181,  0.0053,  0.0244, -0.0279, -0.0785,  0.0233, -0.0139,\n",
       "           0.0004, -0.0134,  0.0176,  0.0521,  0.0648, -0.0213,  0.0360,\n",
       "          -0.0334,  0.0338,  0.0364,  0.0748, -0.0405,  0.0010,  0.0432,\n",
       "           0.0037,  0.0416,  0.0513, -0.0647, -0.0310,  0.0051, -0.0153,\n",
       "           0.0309, -0.0573, -0.0234, -0.0066, -0.0079, -0.0456,  0.0749,\n",
       "          -0.0827,  0.0321,  0.0196,  0.0086,  0.0283,  0.0524,  0.0191,\n",
       "          -0.0370, -0.0296, -0.0650,  0.0037,  0.0479, -0.0485, -0.0311,\n",
       "          -0.0474,  0.0102,  0.0480, -0.0288, -0.0487, -0.0313, -0.0020,\n",
       "          -0.0662,  0.0065, -0.0263, -0.0155,  0.0516, -0.0728,  0.0389,\n",
       "          -0.0762, -0.0714, -0.0721, -0.0344,  0.0228,  0.0037, -0.0685,\n",
       "           0.0016, -0.0449,  0.0537,  0.0040, -0.0675, -0.0414, -0.0612,\n",
       "           0.0408,  0.0031,  0.0237, -0.0385, -0.0618, -0.0533,  0.0468,\n",
       "          -0.0377, -0.0346, -0.0095,  0.0541,  0.0227,  0.0487, -0.0126,\n",
       "           0.0283,  0.0478, -0.0540,  0.0204, -0.0762,  0.0307, -0.0094,\n",
       "          -0.0500, -0.0927,  0.0372,  0.0138,  0.0140,  0.0223,  0.0074,\n",
       "           0.0179,  0.0065]]], device='cuda:0', grad_fn=<CudnnRnnBackward>)"
      ]
     },
     "execution_count": 71,
     "metadata": {},
     "output_type": "execute_result"
    }
   ],
   "source": [
    "last_h"
   ]
  },
  {
   "cell_type": "code",
   "execution_count": 65,
   "metadata": {},
   "outputs": [],
   "source": [
    "test2 = test.repeat(1, 10500, 1)"
   ]
  },
  {
   "cell_type": "code",
   "execution_count": 66,
   "metadata": {},
   "outputs": [
    {
     "data": {
      "text/plain": [
       "torch.Size([1, 10500, 128])"
      ]
     },
     "execution_count": 66,
     "metadata": {},
     "output_type": "execute_result"
    }
   ],
   "source": [
    "test2.shape"
   ]
  },
  {
   "cell_type": "code",
   "execution_count": 69,
   "metadata": {},
   "outputs": [
    {
     "data": {
      "text/plain": [
       "tensor([[[-0.0459,  0.0323,  0.0420,  ...,  0.0074,  0.0179,  0.0065],\n",
       "         [-0.0459,  0.0323,  0.0420,  ...,  0.0074,  0.0179,  0.0065],\n",
       "         [-0.0459,  0.0323,  0.0420,  ...,  0.0074,  0.0179,  0.0065],\n",
       "         ...,\n",
       "         [-0.0459,  0.0323,  0.0420,  ...,  0.0074,  0.0179,  0.0065],\n",
       "         [-0.0459,  0.0323,  0.0420,  ...,  0.0074,  0.0179,  0.0065],\n",
       "         [-0.0459,  0.0323,  0.0420,  ...,  0.0074,  0.0179,  0.0065]]],\n",
       "       device='cuda:0', grad_fn=<RepeatBackward>)"
      ]
     },
     "execution_count": 69,
     "metadata": {},
     "output_type": "execute_result"
    }
   ],
   "source": [
    "test2"
   ]
  },
  {
   "cell_type": "code",
   "execution_count": 67,
   "metadata": {},
   "outputs": [],
   "source": [
    "model2 = TimeDistributed(input).to(device)"
   ]
  },
  {
   "cell_type": "code",
   "execution_count": 20,
   "metadata": {},
   "outputs": [
    {
     "name": "stdout",
     "output_type": "stream",
     "text": [
      "Encoder(\n",
      "  (lstm): LSTM(1, 128, batch_first=True, dropout=0.3)\n",
      "  (fc): Linear(in_features=128, out_features=1, bias=True)\n",
      "  (timedis): TimeDistributed(\n",
      "    (module): Linear(in_features=128, out_features=1, bias=True)\n",
      "  )\n",
      ")\n"
     ]
    }
   ],
   "source": [
    "model = Encoder(input_size, hidden_size, num_layers, num_classes).to(device)\n",
    "print(model)\n"
   ]
  },
  {
   "cell_type": "code",
   "execution_count": 21,
   "metadata": {},
   "outputs": [],
   "source": [
    "num_epochs = 100\n",
    "\n",
    "optimizer = torch.optim.Adam(model.parameters(), lr=1e-2)\n",
    "criterion = nn.MSELoss().to(device)\n",
    "\n",
    "history = dict(train=[], val=[])\n",
    "train_losses = []\n",
    "val_losses = []\n",
    "\n",
    "scheduler = torch.optim.lr_scheduler.ReduceLROnPlateau(optimizer, \n",
    "                                                       patience = 10, \n",
    "                                                       factor =0.5, \n",
    "                                                       min_lr=1e-7, \n",
    "                                                       eps = 1e-8\n",
    "                                                      )"
   ]
  },
  {
   "cell_type": "code",
   "execution_count": 22,
   "metadata": {},
   "outputs": [],
   "source": [
    "x_train = x_train.to(device)\n",
    "y_train = y_train.to(device)\n",
    "x_val = x_val.to(device)\n",
    "y_val = y_val.to(device)"
   ]
  },
  {
   "cell_type": "code",
   "execution_count": 23,
   "metadata": {},
   "outputs": [
    {
     "name": "stdout",
     "output_type": "stream",
     "text": [
      "----------------------------------------------------------------------\n",
      "Epoch : 0  //  train loss : 0.0009286098647862673 //  val loss : 0.07203372567892075\n",
      "----------------------------------------------------------------------\n",
      "Epoch : 5  //  train loss : 0.015026281160923341 //  val loss : 0.015559979132376611\n",
      "----------------------------------------------------------------------\n",
      "Epoch : 10  //  train loss : 0.009133071903224018 //  val loss : 0.009199464455543255\n",
      "----------------------------------------------------------------------\n",
      "Epoch : 15  //  train loss : 0.006607614966924302 //  val loss : 0.006626641443290282\n",
      "----------------------------------------------------------------------\n",
      "Epoch : 20  //  train loss : 0.005283274698913807 //  val loss : 0.005276464887650772\n",
      "----------------------------------------------------------------------\n",
      "Epoch : 25  //  train loss : 0.004428614665252658 //  val loss : 0.004428571213233786\n",
      "----------------------------------------------------------------------\n",
      "Epoch : 30  //  train loss : 0.0038434671831407375 //  val loss : 0.003839978212190251\n",
      "----------------------------------------------------------------------\n",
      "Epoch : 35  //  train loss : 0.0034209947528628013 //  val loss : 0.0034178728237748146\n",
      "----------------------------------------------------------------------\n",
      "Epoch : 40  //  train loss : 0.003096751374669555 //  val loss : 0.003093809343692733\n",
      "----------------------------------------------------------------------\n",
      "Epoch : 45  //  train loss : 0.0028439892870981407 //  val loss : 0.0028410862888331\n",
      "----------------------------------------------------------------------\n",
      "Epoch : 50  //  train loss : 0.0026392631207629307 //  val loss : 0.0026367623381791452\n",
      "----------------------------------------------------------------------\n",
      "Epoch : 55  //  train loss : 0.0024713210607712555 //  val loss : 0.002468840683702313\n",
      "----------------------------------------------------------------------\n",
      "Epoch : 60  //  train loss : 0.0023306056171976276 //  val loss : 0.0023284055279247217\n",
      "----------------------------------------------------------------------\n",
      "Epoch : 65  //  train loss : 0.0022111308397584116 //  val loss : 0.002209061004440159\n",
      "----------------------------------------------------------------------\n",
      "Epoch : 70  //  train loss : 0.002108491080793434 //  val loss : 0.0021065501996289783\n",
      "----------------------------------------------------------------------\n",
      "Epoch : 75  //  train loss : 0.00201928531092371 //  val loss : 0.0020174816998309994\n",
      "----------------------------------------------------------------------\n",
      "Epoch : 80  //  train loss : 0.0019411016952671847 //  val loss : 0.0019394036347943325\n",
      "----------------------------------------------------------------------\n",
      "Epoch : 85  //  train loss : 0.0018719969849307957 //  val loss : 0.0018703956644289023\n",
      "----------------------------------------------------------------------\n",
      "Epoch : 90  //  train loss : 0.0018104776608307365 //  val loss : 0.001808964965895719\n",
      "----------------------------------------------------------------------\n",
      "Epoch : 95  //  train loss : 0.0017553681676266326 //  val loss : 0.0017539346669461036\n"
     ]
    }
   ],
   "source": [
    "train_losses = []\n",
    "val_losses = []\n",
    "\n",
    "\n",
    "for epoch in range(num_epochs):\n",
    "    \n",
    "    model = model.train()\n",
    "    \n",
    "    \n",
    "    \n",
    "    \n",
    "    \n",
    "    optimizer.zero_grad()\n",
    "    pred = model(x_train)\n",
    "    loss = criterion(torch.flatten(pred), torch.flatten(y_train))\n",
    "    \n",
    "    loss.backward()\n",
    "    optimizer.step()\n",
    "    \n",
    "    \n",
    "    train_losses.append(loss.item())\n",
    "    \n",
    "    \n",
    "    model = model.eval()\n",
    "    with torch.no_grad():\n",
    "        valid = model(x_val)\n",
    "        loss = criterion(torch.flatten(valid), torch.flatten(y_train))\n",
    "        val_losses.append(loss.item())\n",
    "    \n",
    "        \n",
    "    train_loss = np.mean(train_losses)\n",
    "    val_loss = np.mean(val_losses)\n",
    "    \n",
    "    history['train'].append(train_loss)\n",
    "    history['val'].append(val_loss) \n",
    "    \n",
    "    \n",
    "    if epoch % 5 == 0 :\n",
    "        print(\"----------------------------------------------------------------------\")\n",
    "        print(\"Epoch : {}  //  train loss : {} //  val loss : {}\".format(epoch, train_loss, val_loss))\n",
    "    "
   ]
  },
  {
   "cell_type": "code",
   "execution_count": 24,
   "metadata": {},
   "outputs": [],
   "source": [
    "y_val = y_val.cpu().flatten()\n",
    "valid = valid.cpu().flatten()"
   ]
  },
  {
   "cell_type": "code",
   "execution_count": 25,
   "metadata": {},
   "outputs": [
    {
     "data": {
      "text/plain": [
       "[<matplotlib.lines.Line2D at 0x12597207be0>]"
      ]
     },
     "execution_count": 25,
     "metadata": {},
     "output_type": "execute_result"
    },
    {
     "data": {
      "image/png": "[encoded data removed]",
      "text/plain": [
       "<Figure size 432x288 with 1 Axes>"
      ]
     },
     "metadata": {
      "needs_background": "light"
     },
     "output_type": "display_data"
    }
   ],
   "source": [
    "plt.plot(y_val)\n",
    "plt.plot(valid)\n",
    "\n"
   ]
  },
  {
   "cell_type": "code",
   "execution_count": null,
   "metadata": {},
   "outputs": [],
   "source": []
  },
  {
   "cell_type": "code",
   "execution_count": 92,
   "metadata": {},
   "outputs": [
    {
     "data": {
      "text/plain": [
       "tensor([-0.0001, -0.0001, -0.0001,  ..., -0.0001, -0.0001, -0.0001])"
      ]
     },
     "execution_count": 92,
     "metadata": {},
     "output_type": "execute_result"
    }
   ],
   "source": [
    "valid"
   ]
  }
 ],
 "metadata": {
  "kernelspec": {
   "display_name": "Python 3.8.13 ('base')",
   "language": "python",
   "name": "python3"
  },
  "language_info": {
   "codemirror_mode": {
    "name": "ipython",
    "version": 3
   },
   "file_extension": ".py",
   "mimetype": "text/x-python",
   "name": "python",
   "nbconvert_exporter": "python",
   "pygments_lexer": "ipython3",
   "version": "3.8.13"
  },
  "orig_nbformat": 4,
  "vscode": {
   "interpreter": {
    "hash": "ad575e24c15c06087fb462d7c5e47efec7c0e32510c3f36211133961dad93797"
   }
  }
 },
 "nbformat": 4,
 "nbformat_minor": 2
}
