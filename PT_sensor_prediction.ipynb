{
 "cells": [
  {
   "cell_type": "markdown",
   "metadata": {},
   "source": [
    "# 2022.08.01"
   ]
  },
  {
   "cell_type": "code",
   "execution_count": 485,
   "metadata": {},
   "outputs": [],
   "source": [
    "import pandas as pd\n",
    "import numpy as np\n",
    "import matplotlib.pyplot as plt\n",
    "import warnings\n",
    "import os\n",
    "import torch\n",
    "\n",
    "%matplotlib inline\n",
    "warnings.filterwarnings('ignore')"
   ]
  },
  {
   "cell_type": "code",
   "execution_count": 486,
   "metadata": {},
   "outputs": [],
   "source": [
    "device = torch.device('cuda' if torch.cuda.is_available() else 'cpu')"
   ]
  },
  {
   "cell_type": "code",
   "execution_count": 487,
   "metadata": {},
   "outputs": [
    {
     "name": "stdout",
     "output_type": "stream",
     "text": [
      "Device: cuda\n",
      "0\n"
     ]
    }
   ],
   "source": [
    "torch.cuda.get_device_name(0)\n",
    "print('Device:', device)\n",
    "print(torch.cuda.current_device())"
   ]
  },
  {
   "cell_type": "markdown",
   "metadata": {},
   "source": [
    "## Raw data info."
   ]
  },
  {
   "cell_type": "code",
   "execution_count": 488,
   "metadata": {},
   "outputs": [],
   "source": [
    "path = 'D:/data/새 폴더/_Noise data'\n",
    "num_of_files = 1\n",
    "num_of_datas = 11500"
   ]
  },
  {
   "cell_type": "code",
   "execution_count": 489,
   "metadata": {},
   "outputs": [
    {
     "data": {
      "text/plain": [
       "['Si_ 3 times0_1_10000_31426316.csv']"
      ]
     },
     "execution_count": 489,
     "metadata": {},
     "output_type": "execute_result"
    }
   ],
   "source": [
    "file_list = os.listdir(path)\n",
    "file_list_py = [file for file in file_list[:num_of_files] if file.endswith('.csv')]\n",
    "file_list_py"
   ]
  },
  {
   "cell_type": "code",
   "execution_count": 490,
   "metadata": {},
   "outputs": [],
   "source": [
    "train = pd.DataFrame()\n",
    "j = 0\n",
    "\n",
    "for i in file_list_py:\n",
    "    data = pd.read_csv(path+'/'+i,\n",
    "                      skiprows=11,\n",
    "                      nrows = num_of_datas,\n",
    "                      header = None,\n",
    "                      names =[j],\n",
    "                      encoding = 'cp949'\n",
    "                      )\n",
    "    j = j + 1 \n",
    "    train = pd.concat([train,data], axis = 1, sort=True)"
   ]
  },
  {
   "cell_type": "code",
   "execution_count": 491,
   "metadata": {},
   "outputs": [
    {
     "data": {
      "text/html": [
       "<div>\n",
       "<style scoped>\n",
       "    .dataframe tbody tr th:only-of-type {\n",
       "        vertical-align: middle;\n",
       "    }\n",
       "\n",
       "    .dataframe tbody tr th {\n",
       "        vertical-align: top;\n",
       "    }\n",
       "\n",
       "    .dataframe thead th {\n",
       "        text-align: right;\n",
       "    }\n",
       "</style>\n",
       "<table border=\"1\" class=\"dataframe\">\n",
       "  <thead>\n",
       "    <tr style=\"text-align: right;\">\n",
       "      <th></th>\n",
       "      <th>0</th>\n",
       "    </tr>\n",
       "  </thead>\n",
       "  <tbody>\n",
       "    <tr>\n",
       "      <th>0</th>\n",
       "      <td>-0.016022</td>\n",
       "    </tr>\n",
       "    <tr>\n",
       "      <th>1</th>\n",
       "      <td>-0.013428</td>\n",
       "    </tr>\n",
       "    <tr>\n",
       "      <th>2</th>\n",
       "      <td>-0.010834</td>\n",
       "    </tr>\n",
       "    <tr>\n",
       "      <th>3</th>\n",
       "      <td>-0.008240</td>\n",
       "    </tr>\n",
       "    <tr>\n",
       "      <th>4</th>\n",
       "      <td>-0.003815</td>\n",
       "    </tr>\n",
       "    <tr>\n",
       "      <th>...</th>\n",
       "      <td>...</td>\n",
       "    </tr>\n",
       "    <tr>\n",
       "      <th>11495</th>\n",
       "      <td>0.026093</td>\n",
       "    </tr>\n",
       "    <tr>\n",
       "      <th>11496</th>\n",
       "      <td>0.026093</td>\n",
       "    </tr>\n",
       "    <tr>\n",
       "      <th>11497</th>\n",
       "      <td>0.028381</td>\n",
       "    </tr>\n",
       "    <tr>\n",
       "      <th>11498</th>\n",
       "      <td>0.025177</td>\n",
       "    </tr>\n",
       "    <tr>\n",
       "      <th>11499</th>\n",
       "      <td>0.023346</td>\n",
       "    </tr>\n",
       "  </tbody>\n",
       "</table>\n",
       "<p>11500 rows × 1 columns</p>\n",
       "</div>"
      ],
      "text/plain": [
       "              0\n",
       "0     -0.016022\n",
       "1     -0.013428\n",
       "2     -0.010834\n",
       "3     -0.008240\n",
       "4     -0.003815\n",
       "...         ...\n",
       "11495  0.026093\n",
       "11496  0.026093\n",
       "11497  0.028381\n",
       "11498  0.025177\n",
       "11499  0.023346\n",
       "\n",
       "[11500 rows x 1 columns]"
      ]
     },
     "execution_count": 491,
     "metadata": {},
     "output_type": "execute_result"
    }
   ],
   "source": [
    "train"
   ]
  },
  {
   "cell_type": "markdown",
   "metadata": {},
   "source": [
    "## Data explo."
   ]
  },
  {
   "cell_type": "code",
   "execution_count": 559,
   "metadata": {},
   "outputs": [
    {
     "data": {
      "image/png": "[encoded data removed]",
      "text/plain": [
       "<Figure size 432x288 with 1 Axes>"
      ]
     },
     "metadata": {
      "needs_background": "light"
     },
     "output_type": "display_data"
    },
    {
     "data": {
      "text/plain": [
       "<Figure size 1440x360 with 0 Axes>"
      ]
     },
     "metadata": {},
     "output_type": "display_data"
    }
   ],
   "source": [
    "plt.plot(train)\n",
    "plt.figure(figsize=(20, 5))\n",
    "plt.show()"
   ]
  },
  {
   "cell_type": "markdown",
   "metadata": {},
   "source": [
    "## Test data load"
   ]
  },
  {
   "cell_type": "code",
   "execution_count": 493,
   "metadata": {},
   "outputs": [],
   "source": [
    "valid = pd.read_csv('D:/data/새 폴더/_Noise data/Si_ 3 times0_1_15_42000.csv',\n",
    "                    encoding = 'cp949', skiprows = 11, names = [0])"
   ]
  },
  {
   "cell_type": "code",
   "execution_count": 494,
   "metadata": {},
   "outputs": [
    {
     "data": {
      "text/html": [
       "<div>\n",
       "<style scoped>\n",
       "    .dataframe tbody tr th:only-of-type {\n",
       "        vertical-align: middle;\n",
       "    }\n",
       "\n",
       "    .dataframe tbody tr th {\n",
       "        vertical-align: top;\n",
       "    }\n",
       "\n",
       "    .dataframe thead th {\n",
       "        text-align: right;\n",
       "    }\n",
       "</style>\n",
       "<table border=\"1\" class=\"dataframe\">\n",
       "  <thead>\n",
       "    <tr style=\"text-align: right;\">\n",
       "      <th></th>\n",
       "      <th>0</th>\n",
       "    </tr>\n",
       "  </thead>\n",
       "  <tbody>\n",
       "    <tr>\n",
       "      <th>0</th>\n",
       "      <td>-0.014648</td>\n",
       "    </tr>\n",
       "    <tr>\n",
       "      <th>1</th>\n",
       "      <td>-0.014343</td>\n",
       "    </tr>\n",
       "    <tr>\n",
       "      <th>2</th>\n",
       "      <td>-0.014038</td>\n",
       "    </tr>\n",
       "    <tr>\n",
       "      <th>3</th>\n",
       "      <td>-0.013733</td>\n",
       "    </tr>\n",
       "    <tr>\n",
       "      <th>4</th>\n",
       "      <td>-0.014496</td>\n",
       "    </tr>\n",
       "    <tr>\n",
       "      <th>...</th>\n",
       "      <td>...</td>\n",
       "    </tr>\n",
       "    <tr>\n",
       "      <th>11495</th>\n",
       "      <td>-0.026703</td>\n",
       "    </tr>\n",
       "    <tr>\n",
       "      <th>11496</th>\n",
       "      <td>-0.035248</td>\n",
       "    </tr>\n",
       "    <tr>\n",
       "      <th>11497</th>\n",
       "      <td>-0.036316</td>\n",
       "    </tr>\n",
       "    <tr>\n",
       "      <th>11498</th>\n",
       "      <td>-0.032654</td>\n",
       "    </tr>\n",
       "    <tr>\n",
       "      <th>11499</th>\n",
       "      <td>-0.032501</td>\n",
       "    </tr>\n",
       "  </tbody>\n",
       "</table>\n",
       "<p>11500 rows × 1 columns</p>\n",
       "</div>"
      ],
      "text/plain": [
       "              0\n",
       "0     -0.014648\n",
       "1     -0.014343\n",
       "2     -0.014038\n",
       "3     -0.013733\n",
       "4     -0.014496\n",
       "...         ...\n",
       "11495 -0.026703\n",
       "11496 -0.035248\n",
       "11497 -0.036316\n",
       "11498 -0.032654\n",
       "11499 -0.032501\n",
       "\n",
       "[11500 rows x 1 columns]"
      ]
     },
     "execution_count": 494,
     "metadata": {},
     "output_type": "execute_result"
    }
   ],
   "source": [
    "valid = valid[:11500]\n",
    "valid"
   ]
  },
  {
   "cell_type": "markdown",
   "metadata": {},
   "source": [
    "## Data split (seq2seq)"
   ]
  },
  {
   "cell_type": "code",
   "execution_count": 495,
   "metadata": {},
   "outputs": [],
   "source": [
    "seq_len = 1000\n",
    "pred_len = num_of_datas - seq_len"
   ]
  },
  {
   "cell_type": "code",
   "execution_count": 496,
   "metadata": {},
   "outputs": [],
   "source": [
    "def truncate(x, train_len=seq_len, test_len=1):\n",
    "    in_, out_ = [], []\n",
    "    for i in range(len(x) - train_len - test_len +1):\n",
    "        in_.append(x[i:(i+train_len)])\n",
    "        out_.append(x[(i+train_len):(i+train_len+test_len)])\n",
    "    return np.array(in_), np.array(out_)"
   ]
  },
  {
   "cell_type": "code",
   "execution_count": 497,
   "metadata": {},
   "outputs": [],
   "source": [
    "x_train, y_train = truncate(train)\n",
    "x_val, y_val = truncate(valid)"
   ]
  },
  {
   "cell_type": "code",
   "execution_count": 498,
   "metadata": {},
   "outputs": [],
   "source": [
    "x_train = torch.Tensor(x_train)\n",
    "y_train = torch.Tensor(y_train)\n",
    "x_val = torch.Tensor(x_val)\n",
    "y_val = torch.Tensor(y_val)"
   ]
  },
  {
   "cell_type": "code",
   "execution_count": 499,
   "metadata": {},
   "outputs": [
    {
     "name": "stdout",
     "output_type": "stream",
     "text": [
      "x_train 사이즈 : torch.Size([10500, 1000, 1])\n",
      "y_train 사이즈 : torch.Size([10500, 1, 1])\n",
      "x_val 사이즈 : torch.Size([10500, 1000, 1])\n",
      "y_val 사이즈 : torch.Size([10500, 1, 1])\n"
     ]
    }
   ],
   "source": [
    "print(\"x_train 사이즈 : {}\".format(x_train.shape))\n",
    "print(\"y_train 사이즈 : {}\".format(y_train.shape))\n",
    "print(\"x_val 사이즈 : {}\".format(x_val.shape))\n",
    "print(\"y_val 사이즈 : {}\".format(y_val.shape))\n"
   ]
  },
  {
   "cell_type": "markdown",
   "metadata": {},
   "source": [
    "## Dataloader "
   ]
  },
  {
   "cell_type": "code",
   "execution_count": 500,
   "metadata": {},
   "outputs": [],
   "source": [
    "from torch.utils.data import TensorDataset\n",
    "from torch.utils.data import DataLoader\n"
   ]
  },
  {
   "cell_type": "code",
   "execution_count": 501,
   "metadata": {},
   "outputs": [],
   "source": [
    "batch_size = 100\n"
   ]
  },
  {
   "cell_type": "code",
   "execution_count": 502,
   "metadata": {},
   "outputs": [],
   "source": [
    "train_dataset = TensorDataset(x_train, y_train)\n",
    "val_dataset = TensorDataset(x_val, y_val)\n",
    "\n",
    "dataloader = DataLoader(train_dataset, \n",
    "                        batch_size=batch_size, \n",
    "                        shuffle= False)\n",
    "\n",
    "val_dataloader = DataLoader(train_dataset, \n",
    "                            batch_size=batch_size, \n",
    "                            shuffle= False)\n",
    "# len(dataloader)\n",
    "# dataiter = iter(dataloader)\n",
    "# data = dataiter.next()\n",
    "# features, labels = data\n",
    "# print(features.shape, labels.shape)"
   ]
  },
  {
   "cell_type": "markdown",
   "metadata": {},
   "source": [
    "## LSTM autoencoder model"
   ]
  },
  {
   "cell_type": "code",
   "execution_count": 503,
   "metadata": {},
   "outputs": [],
   "source": [
    "import torch.nn as nn\n",
    "from torch import optim\n",
    "import torch.nn.functional as F\n",
    "from fastprogress import master_bar, progress_bar\n",
    "from torch.autograd import Variable\n",
    "import pytorch_model_summary"
   ]
  },
  {
   "cell_type": "code",
   "execution_count": 504,
   "metadata": {},
   "outputs": [],
   "source": [
    "seq_len = x_train.shape[1]\n",
    "input_size = x_train.shape[2]\n",
    "hidden_size = 128\n",
    "num_layers = 1\n",
    "num_classes = 1 #y_train.shape[1]\n"
   ]
  },
  {
   "cell_type": "code",
   "execution_count": 505,
   "metadata": {},
   "outputs": [
    {
     "data": {
      "text/plain": [
       "torch.Size([10500, 1000, 1])"
      ]
     },
     "execution_count": 505,
     "metadata": {},
     "output_type": "execute_result"
    }
   ],
   "source": [
    "x_train.shape"
   ]
  },
  {
   "cell_type": "code",
   "execution_count": 506,
   "metadata": {},
   "outputs": [
    {
     "name": "stdout",
     "output_type": "stream",
     "text": [
      "torch.Size([100, 1000, 1]) torch.Size([100, 1, 1])\n"
     ]
    }
   ],
   "source": [
    "dataiter = iter(dataloader)\n",
    "data = dataiter.next()\n",
    "x_train, y_train = data\n",
    "print(x_train.shape, y_train.shape)"
   ]
  },
  {
   "cell_type": "markdown",
   "metadata": {},
   "source": [
    "## Encoder"
   ]
  },
  {
   "cell_type": "code",
   "execution_count": 507,
   "metadata": {},
   "outputs": [],
   "source": [
    "class Encoder(nn.Module):\n",
    "    def __init__(self, input_size, hidden_size, num_layers, num_classes, batch_size):\n",
    "        super(Encoder, self).__init__()\n",
    "        self.input_size = input_size\n",
    "        self.hidden_size = hidden_size\n",
    "        self.num_layers = num_layers\n",
    "        self.num_classes = num_classes\n",
    "        self.batch_size = batch_size\n",
    "            \n",
    "        self.lstm = nn.LSTM(input_size = input_size,\n",
    "                            hidden_size = hidden_size,\n",
    "                            num_layers = num_layers,\n",
    "                            batch_first = True,\n",
    "                            dropout = 0.3\n",
    "                            )\n",
    "        \n",
    "        self.Dense = nn.Linear(hidden_size, 1)\n",
    "        self.relu = nn.ReLU()\n",
    "        \n",
    "        \n",
    "    def forward(self, x):    \n",
    "        h_0 = Variable(torch.zeros(self.num_layers, batch_size, self.hidden_size)).to(device) #hidden state\n",
    "        c_0 = Variable(torch.zeros(self.num_layers, batch_size, self.hidden_size)).to(device) #internal state\n",
    "            \n",
    "        output, (last_h, last_c) = self.lstm(x, (h_0,c_0))\n",
    "        output = last_h[:,-1,:]        # out = self.relu(hn)\n",
    "        # out = self.Dense(out)\n",
    "        return output, last_h, last_c  \n",
    "            \n",
    "            "
   ]
  },
  {
   "cell_type": "markdown",
   "metadata": {},
   "source": [
    "## Decoder"
   ]
  },
  {
   "cell_type": "code",
   "execution_count": 508,
   "metadata": {},
   "outputs": [],
   "source": [
    "class Decoder(nn.Module):\n",
    "    def __init__(self, input_size, hidden_size, num_layers, num_classes):\n",
    "        super(Decoder, self).__init__()\n",
    "        self.input_size = input_size\n",
    "        self.hidden_size = hidden_size\n",
    "        self.num_layers = num_layers\n",
    "        self.num_classes = num_classes\n",
    "            \n",
    "        self.lstm2 = nn.LSTM(input_size = hidden_size,\n",
    "                             hidden_size = hidden_size,\n",
    "                             num_layers = num_layers,\n",
    "                             batch_first = True,\n",
    "                             dropout = 0.3\n",
    "                             )\n",
    "        \n",
    "        # self.output_layer = nn.Linear(2*self.hidden_size, num_classes)\n",
    "        # self.timedist = TimeDistributed(self.output_layer)\n",
    "        \n",
    "    def forward(self, x, last_h, last_c):    \n",
    "        # x = x.repeat(1, 1)\n",
    "        # hidden, cell state were recived from encoder layer\n",
    "        output, (last_h2, last_c2) = self.lstm2(x, (last_h, last_c))\n",
    "        output = last_h2[:,-1,:]\n",
    "        return output, last_h2, last_c2\n",
    "            \n",
    "            "
   ]
  },
  {
   "cell_type": "code",
   "execution_count": 509,
   "metadata": {},
   "outputs": [],
   "source": [
    "class TimeDistributed(nn.Module):\n",
    "    def __init__(self, module, batch_first=False):\n",
    "        super(TimeDistributed, self).__init__()\n",
    "        self.module = module\n",
    "        self.batch_first = batch_first\n",
    "\n",
    "    def forward(self, x):\n",
    "\n",
    "        if len(x.size()) <= 2:\n",
    "            return self.module(x)\n",
    "\n",
    "        # Squash samples and timesteps into a single axis\n",
    "        x_reshape = x.contiguous().view(-1, x.size(-1))  # (samples * timesteps, input_size)\n",
    "\n",
    "        y = self.module(x_reshape)\n",
    "\n",
    "        # We have to reshape Y\n",
    "        if self.batch_first:\n",
    "            y = y.contiguous().view(x.size(0), -1, y.size(-1))  # (samples, timesteps, output_size)\n",
    "        else:\n",
    "            y = y.view(-1, x.size(1), y.size(-1))  # (timesteps, samples, output_size)\n",
    "\n",
    "        return y"
   ]
  },
  {
   "cell_type": "code",
   "execution_count": 510,
   "metadata": {},
   "outputs": [],
   "source": [
    "class RecurrentAutoencoder(nn.Module):\n",
    "    \n",
    "      def __init__(self, input_size, hidden_size, num_layers, num_classes):\n",
    "        super(RecurrentAutoencoder, self).__init__()\n",
    "\n",
    "        self.encoder = Encoder(input_size, hidden_size, num_layers, num_classes, batch_size)\n",
    "        self.decoder = Decoder((input_size*hidden_size), \n",
    "                               hidden_size, \n",
    "                               num_layers,\n",
    "                               num_classes\n",
    "                               )\n",
    "        self.fc = nn.Linear(hidden_size, num_classes)\n",
    "        self.TimeDistributed = TimeDistributed(self.fc)\n",
    "        \n",
    "        \n",
    "      def forward(self, x):\n",
    "         x, last_h, last_c = self.encoder(x)\n",
    "         x = x.repeat(batch_size, 1, 1)   ## decoder input\n",
    "         \n",
    "         x, last_h2, _ = self.decoder(x, last_h, last_c) ## decoder input / hidden state / cell state\n",
    "         \n",
    "         return self.TimeDistributed(last_h2)"
   ]
  },
  {
   "cell_type": "markdown",
   "metadata": {},
   "source": [
    "## build model"
   ]
  },
  {
   "cell_type": "code",
   "execution_count": 511,
   "metadata": {},
   "outputs": [],
   "source": [
    "#################### information ##########################\n",
    "# encoder input = train_x\n",
    "# encoder output = output, hidden, cell\n",
    "\n",
    "# decoder input = (x, last_hidden, last_cell) -> use only last_h and last_c for input data\n",
    "                # x = [batch_size, num_feature, hidden_dim] // num_feature = 1, hidden_dim = 128\n",
    "                \n",
    "# decoder output = last_h2 // hidden_state[:,-1,:] (last hidden state) [num_features, batch_size, hidden_dim]\n",
    "\n",
    "# Dense input // timedistributed = "
   ]
  },
  {
   "cell_type": "code",
   "execution_count": 512,
   "metadata": {},
   "outputs": [],
   "source": [
    "# # len(dataloader)\n",
    "# dataiter = iter(dataloader)\n",
    "# data = dataiter.next()\n",
    "# x_train, y_train = data\n",
    "# print(x_train.shape, y_train.shape)"
   ]
  },
  {
   "cell_type": "code",
   "execution_count": 513,
   "metadata": {},
   "outputs": [],
   "source": [
    "model = RecurrentAutoencoder(input_size, hidden_size, num_layers, num_classes).to(device)\n",
    "# print(pytorch_model_summary.summary(model, torch.zeros(x_train.shape[0],\n",
    "#                                                        x_train.shape[1],\n",
    "#                                                        x_train.shape[2]), show_input= True))"
   ]
  },
  {
   "cell_type": "code",
   "execution_count": 563,
   "metadata": {},
   "outputs": [
    {
     "ename": "AttributeError",
     "evalue": "'int' object has no attribute 'to'",
     "output_type": "error",
     "traceback": [
      "\u001b[1;31m---------------------------------------------------------------------------\u001b[0m",
      "\u001b[1;31mAttributeError\u001b[0m                            Traceback (most recent call last)",
      "\u001b[1;32mc:\\Users\\TRL-HAN\\Desktop\\LSTM code_v2\\PT_sensor_prediction.ipynb 셀 39\u001b[0m in \u001b[0;36m<cell line: 1>\u001b[1;34m()\u001b[0m\n\u001b[1;32m----> <a href='vscode-notebook-cell:/c%3A/Users/TRL-HAN/Desktop/LSTM%20code_v2/PT_sensor_prediction.ipynb#ch0000079?line=0'>1</a>\u001b[0m \u001b[39mprint\u001b[39m(pytorch_model_summary\u001b[39m.\u001b[39msummary(model, torch\u001b[39m.\u001b[39mzeros(x_train\u001b[39m.\u001b[39;49mshape[\u001b[39m0\u001b[39;49m]\u001b[39m.\u001b[39;49mto(device),\n\u001b[0;32m      <a href='vscode-notebook-cell:/c%3A/Users/TRL-HAN/Desktop/LSTM%20code_v2/PT_sensor_prediction.ipynb#ch0000079?line=1'>2</a>\u001b[0m                                                        x_train\u001b[39m.\u001b[39mshape[\u001b[39m1\u001b[39m]\u001b[39m.\u001b[39mto(device),\n\u001b[0;32m      <a href='vscode-notebook-cell:/c%3A/Users/TRL-HAN/Desktop/LSTM%20code_v2/PT_sensor_prediction.ipynb#ch0000079?line=2'>3</a>\u001b[0m                                                        x_train\u001b[39m.\u001b[39mshape[\u001b[39m2\u001b[39m]\u001b[39m.\u001b[39mto(device)), show_input\u001b[39m=\u001b[39m \u001b[39mTrue\u001b[39;00m))\n",
      "\u001b[1;31mAttributeError\u001b[0m: 'int' object has no attribute 'to'"
     ]
    }
   ],
   "source": [
    "print(pytorch_model_summary.summary(model, torch.zeros(x_train.shape[0].to(device),\n",
    "                                                       x_train.shape[1].to(device),\n",
    "                                                       x_train.shape[2].to(device)), show_input= True))"
   ]
  },
  {
   "cell_type": "markdown",
   "metadata": {},
   "source": [
    "## model checking"
   ]
  },
  {
   "cell_type": "code",
   "execution_count": 514,
   "metadata": {},
   "outputs": [],
   "source": [
    "# out= model(x_train)\n",
    "# print(out.shape) "
   ]
  },
  {
   "cell_type": "markdown",
   "metadata": {},
   "source": [
    "## Traning"
   ]
  },
  {
   "cell_type": "code",
   "execution_count": 515,
   "metadata": {},
   "outputs": [],
   "source": [
    "num_epochs = 10\n",
    "\n",
    "optimizer = torch.optim.Adam(model.parameters(), lr=1e-2)\n",
    "criterion = nn.MSELoss().to(device)\n",
    "\n",
    "history = dict(train=[], val=[])\n"
   ]
  },
  {
   "cell_type": "code",
   "execution_count": 516,
   "metadata": {},
   "outputs": [
    {
     "name": "stdout",
     "output_type": "stream",
     "text": [
      "----------------------------------------------------------------------\n",
      "Epoch : 0  //  train loss : 0.0012797460416810022 //  val loss : 4.8899875582719685e-05\n",
      "----------------------------------------------------------------------\n",
      "Epoch : 1  //  train loss : 2.6398842384792045e-05 //  val loss : 1.823233073775468e-05\n",
      "----------------------------------------------------------------------\n",
      "Epoch : 2  //  train loss : 3.578516907942858e-05 //  val loss : 8.852176820038862e-05\n",
      "----------------------------------------------------------------------\n",
      "Epoch : 3  //  train loss : 4.056773781312153e-05 //  val loss : 1.3619383021467088e-05\n",
      "----------------------------------------------------------------------\n",
      "Epoch : 4  //  train loss : 1.3039758912435944e-05 //  val loss : 1.1327060565236025e-05\n",
      "----------------------------------------------------------------------\n",
      "Epoch : 5  //  train loss : 3.975803178729534e-05 //  val loss : 9.589074976420739e-05\n",
      "----------------------------------------------------------------------\n",
      "Epoch : 6  //  train loss : 3.206645080267446e-05 //  val loss : 1.2043720848201442e-05\n",
      "----------------------------------------------------------------------\n",
      "Epoch : 7  //  train loss : 1.1397382453045187e-05 //  val loss : 1.0589929392846811e-05\n",
      "----------------------------------------------------------------------\n",
      "Epoch : 8  //  train loss : 1.106599986434005e-05 //  val loss : 1.5210154595565872e-05\n",
      "----------------------------------------------------------------------\n",
      "Epoch : 9  //  train loss : 2.2296646529000663e-05 //  val loss : 1.728312150329917e-05\n"
     ]
    }
   ],
   "source": [
    "for epoch in (range(num_epochs)):\n",
    "    \n",
    "    train_losses = []\n",
    "    val_losses = []\n",
    "    i = 0\n",
    "    \n",
    "    for batch_idx, samples in enumerate(dataloader):\n",
    "        \n",
    "        # training\n",
    "        model = model.train()\n",
    "        \n",
    "        x_train, y_train = samples\n",
    "        \n",
    "        x_train = x_train.to(device)\n",
    "        y_train = y_train.to(device)  \n",
    "  \n",
    "                \n",
    "                \n",
    "        optimizer.zero_grad()\n",
    "        pred = model(x_train.to(device))\n",
    "        loss = criterion(torch.flatten(pred), torch.flatten(y_train))\n",
    "        \n",
    "        \n",
    "        loss.backward()\n",
    "        optimizer.step()\n",
    "        \n",
    "        train_losses.append(loss.item())\n",
    "        \n",
    "        \n",
    "        \n",
    "        #validation\n",
    "        \n",
    "        model = model.eval()\n",
    "        \n",
    "        # if i == 104:    \n",
    "            \n",
    "    for batch_idx, samples in enumerate(val_dataloader):\n",
    "        x_val, y_val = samples\n",
    "        x_val = x_val.to(device)\n",
    "        y_val = y_val.to(device)    \n",
    "        \n",
    "        with torch.no_grad():        \n",
    "            valid = model(x_val)\n",
    "            loss = criterion(torch.flatten(valid), torch.flatten(y_val))\n",
    "            val_losses.append(loss.item())\n",
    "        \n",
    "        # print(i)\n",
    "        # i += 1    \n",
    "        \n",
    "    train_loss = np.mean(train_losses)\n",
    "    val_loss = np.mean(val_losses)\n",
    "                  \n",
    "    history['train'].append(train_loss)\n",
    "    history['val'].append(val_loss)           \n",
    "\n",
    "    print(\"----------------------------------------------------------------------\")\n",
    "    print(\"Epoch : {}  //  train loss : {} //  val loss : {}\".format(epoch, train_loss, val_loss))\n",
    "    torch.save(model,'checkpoint/checkpoint_ep_%d.pt'%epoch)        \n",
    "        \n",
    "    "
   ]
  },
  {
   "cell_type": "code",
   "execution_count": 517,
   "metadata": {},
   "outputs": [
    {
     "name": "stdout",
     "output_type": "stream",
     "text": [
      "105 105\n"
     ]
    }
   ],
   "source": [
    "print(len(train_losses), len(val_losses))"
   ]
  },
  {
   "cell_type": "code",
   "execution_count": 564,
   "metadata": {},
   "outputs": [
    {
     "name": "stderr",
     "output_type": "stream",
     "text": [
      "No artists with labels found to put in legend.  Note that artists whose label start with an underscore are ignored when legend() is called with no argument.\n"
     ]
    },
    {
     "data": {
      "text/plain": [
       "<matplotlib.legend.Legend at 0x1cfbee69130>"
      ]
     },
     "execution_count": 564,
     "metadata": {},
     "output_type": "execute_result"
    },
    {
     "data": {
      "image/png": "[encoded data removed]",
      "text/plain": [
       "<Figure size 432x288 with 1 Axes>"
      ]
     },
     "metadata": {
      "needs_background": "light"
     },
     "output_type": "display_data"
    }
   ],
   "source": [
    "plt.plot(history['train'], 'b')\n",
    "plt.plot(history['val'], 'r')\n",
    "# plt.xlim(0, 3)\n",
    "plt.ylim(0, 0.0005)\n",
    "# plt.plot(history['val'], 'r')\n",
    "plt.ylabel('mse')\n",
    "plt.xlabel('epoch')\n",
    "plt.title('train vs. validation loss (mse)')\n",
    "plt.legend(loc = 'upper center', bbox_to_anchor=(0.5,-0.15), fancybox=True, shadow=False, ncol=2)\n"
   ]
  },
  {
   "cell_type": "code",
   "execution_count": 537,
   "metadata": {},
   "outputs": [],
   "source": [
    "model = torch.load('checkpoint/checkpoint_ep_8.pt')"
   ]
  },
  {
   "cell_type": "markdown",
   "metadata": {},
   "source": [
    "## Test result (Noise only)"
   ]
  },
  {
   "cell_type": "code",
   "execution_count": 538,
   "metadata": {},
   "outputs": [],
   "source": [
    "test = pd.read_csv('D:/data/새 폴더/_Noise data/Si_ 3 times0_1_56282_180119583.csv',encoding = 'cp949', skiprows = 11, names = [0])"
   ]
  },
  {
   "cell_type": "code",
   "execution_count": 539,
   "metadata": {},
   "outputs": [],
   "source": [
    "test = test[:11500]"
   ]
  },
  {
   "cell_type": "code",
   "execution_count": 540,
   "metadata": {},
   "outputs": [],
   "source": [
    "kk = test[1000:]"
   ]
  },
  {
   "cell_type": "code",
   "execution_count": 541,
   "metadata": {},
   "outputs": [],
   "source": [
    "X_test , y_test = truncate(test)\n",
    "X_test = torch.Tensor(X_test)\n",
    "y_test = torch.Tensor(y_test)\n",
    "KK = torch.Tensor(y_test)\n",
    "\n",
    "TestDataset = TensorDataset(X_test, y_test)\n",
    "TestLoader = DataLoader(TestDataset, \n",
    "                        batch_size=batch_size, \n",
    "                        shuffle= False)\n"
   ]
  },
  {
   "cell_type": "code",
   "execution_count": 542,
   "metadata": {},
   "outputs": [],
   "source": [
    "x = []\n",
    "for batch_idx, samples in enumerate(TestLoader):\n",
    "\n",
    "    X_test, y_test = samples\n",
    "    X_test = X_test.to(device)\n",
    "    y_test = y_test.to(device)\n",
    "    \n",
    "    test_prediction = model(X_test)\n",
    "    \n",
    "    y = test_prediction.cpu()\n",
    "    y = y.flatten()\n",
    "    y = y.detach().numpy()#.tolist()\n",
    "    x.append(y)\n",
    "    \n",
    "    "
   ]
  },
  {
   "cell_type": "code",
   "execution_count": 543,
   "metadata": {},
   "outputs": [
    {
     "data": {
      "text/plain": [
       "[<matplotlib.lines.Line2D at 0x1cfcec7d640>]"
      ]
     },
     "execution_count": 543,
     "metadata": {},
     "output_type": "execute_result"
    },
    {
     "data": {
      "image/png": "[encoded data removed]",
      "text/plain": [
       "<Figure size 432x288 with 1 Axes>"
      ]
     },
     "metadata": {
      "needs_background": "light"
     },
     "output_type": "display_data"
    }
   ],
   "source": [
    "k =np.array(x).flatten()\n",
    "# for i in range(150):\n",
    "#     if i ==0:\n",
    "#         k = x[0]\n",
    "\n",
    "plt.plot(k)\n"
   ]
  },
  {
   "cell_type": "code",
   "execution_count": 544,
   "metadata": {},
   "outputs": [
    {
     "data": {
      "text/plain": [
       "(3000.0, 4000.0)"
      ]
     },
     "execution_count": 544,
     "metadata": {},
     "output_type": "execute_result"
    },
    {
     "data": {
      "image/png": "[encoded data removed]",
      "text/plain": [
       "<Figure size 432x288 with 1 Axes>"
      ]
     },
     "metadata": {
      "needs_background": "light"
     },
     "output_type": "display_data"
    }
   ],
   "source": [
    "plt.plot(k)\n",
    "plt.plot(KK.numpy().flatten())\n",
    "L = 3000\n",
    "plt.xlim(L,L+1000)"
   ]
  },
  {
   "cell_type": "markdown",
   "metadata": {},
   "source": [
    "## Test result (Noise + friction)"
   ]
  },
  {
   "cell_type": "code",
   "execution_count": 545,
   "metadata": {},
   "outputs": [],
   "source": [
    "path = 'D:/data/새 폴더/Si_#3/새 폴더'\n",
    "path\n",
    "from pathlib import Path\n",
    "num_of_files = 0\n",
    "file_list = os.listdir(path)\n",
    "file_list_py = [os.path.join(path,file) for file in file_list if file.endswith('.csv')]\n",
    "file_list_py = sorted(file_list_py, key=os.path.getmtime)\n",
    "# file_list_py = [file for file in file_list[0:5] if file.endswith('.csv')]\n"
   ]
  },
  {
   "cell_type": "code",
   "execution_count": 546,
   "metadata": {},
   "outputs": [
    {
     "data": {
      "text/plain": [
       "[<matplotlib.lines.Line2D at 0x1cfbea84250>]"
      ]
     },
     "execution_count": 546,
     "metadata": {},
     "output_type": "execute_result"
    },
    {
     "data": {
      "image/png": "[encoded data removed]",
      "text/plain": [
       "<Figure size 432x288 with 1 Axes>"
      ]
     },
     "metadata": {
      "needs_background": "light"
     },
     "output_type": "display_data"
    }
   ],
   "source": [
    "file_list_py\n",
    "\n",
    "test = pd.read_csv(file_list_py[32991]\n",
    "                    ,encoding = 'cp949', skiprows = 11, names = [0])\n",
    "plt.plot(test)"
   ]
  },
  {
   "cell_type": "code",
   "execution_count": 547,
   "metadata": {},
   "outputs": [],
   "source": [
    "test = test[:11500]"
   ]
  },
  {
   "cell_type": "code",
   "execution_count": 548,
   "metadata": {},
   "outputs": [],
   "source": [
    "test = np.array(test)\n",
    "X_test , y_test = truncate(test)\n",
    "X_test = torch.Tensor(X_test)\n",
    "y_test = torch.Tensor(y_test)\n",
    "KK = torch.Tensor(y_test)"
   ]
  },
  {
   "cell_type": "code",
   "execution_count": 549,
   "metadata": {},
   "outputs": [],
   "source": [
    "TestDataset = TensorDataset(X_test, y_test)\n",
    "TestLoader = DataLoader(TestDataset, \n",
    "                        batch_size=batch_size, \n",
    "                        shuffle= False)"
   ]
  },
  {
   "cell_type": "code",
   "execution_count": 550,
   "metadata": {},
   "outputs": [],
   "source": [
    "x = []\n",
    "for batch_idx, samples in enumerate(TestLoader):\n",
    "\n",
    "    X_test, y_test = samples\n",
    "    X_test = X_test.to(device)\n",
    "    y_test = y_test.to(device)\n",
    "    \n",
    "    test_prediction = model(X_test)\n",
    "    \n",
    "    y = test_prediction.cpu()\n",
    "    y = y.flatten()\n",
    "    y = y.detach().numpy()#.tolist()\n",
    "    x.append(y)\n",
    "    \n",
    "    "
   ]
  },
  {
   "cell_type": "code",
   "execution_count": 551,
   "metadata": {},
   "outputs": [
    {
     "data": {
      "text/plain": [
       "[<matplotlib.lines.Line2D at 0x1cf94b7a340>]"
      ]
     },
     "execution_count": 551,
     "metadata": {},
     "output_type": "execute_result"
    },
    {
     "data": {
      "image/png": "[encoded data removed]",
      "text/plain": [
       "<Figure size 432x288 with 1 Axes>"
      ]
     },
     "metadata": {
      "needs_background": "light"
     },
     "output_type": "display_data"
    }
   ],
   "source": [
    "k =np.array(x).flatten()\n",
    "# for i in range(150):\n",
    "#     if i ==0:\n",
    "#         k = x[0]\n",
    "\n",
    "plt.plot(k)\n"
   ]
  },
  {
   "cell_type": "code",
   "execution_count": 552,
   "metadata": {},
   "outputs": [
    {
     "data": {
      "image/png": "[encoded data removed]",
      "text/plain": [
       "<Figure size 432x288 with 1 Axes>"
      ]
     },
     "metadata": {
      "needs_background": "light"
     },
     "output_type": "display_data"
    }
   ],
   "source": [
    "plt.plot(k)\n",
    "plt.plot(KK.numpy().flatten())\n",
    "L = 1000\n",
    "# plt.xlim(L,L+1000)\n"
   ]
  }
 ],
 "metadata": {
  "kernelspec": {
   "display_name": "Python 3.8.13 ('base')",
   "language": "python",
   "name": "python3"
  },
  "language_info": {
   "codemirror_mode": {
    "name": "ipython",
    "version": 3
   },
   "file_extension": ".py",
   "mimetype": "text/x-python",
   "name": "python",
   "nbconvert_exporter": "python",
   "pygments_lexer": "ipython3",
   "version": "3.8.13"
  },
  "orig_nbformat": 4,
  "vscode": {
   "interpreter": {
    "hash": "ad575e24c15c06087fb462d7c5e47efec7c0e32510c3f36211133961dad93797"
   }
  }
 },
 "nbformat": 4,
 "nbformat_minor": 2
}
