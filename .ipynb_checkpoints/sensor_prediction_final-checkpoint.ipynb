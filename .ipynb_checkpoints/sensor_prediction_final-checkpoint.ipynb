{
 "cells": [
  {
   "cell_type": "markdown",
   "id": "f7e36bfc",
   "metadata": {
    "id": "f7e36bfc"
   },
   "source": [
    "## Module Import "
   ]
  },
  {
   "cell_type": "code",
   "execution_count": 1,
   "id": "f521f332",
   "metadata": {
    "id": "f521f332"
   },
   "outputs": [],
   "source": [
    "import pandas as pd\n",
    "import numpy as np\n",
    "import matplotlib.pyplot as plt\n",
    "import seaborn as sns\n",
    "import warnings\n",
    "import os\n",
    "\n",
    "%matplotlib inline\n",
    "warnings.filterwarnings('ignore')"
   ]
  },
  {
   "cell_type": "markdown",
   "id": "e16fabe0",
   "metadata": {
    "id": "e16fabe0"
   },
   "source": [
    "## Data Load"
   ]
  },
  {
   "cell_type": "code",
   "execution_count": 2,
   "id": "848fa5c2",
   "metadata": {},
   "outputs": [],
   "source": [
    "train = pd.read_csv('./data/Si_ 3 times0_1_11_30000.csv',\n",
    "                    encoding = 'cp949', skiprows = 11, names = [0])"
   ]
  },
  {
   "cell_type": "code",
   "execution_count": 3,
   "id": "e4ff19b2",
   "metadata": {},
   "outputs": [
    {
     "data": {
      "text/html": [
       "<div>\n",
       "<style scoped>\n",
       "    .dataframe tbody tr th:only-of-type {\n",
       "        vertical-align: middle;\n",
       "    }\n",
       "\n",
       "    .dataframe tbody tr th {\n",
       "        vertical-align: top;\n",
       "    }\n",
       "\n",
       "    .dataframe thead th {\n",
       "        text-align: right;\n",
       "    }\n",
       "</style>\n",
       "<table border=\"1\" class=\"dataframe\">\n",
       "  <thead>\n",
       "    <tr style=\"text-align: right;\">\n",
       "      <th></th>\n",
       "      <th>0</th>\n",
       "    </tr>\n",
       "  </thead>\n",
       "  <tbody>\n",
       "    <tr>\n",
       "      <th>0</th>\n",
       "      <td>0.016479</td>\n",
       "    </tr>\n",
       "    <tr>\n",
       "      <th>1</th>\n",
       "      <td>0.015259</td>\n",
       "    </tr>\n",
       "    <tr>\n",
       "      <th>2</th>\n",
       "      <td>0.014038</td>\n",
       "    </tr>\n",
       "    <tr>\n",
       "      <th>3</th>\n",
       "      <td>0.012817</td>\n",
       "    </tr>\n",
       "    <tr>\n",
       "      <th>4</th>\n",
       "      <td>0.015869</td>\n",
       "    </tr>\n",
       "    <tr>\n",
       "      <th>...</th>\n",
       "      <td>...</td>\n",
       "    </tr>\n",
       "    <tr>\n",
       "      <th>15355</th>\n",
       "      <td>0.000000</td>\n",
       "    </tr>\n",
       "    <tr>\n",
       "      <th>15356</th>\n",
       "      <td>0.000000</td>\n",
       "    </tr>\n",
       "    <tr>\n",
       "      <th>15357</th>\n",
       "      <td>0.000000</td>\n",
       "    </tr>\n",
       "    <tr>\n",
       "      <th>15358</th>\n",
       "      <td>0.000000</td>\n",
       "    </tr>\n",
       "    <tr>\n",
       "      <th>15359</th>\n",
       "      <td>0.000000</td>\n",
       "    </tr>\n",
       "  </tbody>\n",
       "</table>\n",
       "<p>15360 rows × 1 columns</p>\n",
       "</div>"
      ],
      "text/plain": [
       "              0\n",
       "0      0.016479\n",
       "1      0.015259\n",
       "2      0.014038\n",
       "3      0.012817\n",
       "4      0.015869\n",
       "...         ...\n",
       "15355  0.000000\n",
       "15356  0.000000\n",
       "15357  0.000000\n",
       "15358  0.000000\n",
       "15359  0.000000\n",
       "\n",
       "[15360 rows x 1 columns]"
      ]
     },
     "execution_count": 3,
     "metadata": {},
     "output_type": "execute_result"
    }
   ],
   "source": [
    "train"
   ]
  },
  {
   "cell_type": "markdown",
   "id": "8d8f27f8",
   "metadata": {
    "id": "8d8f27f8"
   },
   "source": [
    "## EDA"
   ]
  },
  {
   "cell_type": "code",
   "execution_count": 4,
   "id": "b619a499",
   "metadata": {
    "colab": {
     "base_uri": "https://localhost:8080/",
     "height": 283
    },
    "id": "b619a499",
    "outputId": "16ceeee9-0fac-4221-9343-b1f2e3e7ce14"
   },
   "outputs": [
    {
     "data": {
      "image/png": "[encoded data removed]",
      "text/plain": [
       "<Figure size 432x288 with 1 Axes>"
      ]
     },
     "metadata": {
      "needs_background": "light"
     },
     "output_type": "display_data"
    },
    {
     "data": {
      "text/plain": [
       "<Figure size 576x72 with 0 Axes>"
      ]
     },
     "metadata": {},
     "output_type": "display_data"
    }
   ],
   "source": [
    "plt.plot(train)\n",
    "plt.figure(figsize=(8, 1))\n",
    "plt.show()"
   ]
  },
  {
   "cell_type": "markdown",
   "id": "f1691d35",
   "metadata": {
    "id": "f1691d35"
   },
   "source": [
    "* 유사한 구간에서 0이되는 것을 확인"
   ]
  },
  {
   "cell_type": "code",
   "execution_count": 5,
   "id": "0db2442b",
   "metadata": {},
   "outputs": [
    {
     "data": {
      "text/html": [
       "<div>\n",
       "<style scoped>\n",
       "    .dataframe tbody tr th:only-of-type {\n",
       "        vertical-align: middle;\n",
       "    }\n",
       "\n",
       "    .dataframe tbody tr th {\n",
       "        vertical-align: top;\n",
       "    }\n",
       "\n",
       "    .dataframe thead th {\n",
       "        text-align: right;\n",
       "    }\n",
       "</style>\n",
       "<table border=\"1\" class=\"dataframe\">\n",
       "  <thead>\n",
       "    <tr style=\"text-align: right;\">\n",
       "      <th></th>\n",
       "      <th>0</th>\n",
       "    </tr>\n",
       "  </thead>\n",
       "  <tbody>\n",
       "    <tr>\n",
       "      <th>11500</th>\n",
       "      <td>0.0</td>\n",
       "    </tr>\n",
       "    <tr>\n",
       "      <th>11501</th>\n",
       "      <td>0.0</td>\n",
       "    </tr>\n",
       "    <tr>\n",
       "      <th>11502</th>\n",
       "      <td>0.0</td>\n",
       "    </tr>\n",
       "    <tr>\n",
       "      <th>11503</th>\n",
       "      <td>0.0</td>\n",
       "    </tr>\n",
       "    <tr>\n",
       "      <th>11504</th>\n",
       "      <td>0.0</td>\n",
       "    </tr>\n",
       "    <tr>\n",
       "      <th>...</th>\n",
       "      <td>...</td>\n",
       "    </tr>\n",
       "    <tr>\n",
       "      <th>15355</th>\n",
       "      <td>0.0</td>\n",
       "    </tr>\n",
       "    <tr>\n",
       "      <th>15356</th>\n",
       "      <td>0.0</td>\n",
       "    </tr>\n",
       "    <tr>\n",
       "      <th>15357</th>\n",
       "      <td>0.0</td>\n",
       "    </tr>\n",
       "    <tr>\n",
       "      <th>15358</th>\n",
       "      <td>0.0</td>\n",
       "    </tr>\n",
       "    <tr>\n",
       "      <th>15359</th>\n",
       "      <td>0.0</td>\n",
       "    </tr>\n",
       "  </tbody>\n",
       "</table>\n",
       "<p>3860 rows × 1 columns</p>\n",
       "</div>"
      ],
      "text/plain": [
       "         0\n",
       "11500  0.0\n",
       "11501  0.0\n",
       "11502  0.0\n",
       "11503  0.0\n",
       "11504  0.0\n",
       "...    ...\n",
       "15355  0.0\n",
       "15356  0.0\n",
       "15357  0.0\n",
       "15358  0.0\n",
       "15359  0.0\n",
       "\n",
       "[3860 rows x 1 columns]"
      ]
     },
     "execution_count": 5,
     "metadata": {},
     "output_type": "execute_result"
    }
   ],
   "source": [
    "train[11500:]"
   ]
  },
  {
   "cell_type": "markdown",
   "id": "1263097f",
   "metadata": {},
   "source": [
    "* 0인 부분 제거"
   ]
  },
  {
   "cell_type": "code",
   "execution_count": 6,
   "id": "4145a8f8",
   "metadata": {},
   "outputs": [],
   "source": [
    "train = train[:11500]"
   ]
  },
  {
   "cell_type": "code",
   "execution_count": 7,
   "id": "7ab77808",
   "metadata": {},
   "outputs": [
    {
     "data": {
      "text/html": [
       "<div>\n",
       "<style scoped>\n",
       "    .dataframe tbody tr th:only-of-type {\n",
       "        vertical-align: middle;\n",
       "    }\n",
       "\n",
       "    .dataframe tbody tr th {\n",
       "        vertical-align: top;\n",
       "    }\n",
       "\n",
       "    .dataframe thead th {\n",
       "        text-align: right;\n",
       "    }\n",
       "</style>\n",
       "<table border=\"1\" class=\"dataframe\">\n",
       "  <thead>\n",
       "    <tr style=\"text-align: right;\">\n",
       "      <th></th>\n",
       "      <th>0</th>\n",
       "    </tr>\n",
       "  </thead>\n",
       "  <tbody>\n",
       "    <tr>\n",
       "      <th>0</th>\n",
       "      <td>0.016479</td>\n",
       "    </tr>\n",
       "    <tr>\n",
       "      <th>1</th>\n",
       "      <td>0.015259</td>\n",
       "    </tr>\n",
       "    <tr>\n",
       "      <th>2</th>\n",
       "      <td>0.014038</td>\n",
       "    </tr>\n",
       "    <tr>\n",
       "      <th>3</th>\n",
       "      <td>0.012817</td>\n",
       "    </tr>\n",
       "    <tr>\n",
       "      <th>4</th>\n",
       "      <td>0.015869</td>\n",
       "    </tr>\n",
       "    <tr>\n",
       "      <th>...</th>\n",
       "      <td>...</td>\n",
       "    </tr>\n",
       "    <tr>\n",
       "      <th>11495</th>\n",
       "      <td>0.050049</td>\n",
       "    </tr>\n",
       "    <tr>\n",
       "      <th>11496</th>\n",
       "      <td>0.049438</td>\n",
       "    </tr>\n",
       "    <tr>\n",
       "      <th>11497</th>\n",
       "      <td>0.050201</td>\n",
       "    </tr>\n",
       "    <tr>\n",
       "      <th>11498</th>\n",
       "      <td>0.048218</td>\n",
       "    </tr>\n",
       "    <tr>\n",
       "      <th>11499</th>\n",
       "      <td>0.044556</td>\n",
       "    </tr>\n",
       "  </tbody>\n",
       "</table>\n",
       "<p>11500 rows × 1 columns</p>\n",
       "</div>"
      ],
      "text/plain": [
       "              0\n",
       "0      0.016479\n",
       "1      0.015259\n",
       "2      0.014038\n",
       "3      0.012817\n",
       "4      0.015869\n",
       "...         ...\n",
       "11495  0.050049\n",
       "11496  0.049438\n",
       "11497  0.050201\n",
       "11498  0.048218\n",
       "11499  0.044556\n",
       "\n",
       "[11500 rows x 1 columns]"
      ]
     },
     "execution_count": 7,
     "metadata": {},
     "output_type": "execute_result"
    }
   ],
   "source": [
    "train"
   ]
  },
  {
   "cell_type": "markdown",
   "id": "07731880",
   "metadata": {
    "id": "07731880"
   },
   "source": [
    "* 11500 seq부터 모든 값이 0"
   ]
  },
  {
   "cell_type": "markdown",
   "id": "3bb99705",
   "metadata": {
    "id": "3bb99705"
   },
   "source": [
    "### Test data Load"
   ]
  },
  {
   "cell_type": "code",
   "execution_count": 8,
   "id": "f453c260",
   "metadata": {},
   "outputs": [],
   "source": [
    "valid = pd.read_csv('./data/Si_ 3 times0_1_15_42000.csv',\n",
    "                    encoding = 'cp949', skiprows = 11, names = [0])"
   ]
  },
  {
   "cell_type": "code",
   "execution_count": 9,
   "id": "fc96f46a",
   "metadata": {},
   "outputs": [
    {
     "data": {
      "text/html": [
       "<div>\n",
       "<style scoped>\n",
       "    .dataframe tbody tr th:only-of-type {\n",
       "        vertical-align: middle;\n",
       "    }\n",
       "\n",
       "    .dataframe tbody tr th {\n",
       "        vertical-align: top;\n",
       "    }\n",
       "\n",
       "    .dataframe thead th {\n",
       "        text-align: right;\n",
       "    }\n",
       "</style>\n",
       "<table border=\"1\" class=\"dataframe\">\n",
       "  <thead>\n",
       "    <tr style=\"text-align: right;\">\n",
       "      <th></th>\n",
       "      <th>0</th>\n",
       "    </tr>\n",
       "  </thead>\n",
       "  <tbody>\n",
       "    <tr>\n",
       "      <th>0</th>\n",
       "      <td>-0.014648</td>\n",
       "    </tr>\n",
       "    <tr>\n",
       "      <th>1</th>\n",
       "      <td>-0.014343</td>\n",
       "    </tr>\n",
       "    <tr>\n",
       "      <th>2</th>\n",
       "      <td>-0.014038</td>\n",
       "    </tr>\n",
       "    <tr>\n",
       "      <th>3</th>\n",
       "      <td>-0.013733</td>\n",
       "    </tr>\n",
       "    <tr>\n",
       "      <th>4</th>\n",
       "      <td>-0.014496</td>\n",
       "    </tr>\n",
       "    <tr>\n",
       "      <th>...</th>\n",
       "      <td>...</td>\n",
       "    </tr>\n",
       "    <tr>\n",
       "      <th>15355</th>\n",
       "      <td>0.000000</td>\n",
       "    </tr>\n",
       "    <tr>\n",
       "      <th>15356</th>\n",
       "      <td>0.000000</td>\n",
       "    </tr>\n",
       "    <tr>\n",
       "      <th>15357</th>\n",
       "      <td>0.000000</td>\n",
       "    </tr>\n",
       "    <tr>\n",
       "      <th>15358</th>\n",
       "      <td>0.000000</td>\n",
       "    </tr>\n",
       "    <tr>\n",
       "      <th>15359</th>\n",
       "      <td>0.000000</td>\n",
       "    </tr>\n",
       "  </tbody>\n",
       "</table>\n",
       "<p>15360 rows × 1 columns</p>\n",
       "</div>"
      ],
      "text/plain": [
       "              0\n",
       "0     -0.014648\n",
       "1     -0.014343\n",
       "2     -0.014038\n",
       "3     -0.013733\n",
       "4     -0.014496\n",
       "...         ...\n",
       "15355  0.000000\n",
       "15356  0.000000\n",
       "15357  0.000000\n",
       "15358  0.000000\n",
       "15359  0.000000\n",
       "\n",
       "[15360 rows x 1 columns]"
      ]
     },
     "execution_count": 9,
     "metadata": {},
     "output_type": "execute_result"
    }
   ],
   "source": [
    "valid"
   ]
  },
  {
   "cell_type": "code",
   "execution_count": 10,
   "id": "c5822cca",
   "metadata": {},
   "outputs": [],
   "source": [
    "valid = valid[:11500]"
   ]
  },
  {
   "cell_type": "markdown",
   "id": "d71ae4bc",
   "metadata": {
    "id": "d71ae4bc"
   },
   "source": [
    "#### Scaling은 성능 하락으로 제거"
   ]
  },
  {
   "cell_type": "markdown",
   "id": "22dab074",
   "metadata": {
    "id": "22dab074"
   },
   "source": [
    "### Sequence split"
   ]
  },
  {
   "cell_type": "code",
   "execution_count": 11,
   "id": "7d668cfd",
   "metadata": {
    "id": "7d668cfd"
   },
   "outputs": [],
   "source": [
    "def truncate(x, train_len=20, test_len=1):\n",
    "    in_, out_ = [], []\n",
    "    for i in range(len(x) - train_len - test_len +1):\n",
    "        in_.append(x[i:(i+train_len)].tolist())\n",
    "        out_.append(x[(i+train_len):(i+train_len+test_len)].tolist())\n",
    "    return np.array(in_), np.array(out_)"
   ]
  },
  {
   "cell_type": "markdown",
   "id": "d09bdbc6",
   "metadata": {
    "id": "d09bdbc6"
   },
   "source": [
    "### train 분할"
   ]
  },
  {
   "cell_type": "code",
   "execution_count": 12,
   "id": "a02192e7",
   "metadata": {},
   "outputs": [],
   "source": [
    "train = np.array(train)"
   ]
  },
  {
   "cell_type": "code",
   "execution_count": 13,
   "id": "nNlwJXuLLzfP",
   "metadata": {
    "id": "nNlwJXuLLzfP"
   },
   "outputs": [],
   "source": [
    "valid = np.array(valid)"
   ]
  },
  {
   "cell_type": "code",
   "execution_count": 14,
   "id": "07f3c2b4",
   "metadata": {
    "id": "07f3c2b4"
   },
   "outputs": [],
   "source": [
    "X_train , y_train = truncate(train)"
   ]
  },
  {
   "cell_type": "code",
   "execution_count": 15,
   "id": "4b7048a2",
   "metadata": {
    "colab": {
     "base_uri": "https://localhost:8080/"
    },
    "id": "4b7048a2",
    "outputId": "87090a84-2412-4886-ffb4-0ad8307d2c28"
   },
   "outputs": [
    {
     "data": {
      "text/plain": [
       "array([[0.01647949],\n",
       "       [0.01525879],\n",
       "       [0.01403809],\n",
       "       [0.01281738],\n",
       "       [0.01586914],\n",
       "       [0.01724243],\n",
       "       [0.01434326],\n",
       "       [0.01235962],\n",
       "       [0.01327515],\n",
       "       [0.01617432],\n",
       "       [0.0163269 ],\n",
       "       [0.01602173],\n",
       "       [0.01541138],\n",
       "       [0.01342773],\n",
       "       [0.01342773],\n",
       "       [0.01419067],\n",
       "       [0.01037598],\n",
       "       [0.00823975],\n",
       "       [0.0100708 ],\n",
       "       [0.01266479]])"
      ]
     },
     "execution_count": 15,
     "metadata": {},
     "output_type": "execute_result"
    }
   ],
   "source": [
    "X_train[0]"
   ]
  },
  {
   "cell_type": "code",
   "execution_count": 16,
   "id": "ae8afe68",
   "metadata": {},
   "outputs": [
    {
     "data": {
      "text/plain": [
       "array([[0.01266479]])"
      ]
     },
     "execution_count": 16,
     "metadata": {},
     "output_type": "execute_result"
    }
   ],
   "source": [
    "y_train[0]"
   ]
  },
  {
   "cell_type": "code",
   "execution_count": 17,
   "id": "fe6574be",
   "metadata": {},
   "outputs": [
    {
     "data": {
      "text/plain": [
       "array([[0.01525879],\n",
       "       [0.01403809],\n",
       "       [0.01281738],\n",
       "       [0.01586914],\n",
       "       [0.01724243],\n",
       "       [0.01434326],\n",
       "       [0.01235962],\n",
       "       [0.01327515],\n",
       "       [0.01617432],\n",
       "       [0.0163269 ],\n",
       "       [0.01602173],\n",
       "       [0.01541138],\n",
       "       [0.01342773],\n",
       "       [0.01342773],\n",
       "       [0.01419067],\n",
       "       [0.01037598],\n",
       "       [0.00823975],\n",
       "       [0.0100708 ],\n",
       "       [0.01266479],\n",
       "       [0.01266479]])"
      ]
     },
     "execution_count": 17,
     "metadata": {},
     "output_type": "execute_result"
    }
   ],
   "source": [
    "X_train[1]"
   ]
  },
  {
   "cell_type": "code",
   "execution_count": 18,
   "id": "487b84d3",
   "metadata": {
    "colab": {
     "base_uri": "https://localhost:8080/"
    },
    "id": "487b84d3",
    "outputId": "f9a9787c-388e-4391-cfa6-c1e2c88cc049"
   },
   "outputs": [
    {
     "data": {
      "text/plain": [
       "20"
      ]
     },
     "execution_count": 18,
     "metadata": {},
     "output_type": "execute_result"
    }
   ],
   "source": [
    "len(X_train[0])"
   ]
  },
  {
   "cell_type": "code",
   "execution_count": 19,
   "id": "37467031",
   "metadata": {
    "colab": {
     "base_uri": "https://localhost:8080/"
    },
    "id": "37467031",
    "outputId": "ae782f22-3f24-457f-93fc-8efbc9ab1f78"
   },
   "outputs": [
    {
     "data": {
      "text/plain": [
       "1"
      ]
     },
     "execution_count": 19,
     "metadata": {},
     "output_type": "execute_result"
    }
   ],
   "source": [
    "len(y_train[0])"
   ]
  },
  {
   "cell_type": "code",
   "execution_count": 20,
   "id": "d4a8ed48",
   "metadata": {
    "id": "d4a8ed48"
   },
   "outputs": [],
   "source": [
    "X_valid , y_valid = truncate(valid)"
   ]
  },
  {
   "cell_type": "code",
   "execution_count": 21,
   "id": "8e91c818",
   "metadata": {
    "colab": {
     "base_uri": "https://localhost:8080/"
    },
    "id": "8e91c818",
    "outputId": "fefec73d-604c-46ce-b37b-505d0c3b7292"
   },
   "outputs": [
    {
     "data": {
      "text/plain": [
       "20"
      ]
     },
     "execution_count": 21,
     "metadata": {},
     "output_type": "execute_result"
    }
   ],
   "source": [
    "len(X_valid[0])"
   ]
  },
  {
   "cell_type": "code",
   "execution_count": 22,
   "id": "828229ff",
   "metadata": {
    "colab": {
     "base_uri": "https://localhost:8080/"
    },
    "id": "828229ff",
    "outputId": "0dfa56a1-a4cc-4e67-b7be-08e971fc5301"
   },
   "outputs": [
    {
     "data": {
      "text/plain": [
       "1"
      ]
     },
     "execution_count": 22,
     "metadata": {},
     "output_type": "execute_result"
    }
   ],
   "source": [
    "len(y_valid[0])"
   ]
  },
  {
   "cell_type": "code",
   "execution_count": 23,
   "id": "c4deb7c2",
   "metadata": {
    "id": "c4deb7c2"
   },
   "outputs": [],
   "source": [
    "X_train = X_train.reshape(-1, 20, 1)\n",
    "y_train = y_train.reshape(-1, 1, 1)\n",
    "X_valid = X_valid.reshape(-1, 20, 1)\n",
    "y_valid = y_valid.reshape(-1, 1, 1)"
   ]
  },
  {
   "cell_type": "code",
   "execution_count": 24,
   "id": "ef8f4265",
   "metadata": {
    "colab": {
     "base_uri": "https://localhost:8080/"
    },
    "id": "ef8f4265",
    "outputId": "30260c1e-f6e5-4d5a-b023-e9876573d994"
   },
   "outputs": [
    {
     "name": "stdout",
     "output_type": "stream",
     "text": [
      "(11480, 20, 1) (11480, 1, 1) (11480, 20, 1) (11480, 1, 1)\n"
     ]
    }
   ],
   "source": [
    "print(X_train.shape, y_train.shape, X_valid.shape, y_valid.shape)"
   ]
  },
  {
   "cell_type": "code",
   "execution_count": 25,
   "id": "99ba6cd5",
   "metadata": {
    "colab": {
     "base_uri": "https://localhost:8080/",
     "height": 265
    },
    "id": "99ba6cd5",
    "outputId": "e42525ae-ef5f-4add-9a51-f453f4027107"
   },
   "outputs": [
    {
     "data": {
      "image/png": "[encoded data removed]",
      "text/plain": [
       "<Figure size 432x288 with 1 Axes>"
      ]
     },
     "metadata": {
      "needs_background": "light"
     },
     "output_type": "display_data"
    }
   ],
   "source": [
    "plt.plot(X_train[0])\n",
    "plt.show()"
   ]
  },
  {
   "cell_type": "markdown",
   "id": "277160f0",
   "metadata": {
    "id": "277160f0"
   },
   "source": [
    "## Model"
   ]
  },
  {
   "cell_type": "code",
   "execution_count": 26,
   "id": "d727df0c",
   "metadata": {
    "id": "d727df0c"
   },
   "outputs": [],
   "source": [
    "from tensorflow.keras.models import Sequential, Model, load_model\n",
    "from tensorflow.keras.layers import LSTM, Dense, RepeatVector, TimeDistributed, Input, BatchNormalization, multiply, concatenate, Flatten, Activation, dot  \n",
    "from tensorflow.keras.optimizers import Adam\n",
    "from tensorflow.keras.utils import plot_model\n",
    "from tensorflow.keras.callbacks import EarlyStopping\n",
    "from keras.regularizers import l2"
   ]
  },
  {
   "cell_type": "code",
   "execution_count": 27,
   "id": "15100713",
   "metadata": {
    "id": "15100713"
   },
   "outputs": [],
   "source": [
    "n_hidden = 100"
   ]
  },
  {
   "cell_type": "code",
   "execution_count": 28,
   "id": "24c0744c",
   "metadata": {
    "colab": {
     "base_uri": "https://localhost:8080/"
    },
    "id": "24c0744c",
    "outputId": "ffa8b610-978c-4dab-a931-d425342f2d20"
   },
   "outputs": [
    {
     "name": "stdout",
     "output_type": "stream",
     "text": [
      "KerasTensor(type_spec=TensorSpec(shape=(None, 20, 1), dtype=tf.float32, name='input_1'), name='input_1', description=\"created by layer 'input_1'\")\n",
      "KerasTensor(type_spec=TensorSpec(shape=(None, 1, 1), dtype=tf.float32, name='input_2'), name='input_2', description=\"created by layer 'input_2'\")\n"
     ]
    }
   ],
   "source": [
    "input_train = Input(shape=(X_train.shape[1], X_train.shape[2]))\n",
    "output_train = Input(shape=(y_train.shape[1], X_train.shape[2]))\n",
    "print(input_train)\n",
    "print(output_train)"
   ]
  },
  {
   "cell_type": "code",
   "execution_count": 29,
   "id": "2df30cf3",
   "metadata": {
    "colab": {
     "base_uri": "https://localhost:8080/"
    },
    "id": "2df30cf3",
    "outputId": "6754c95d-094f-48bd-8a64-dddeefac0eba"
   },
   "outputs": [
    {
     "name": "stdout",
     "output_type": "stream",
     "text": [
      "WARNING:tensorflow:Layer lstm will not use cuDNN kernels since it doesn't meet the criteria. It will use a generic GPU kernel as fallback when running on GPU.\n"
     ]
    }
   ],
   "source": [
    "encoder_last_h1, encoder_last_h2, encoder_last_c = LSTM(n_hidden,\n",
    "                                          activation='relu', \n",
    "                                          dropout=0.3, \n",
    "                                          recurrent_dropout=0.3,\n",
    "                                          return_sequences=False,\n",
    "                                          return_state=True)(input_train)"
   ]
  },
  {
   "cell_type": "code",
   "execution_count": 30,
   "id": "3db26598",
   "metadata": {},
   "outputs": [
    {
     "data": {
      "text/plain": [
       "1"
      ]
     },
     "execution_count": 30,
     "metadata": {},
     "output_type": "execute_result"
    }
   ],
   "source": [
    "output_train.shape[1]"
   ]
  },
  {
   "cell_type": "code",
   "execution_count": 31,
   "id": "798029a8",
   "metadata": {},
   "outputs": [],
   "source": [
    "decoder = RepeatVector(output_train.shape[1])(encoder_last_h1)"
   ]
  },
  {
   "cell_type": "code",
   "execution_count": 32,
   "id": "3a0907aa",
   "metadata": {},
   "outputs": [
    {
     "data": {
      "text/plain": [
       "<KerasTensor: shape=(None, 1, 100) dtype=float32 (created by layer 'repeat_vector')>"
      ]
     },
     "execution_count": 32,
     "metadata": {},
     "output_type": "execute_result"
    }
   ],
   "source": [
    "decoder"
   ]
  },
  {
   "cell_type": "code",
   "execution_count": 33,
   "id": "5f2515de",
   "metadata": {
    "colab": {
     "base_uri": "https://localhost:8080/"
    },
    "id": "5f2515de",
    "outputId": "2f92bbbf-6815-42b5-c94a-155444da7598"
   },
   "outputs": [
    {
     "name": "stdout",
     "output_type": "stream",
     "text": [
      "WARNING:tensorflow:Layer lstm_1 will not use cuDNN kernels since it doesn't meet the criteria. It will use a generic GPU kernel as fallback when running on GPU.\n",
      "KerasTensor(type_spec=TensorSpec(shape=(None, 1, 100), dtype=tf.float32, name=None), name='lstm_1/transpose_1:0', description=\"created by layer 'lstm_1'\")\n"
     ]
    }
   ],
   "source": [
    "decoder = LSTM(n_hidden,\n",
    "               activation='relu', \n",
    "               dropout=0.3, \n",
    "               recurrent_dropout=0.3,\n",
    "               recurrent_regularizer=l2(0.01),\n",
    "               return_sequences=True,\n",
    "               return_state=False)(decoder, initial_state=[encoder_last_h1, encoder_last_c])\n",
    "\n",
    "print(decoder)"
   ]
  },
  {
   "cell_type": "code",
   "execution_count": 34,
   "id": "86dcae85",
   "metadata": {
    "colab": {
     "base_uri": "https://localhost:8080/"
    },
    "id": "86dcae85",
    "outputId": "7890ca7d-0c6a-4a55-ad69-69acb46e6357"
   },
   "outputs": [
    {
     "name": "stdout",
     "output_type": "stream",
     "text": [
      "KerasTensor(type_spec=TensorSpec(shape=(None, 1, 1), dtype=tf.float32, name=None), name='time_distributed/Reshape_1:0', description=\"created by layer 'time_distributed'\")\n"
     ]
    }
   ],
   "source": [
    "out= TimeDistributed(Dense(output_train.shape[2]))(decoder)\n",
    "print(out)"
   ]
  },
  {
   "cell_type": "code",
   "execution_count": 35,
   "id": "de39addb",
   "metadata": {
    "colab": {
     "base_uri": "https://localhost:8080/"
    },
    "id": "de39addb",
    "outputId": "44a4f32c-ccb3-4a16-fdd2-d0b10db16695"
   },
   "outputs": [
    {
     "name": "stdout",
     "output_type": "stream",
     "text": [
      "Model: \"model\"\n",
      "__________________________________________________________________________________________________\n",
      "Layer (type)                    Output Shape         Param #     Connected to                     \n",
      "==================================================================================================\n",
      "input_1 (InputLayer)            [(None, 20, 1)]      0                                            \n",
      "__________________________________________________________________________________________________\n",
      "lstm (LSTM)                     [(None, 100), (None, 40800       input_1[0][0]                    \n",
      "__________________________________________________________________________________________________\n",
      "repeat_vector (RepeatVector)    (None, 1, 100)       0           lstm[0][0]                       \n",
      "__________________________________________________________________________________________________\n",
      "lstm_1 (LSTM)                   (None, 1, 100)       80400       repeat_vector[0][0]              \n",
      "                                                                 lstm[0][0]                       \n",
      "                                                                 lstm[0][2]                       \n",
      "__________________________________________________________________________________________________\n",
      "time_distributed (TimeDistribut (None, 1, 1)         101         lstm_1[0][0]                     \n",
      "==================================================================================================\n",
      "Total params: 121,301\n",
      "Trainable params: 121,301\n",
      "Non-trainable params: 0\n",
      "__________________________________________________________________________________________________\n"
     ]
    }
   ],
   "source": [
    "model = Model(inputs = input_train, outputs = out)\n",
    "opt = Adam(learning_rate=0.01, )\n",
    "# gradient cliping : https://kh-kim.gitbook.io/natural-language-processing-with-pytorch/00-cover-6/05-gradient-clipping\n",
    "model.compile(loss='mean_squared_error', optimizer = opt, metrics = ['mae'])\n",
    "model.summary()"
   ]
  },
  {
   "cell_type": "code",
   "execution_count": 36,
   "id": "ab884941",
   "metadata": {
    "colab": {
     "base_uri": "https://localhost:8080/"
    },
    "id": "ab884941",
    "outputId": "9e95b60c-7ca6-4002-9c9b-cedf40182a8d"
   },
   "outputs": [
    {
     "name": "stdout",
     "output_type": "stream",
     "text": [
      "Epoch 1/30\n",
      "180/180 [==============================] - 9s 36ms/step - loss: 0.0246 - mae: 0.0081 - val_loss: 4.2258e-05 - val_mae: 0.0052\n",
      "Epoch 2/30\n",
      "180/180 [==============================] - 6s 34ms/step - loss: 5.2871e-05 - mae: 0.0055 - val_loss: 4.1173e-05 - val_mae: 0.0051\n",
      "Epoch 3/30\n",
      "180/180 [==============================] - 6s 35ms/step - loss: 4.7776e-05 - mae: 0.0052 - val_loss: 3.5455e-05 - val_mae: 0.0047\n",
      "Epoch 4/30\n",
      "180/180 [==============================] - 6s 34ms/step - loss: 4.1635e-05 - mae: 0.0049 - val_loss: 3.4481e-05 - val_mae: 0.0047\n",
      "Epoch 5/30\n",
      "180/180 [==============================] - 6s 35ms/step - loss: 3.8998e-05 - mae: 0.0047 - val_loss: 4.8740e-05 - val_mae: 0.0055\n",
      "Epoch 6/30\n",
      "180/180 [==============================] - 6s 35ms/step - loss: 3.3830e-05 - mae: 0.0045 - val_loss: 3.3800e-05 - val_mae: 0.0046\n",
      "Epoch 7/30\n",
      "180/180 [==============================] - 6s 34ms/step - loss: 2.9132e-05 - mae: 0.0042 - val_loss: 3.0791e-05 - val_mae: 0.0044\n",
      "Epoch 8/30\n",
      "180/180 [==============================] - 6s 35ms/step - loss: 3.6210e-05 - mae: 0.0041 - val_loss: 4.0999e-05 - val_mae: 0.0047\n",
      "Epoch 9/30\n",
      "180/180 [==============================] - 6s 35ms/step - loss: 3.2631e-05 - mae: 0.0039 - val_loss: 5.0603e-05 - val_mae: 0.0053\n",
      "Epoch 10/30\n",
      "180/180 [==============================] - 6s 35ms/step - loss: 3.3554e-05 - mae: 0.0039 - val_loss: 5.6397e-05 - val_mae: 0.0059\n",
      "Epoch 11/30\n",
      "180/180 [==============================] - 6s 35ms/step - loss: 2.7507e-05 - mae: 0.0038 - val_loss: 5.8350e-05 - val_mae: 0.0060\n",
      "Epoch 12/30\n",
      "180/180 [==============================] - 6s 35ms/step - loss: 2.5855e-05 - mae: 0.0037 - val_loss: 3.3967e-05 - val_mae: 0.0045\n"
     ]
    }
   ],
   "source": [
    "es = EarlyStopping(monitor='val_loss', mode='min', patience = 5)\n",
    "# early stopping\n",
    "history = model.fit(X_train, y_train, validation_data=(X_valid, y_valid),\n",
    "                    epochs=30, verbose = 1 , callbacks=[es],\n",
    "                    batch_size=64)"
   ]
  },
  {
   "cell_type": "code",
   "execution_count": 37,
   "id": "ac5b26ff",
   "metadata": {
    "id": "ac5b26ff"
   },
   "outputs": [],
   "source": [
    "train_mae = history.history['mae']\n",
    "valid_mae = history.history['val_mae']"
   ]
  },
  {
   "cell_type": "code",
   "execution_count": 38,
   "id": "195107f3",
   "metadata": {
    "colab": {
     "base_uri": "https://localhost:8080/",
     "height": 320
    },
    "id": "195107f3",
    "outputId": "c26ad4ad-ba74-45a3-d504-65577136f235"
   },
   "outputs": [
    {
     "data": {
      "image/png": "[encoded data removed]",
      "text/plain": [
       "<Figure size 432x288 with 1 Axes>"
      ]
     },
     "metadata": {
      "needs_background": "light"
     },
     "output_type": "display_data"
    }
   ],
   "source": [
    "plt.plot(train_mae, label='train mae')\n",
    "plt.plot(valid_mae, label='validation mae')\n",
    "plt.ylabel('mae')\n",
    "plt.xlabel('epoch')\n",
    "plt.title('train vs. validation accuracy (mae)')\n",
    "plt.legend(loc = 'upper center', bbox_to_anchor=(0.5,-0.15), fancybox=True, shadow=False, ncol=2)\n",
    "plt.show()"
   ]
  },
  {
   "cell_type": "markdown",
   "id": "0e61f2ca",
   "metadata": {
    "id": "0e61f2ca"
   },
   "source": [
    "## test"
   ]
  },
  {
   "cell_type": "code",
   "execution_count": 39,
   "id": "1ab80594",
   "metadata": {
    "colab": {
     "base_uri": "https://localhost:8080/",
     "height": 327
    },
    "id": "1ab80594",
    "outputId": "b908e915-ea30-4cc2-fff5-f24e3f7d2a13"
   },
   "outputs": [],
   "source": [
    "test = pd.read_csv('data/test/Si_ 3 times0_1_16_45000.csv',encoding = 'cp949', skiprows = 11, names = [0])"
   ]
  },
  {
   "cell_type": "code",
   "execution_count": 40,
   "id": "78bb7b13",
   "metadata": {
    "id": "78bb7b13"
   },
   "outputs": [
    {
     "data": {
      "text/html": [
       "<div>\n",
       "<style scoped>\n",
       "    .dataframe tbody tr th:only-of-type {\n",
       "        vertical-align: middle;\n",
       "    }\n",
       "\n",
       "    .dataframe tbody tr th {\n",
       "        vertical-align: top;\n",
       "    }\n",
       "\n",
       "    .dataframe thead th {\n",
       "        text-align: right;\n",
       "    }\n",
       "</style>\n",
       "<table border=\"1\" class=\"dataframe\">\n",
       "  <thead>\n",
       "    <tr style=\"text-align: right;\">\n",
       "      <th></th>\n",
       "      <th>0</th>\n",
       "    </tr>\n",
       "  </thead>\n",
       "  <tbody>\n",
       "    <tr>\n",
       "      <th>0</th>\n",
       "      <td>0.003052</td>\n",
       "    </tr>\n",
       "    <tr>\n",
       "      <th>1</th>\n",
       "      <td>0.007019</td>\n",
       "    </tr>\n",
       "    <tr>\n",
       "      <th>2</th>\n",
       "      <td>0.010986</td>\n",
       "    </tr>\n",
       "    <tr>\n",
       "      <th>3</th>\n",
       "      <td>0.014954</td>\n",
       "    </tr>\n",
       "    <tr>\n",
       "      <th>4</th>\n",
       "      <td>0.014343</td>\n",
       "    </tr>\n",
       "    <tr>\n",
       "      <th>...</th>\n",
       "      <td>...</td>\n",
       "    </tr>\n",
       "    <tr>\n",
       "      <th>15355</th>\n",
       "      <td>0.000000</td>\n",
       "    </tr>\n",
       "    <tr>\n",
       "      <th>15356</th>\n",
       "      <td>0.000000</td>\n",
       "    </tr>\n",
       "    <tr>\n",
       "      <th>15357</th>\n",
       "      <td>0.000000</td>\n",
       "    </tr>\n",
       "    <tr>\n",
       "      <th>15358</th>\n",
       "      <td>0.000000</td>\n",
       "    </tr>\n",
       "    <tr>\n",
       "      <th>15359</th>\n",
       "      <td>0.000000</td>\n",
       "    </tr>\n",
       "  </tbody>\n",
       "</table>\n",
       "<p>15360 rows × 1 columns</p>\n",
       "</div>"
      ],
      "text/plain": [
       "              0\n",
       "0      0.003052\n",
       "1      0.007019\n",
       "2      0.010986\n",
       "3      0.014954\n",
       "4      0.014343\n",
       "...         ...\n",
       "15355  0.000000\n",
       "15356  0.000000\n",
       "15357  0.000000\n",
       "15358  0.000000\n",
       "15359  0.000000\n",
       "\n",
       "[15360 rows x 1 columns]"
      ]
     },
     "execution_count": 40,
     "metadata": {},
     "output_type": "execute_result"
    }
   ],
   "source": [
    "test"
   ]
  },
  {
   "cell_type": "code",
   "execution_count": 41,
   "id": "66aef160",
   "metadata": {},
   "outputs": [],
   "source": [
    "test = np.array(test)"
   ]
  },
  {
   "cell_type": "code",
   "execution_count": 42,
   "id": "10ef96a3",
   "metadata": {
    "id": "10ef96a3"
   },
   "outputs": [],
   "source": [
    "X_test , y_test = truncate(test)"
   ]
  },
  {
   "cell_type": "code",
   "execution_count": 43,
   "id": "66f0944f",
   "metadata": {
    "id": "66f0944f"
   },
   "outputs": [],
   "source": [
    "test_prediction = model.predict(X_test)"
   ]
  },
  {
   "cell_type": "code",
   "execution_count": 44,
   "id": "3d4e2622",
   "metadata": {},
   "outputs": [],
   "source": [
    "prediction = test_prediction.squeeze()"
   ]
  },
  {
   "cell_type": "code",
   "execution_count": 45,
   "id": "4ae0a80f",
   "metadata": {},
   "outputs": [
    {
     "data": {
      "text/plain": [
       "15340"
      ]
     },
     "execution_count": 45,
     "metadata": {},
     "output_type": "execute_result"
    }
   ],
   "source": [
    "len(prediction)"
   ]
  },
  {
   "cell_type": "code",
   "execution_count": 46,
   "id": "3a36104b",
   "metadata": {},
   "outputs": [
    {
     "data": {
      "text/plain": [
       "15360"
      ]
     },
     "execution_count": 46,
     "metadata": {},
     "output_type": "execute_result"
    }
   ],
   "source": [
    "len(test)"
   ]
  },
  {
   "cell_type": "code",
   "execution_count": 47,
   "id": "5fb27eb3",
   "metadata": {},
   "outputs": [
    {
     "data": {
      "text/plain": [
       "[<matplotlib.lines.Line2D at 0x7f5fd8104cc0>]"
      ]
     },
     "execution_count": 47,
     "metadata": {},
     "output_type": "execute_result"
    },
    {
     "data": {
      "image/png": "[encoded data removed]",
      "text/plain": [
       "<Figure size 432x288 with 1 Axes>"
      ]
     },
     "metadata": {
      "needs_background": "light"
     },
     "output_type": "display_data"
    }
   ],
   "source": [
    "plt.plot(test[:15340])"
   ]
  },
  {
   "cell_type": "code",
   "execution_count": 48,
   "id": "4a0dcb6d",
   "metadata": {},
   "outputs": [
    {
     "data": {
      "text/plain": [
       "[<matplotlib.lines.Line2D at 0x7f5f7c6b20f0>]"
      ]
     },
     "execution_count": 48,
     "metadata": {},
     "output_type": "execute_result"
    },
    {
     "data": {
      "image/png": "[encoded data removed]",
      "text/plain": [
       "<Figure size 432x288 with 1 Axes>"
      ]
     },
     "metadata": {
      "needs_background": "light"
     },
     "output_type": "display_data"
    }
   ],
   "source": [
    "plt.plot(prediction)"
   ]
  },
  {
   "cell_type": "markdown",
   "id": "2e3f7663",
   "metadata": {},
   "source": [
    "### 일부 구간 확인"
   ]
  },
  {
   "cell_type": "code",
   "execution_count": 49,
   "id": "ec1ae83e",
   "metadata": {},
   "outputs": [
    {
     "data": {
      "image/png": "[encoded data removed]",
      "text/plain": [
       "<Figure size 432x288 with 1 Axes>"
      ]
     },
     "metadata": {
      "needs_background": "light"
     },
     "output_type": "display_data"
    }
   ],
   "source": [
    "plt.plot(test[20:1020])\n",
    "plt.plot(prediction[:1000], color= 'red')\n",
    "plt.show()"
   ]
  },
  {
   "cell_type": "code",
   "execution_count": 50,
   "id": "b3827bc4",
   "metadata": {},
   "outputs": [
    {
     "data": {
      "image/png": "[encoded data removed]",
      "text/plain": [
       "<Figure size 432x288 with 1 Axes>"
      ]
     },
     "metadata": {
      "needs_background": "light"
     },
     "output_type": "display_data"
    }
   ],
   "source": [
    "plt.plot(test[1020:2020])\n",
    "plt.plot(prediction[1000:2000], color= 'red')\n",
    "plt.show()"
   ]
  }
 ],
 "metadata": {
  "accelerator": "GPU",
  "colab": {
   "collapsed_sections": [],
   "name": "서윤sensor_prediction-small (1).ipynb",
   "provenance": []
  },
  "gpuClass": "standard",
  "kernelspec": {
   "display_name": "Python 3 (ipykernel)",
   "language": "python",
   "name": "python3"
  },
  "language_info": {
   "codemirror_mode": {
    "name": "ipython",
    "version": 3
   },
   "file_extension": ".py",
   "mimetype": "text/x-python",
   "name": "python",
   "nbconvert_exporter": "python",
   "pygments_lexer": "ipython3",
   "version": "3.8.8"
  },
  "varInspector": {
   "cols": {
    "lenName": 16,
    "lenType": 16,
    "lenVar": 40
   },
   "kernels_config": {
    "python": {
     "delete_cmd_postfix": "",
     "delete_cmd_prefix": "del ",
     "library": "var_list.py",
     "varRefreshCmd": "print(var_dic_list())"
    },
    "r": {
     "delete_cmd_postfix": ") ",
     "delete_cmd_prefix": "rm(",
     "library": "var_list.r",
     "varRefreshCmd": "cat(var_dic_list()) "
    }
   },
   "types_to_exclude": [
    "module",
    "function",
    "builtin_function_or_method",
    "instance",
    "_Feature"
   ],
   "window_display": false
  }
 },
 "nbformat": 4,
 "nbformat_minor": 5
}
